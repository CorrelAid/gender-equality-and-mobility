{
 "cells": [
  {
   "cell_type": "code",
   "execution_count": 180,
   "metadata": {},
   "outputs": [],
   "source": [
    "#For fitting models\n",
    "import statsmodels.formula.api as smf\n",
    "import statsmodels.api as sm\n",
    "#Used for some additional statistics\n",
    "import scipy.stats as stats\n",
    "import pandas as pd\n",
    "import numpy as np\n",
    "import math\n",
    "#Used for descriping statistical models and data matrices\n",
    "#Here, we just use the dmatrices function to create the design matrix for the model\n",
    "from patsy import dmatrices\n",
    "#For diagnostic plots\n",
    "import matplotlib\n",
    "import matplotlib.pyplot as plt"
   ]
  },
  {
   "cell_type": "markdown",
   "metadata": {},
   "source": [
    "## Load and initial processing of data"
   ]
  },
  {
   "cell_type": "code",
   "execution_count": 181,
   "metadata": {},
   "outputs": [],
   "source": [
    "#Load...\n",
    "trip_data = pd.read_csv(r'..\\data\\interim\\trips.csv', dtype = {'VORIHORAINI':str, 'VDESHORAFIN':str})\n",
    "\n",
    "#Convert transport to categories\n",
    "trip_data['mode'] = trip_data['MODO_PRIORITARIO']\n",
    "trip_data.loc[trip_data.MODO_PRIORITARIO < 10, \"mode\"] = \"public transport\"\n",
    "trip_data.loc[(trip_data.MODO_PRIORITARIO > 9) & (trip_data.MODO_PRIORITARIO < 17), \"mode\"] = \"car\"\n",
    "trip_data.loc[(trip_data.MODO_PRIORITARIO > 16) & (trip_data.MODO_PRIORITARIO < 24), \"mode\"] = \"other\"\n",
    "trip_data.loc[trip_data.MODO_PRIORITARIO == 24, \"mode\"] = \"walk\"\n",
    "\n",
    "sex_dict  = {1: \"male\", 2: \"female\"}\n",
    "\n",
    "trip_data = (trip_data\n",
    "             #Remove records with 0 distance\n",
    "             [trip_data.DISTANCIA_VIAJE != 0]\n",
    "             #Drop rows where our focal cols are NA\n",
    "             [['C2SEXO', 'mode', 'VORIHORAINI', 'VDESHORAFIN', 'DISTANCIA_VIAJE', 'ELE_G_POND_ESC2']]\n",
    "             .dropna()\n",
    "             #Rename to useful names\n",
    "             .rename(columns = {\"C2SEXO\": \"sex\",\n",
    "                                \"VORIHORAINI\" : \"start_time\", \"VDESHORAFIN\" : \"end_time\",\n",
    "                                \"DISTANCIA_VIAJE\" : \"distance\", \"ELE_G_POND_ESC2\" : 'weight'})\n",
    "             #Recode sex\n",
    "             .replace({'sex': sex_dict})\n",
    "             .reset_index())"
   ]
  },
  {
   "cell_type": "code",
   "execution_count": 182,
   "metadata": {},
   "outputs": [],
   "source": [
    "\n",
    "\n",
    "#Pad times to all have nchar = 4\n",
    "trip_data['start_time'] = trip_data['start_time'].apply(lambda x:'{:0>4}'.format(x))\n",
    "trip_data['end_time'] = trip_data['end_time'].apply(lambda x:'{:0>4}'.format(x))"
   ]
  },
  {
   "cell_type": "code",
   "execution_count": 183,
   "metadata": {},
   "outputs": [],
   "source": [
    "#Turn strings into decimal hours (e.g. 0030 = 0.5, 2515 = 25.25)\n",
    "trip_data['start_time'] = trip_data['start_time'].apply(lambda x: int(x[:-2]) + int(x[2:])/60)\n",
    "trip_data['end_time'] = trip_data['end_time'].apply(lambda x: int(x[:-2]) + int(x[2:])/60)\n",
    "#Calculate duration in hrs\n",
    "trip_data['duration'] = trip_data['end_time'] - trip_data['start_time']\n",
    "\n",
    "#Remove cases with 0 duration\n",
    "trip_data = trip_data[trip_data.duration != 0]\n",
    "\n",
    "#Calculate speed (km/hr)\n",
    "trip_data['speed'] = trip_data['distance']/trip_data['duration']"
   ]
  },
  {
   "cell_type": "code",
   "execution_count": 184,
   "metadata": {
    "scrolled": true
   },
   "outputs": [
    {
     "data": {
      "text/html": [
       "<div>\n",
       "<style scoped>\n",
       "    .dataframe tbody tr th:only-of-type {\n",
       "        vertical-align: middle;\n",
       "    }\n",
       "\n",
       "    .dataframe tbody tr th {\n",
       "        vertical-align: top;\n",
       "    }\n",
       "\n",
       "    .dataframe thead th {\n",
       "        text-align: right;\n",
       "    }\n",
       "</style>\n",
       "<table border=\"1\" class=\"dataframe\">\n",
       "  <thead>\n",
       "    <tr style=\"text-align: right;\">\n",
       "      <th></th>\n",
       "      <th>index</th>\n",
       "      <th>sex</th>\n",
       "      <th>mode</th>\n",
       "      <th>start_time</th>\n",
       "      <th>end_time</th>\n",
       "      <th>distance</th>\n",
       "      <th>weight</th>\n",
       "      <th>duration</th>\n",
       "      <th>speed</th>\n",
       "    </tr>\n",
       "  </thead>\n",
       "  <tbody>\n",
       "    <tr>\n",
       "      <th>0</th>\n",
       "      <td>0</td>\n",
       "      <td>male</td>\n",
       "      <td>car</td>\n",
       "      <td>8.000000</td>\n",
       "      <td>8.500000</td>\n",
       "      <td>6.660582</td>\n",
       "      <td>66.304668</td>\n",
       "      <td>0.500000</td>\n",
       "      <td>13.321164</td>\n",
       "    </tr>\n",
       "    <tr>\n",
       "      <th>1</th>\n",
       "      <td>1</td>\n",
       "      <td>male</td>\n",
       "      <td>car</td>\n",
       "      <td>18.000000</td>\n",
       "      <td>18.500000</td>\n",
       "      <td>6.660582</td>\n",
       "      <td>66.304668</td>\n",
       "      <td>0.500000</td>\n",
       "      <td>13.321164</td>\n",
       "    </tr>\n",
       "    <tr>\n",
       "      <th>2</th>\n",
       "      <td>3</td>\n",
       "      <td>male</td>\n",
       "      <td>car</td>\n",
       "      <td>8.000000</td>\n",
       "      <td>8.333333</td>\n",
       "      <td>6.586497</td>\n",
       "      <td>66.304668</td>\n",
       "      <td>0.333333</td>\n",
       "      <td>19.759491</td>\n",
       "    </tr>\n",
       "    <tr>\n",
       "      <th>3</th>\n",
       "      <td>4</td>\n",
       "      <td>male</td>\n",
       "      <td>car</td>\n",
       "      <td>18.000000</td>\n",
       "      <td>18.333333</td>\n",
       "      <td>6.586497</td>\n",
       "      <td>66.304668</td>\n",
       "      <td>0.333333</td>\n",
       "      <td>19.759491</td>\n",
       "    </tr>\n",
       "    <tr>\n",
       "      <th>4</th>\n",
       "      <td>5</td>\n",
       "      <td>female</td>\n",
       "      <td>walk</td>\n",
       "      <td>11.216667</td>\n",
       "      <td>11.250000</td>\n",
       "      <td>0.203441</td>\n",
       "      <td>69.473571</td>\n",
       "      <td>0.033333</td>\n",
       "      <td>6.103216</td>\n",
       "    </tr>\n",
       "  </tbody>\n",
       "</table>\n",
       "</div>"
      ],
      "text/plain": [
       "   index     sex  mode  start_time   end_time  distance     weight  duration  \\\n",
       "0      0    male   car    8.000000   8.500000  6.660582  66.304668  0.500000   \n",
       "1      1    male   car   18.000000  18.500000  6.660582  66.304668  0.500000   \n",
       "2      3    male   car    8.000000   8.333333  6.586497  66.304668  0.333333   \n",
       "3      4    male   car   18.000000  18.333333  6.586497  66.304668  0.333333   \n",
       "4      5  female  walk   11.216667  11.250000  0.203441  69.473571  0.033333   \n",
       "\n",
       "       speed  \n",
       "0  13.321164  \n",
       "1  13.321164  \n",
       "2  19.759491  \n",
       "3  19.759491  \n",
       "4   6.103216  "
      ]
     },
     "execution_count": 184,
     "metadata": {},
     "output_type": "execute_result"
    }
   ],
   "source": [
    "trip_data.head()"
   ]
  },
  {
   "cell_type": "markdown",
   "metadata": {},
   "source": [
    "## Detailed data cleaning\n",
    "\n",
    "### 1. Are all modes relevant?"
   ]
  },
  {
   "cell_type": "code",
   "execution_count": 185,
   "metadata": {},
   "outputs": [
    {
     "data": {
      "text/html": [
       "<div>\n",
       "<style scoped>\n",
       "    .dataframe tbody tr th:only-of-type {\n",
       "        vertical-align: middle;\n",
       "    }\n",
       "\n",
       "    .dataframe tbody tr th {\n",
       "        vertical-align: top;\n",
       "    }\n",
       "\n",
       "    .dataframe thead th {\n",
       "        text-align: right;\n",
       "    }\n",
       "</style>\n",
       "<table border=\"1\" class=\"dataframe\">\n",
       "  <thead>\n",
       "    <tr style=\"text-align: right;\">\n",
       "      <th></th>\n",
       "      <th>index</th>\n",
       "    </tr>\n",
       "    <tr>\n",
       "      <th>mode</th>\n",
       "      <th></th>\n",
       "    </tr>\n",
       "  </thead>\n",
       "  <tbody>\n",
       "    <tr>\n",
       "      <th>car</th>\n",
       "      <td>89111</td>\n",
       "    </tr>\n",
       "    <tr>\n",
       "      <th>other</th>\n",
       "      <td>3450</td>\n",
       "    </tr>\n",
       "    <tr>\n",
       "      <th>public transport</th>\n",
       "      <td>54411</td>\n",
       "    </tr>\n",
       "    <tr>\n",
       "      <th>walk</th>\n",
       "      <td>70942</td>\n",
       "    </tr>\n",
       "  </tbody>\n",
       "</table>\n",
       "</div>"
      ],
      "text/plain": [
       "                  index\n",
       "mode                   \n",
       "car               89111\n",
       "other              3450\n",
       "public transport  54411\n",
       "walk              70942"
      ]
     },
     "execution_count": 185,
     "metadata": {},
     "output_type": "execute_result"
    }
   ],
   "source": [
    "(trip_data[['mode', 'index']]\n",
    " .groupby('mode')\n",
    " .count())"
   ]
  },
  {
   "cell_type": "markdown",
   "metadata": {},
   "source": [
    "Number of trips under 'other' are very limited. Will be dropped."
   ]
  },
  {
   "cell_type": "code",
   "execution_count": 186,
   "metadata": {},
   "outputs": [],
   "source": [
    "trip_data = trip_data[trip_data['mode'] != 'other']"
   ]
  },
  {
   "cell_type": "markdown",
   "metadata": {},
   "source": [
    "### 2. Do all modes have realistic speeds?"
   ]
  },
  {
   "cell_type": "code",
   "execution_count": 187,
   "metadata": {},
   "outputs": [
    {
     "data": {
      "text/plain": [
       "mode\n",
       "car                 [[AxesSubplot(0.125,0.125;0.775x0.755)]]\n",
       "public transport    [[AxesSubplot(0.125,0.125;0.775x0.755)]]\n",
       "walk                [[AxesSubplot(0.125,0.125;0.775x0.755)]]\n",
       "dtype: object"
      ]
     },
     "execution_count": 187,
     "metadata": {},
     "output_type": "execute_result"
    },
    {
     "data": {
      "image/png": "[encoded data removed]",
      "text/plain": [
       "<Figure size 432x288 with 1 Axes>"
      ]
     },
     "metadata": {
      "needs_background": "light"
     },
     "output_type": "display_data"
    },
    {
     "data": {
      "image/png": "[encoded data removed]",
      "text/plain": [
       "<Figure size 432x288 with 1 Axes>"
      ]
     },
     "metadata": {
      "needs_background": "light"
     },
     "output_type": "display_data"
    },
    {
     "data": {
      "image/png": "[encoded data removed]",
      "text/plain": [
       "<Figure size 432x288 with 1 Axes>"
      ]
     },
     "metadata": {
      "needs_background": "light"
     },
     "output_type": "display_data"
    }
   ],
   "source": [
    "(trip_data[['mode', 'speed']]\n",
    ".groupby('mode')\n",
    ".hist(bins = 100))"
   ]
  },
  {
   "cell_type": "markdown",
   "metadata": {},
   "source": [
    "There are some key outliers with speed way too high. We can filter these out using some decision rules:\n",
    "\n",
    "- Max reasonable walking speed 9km/hr (according to wiki https://en.wikipedia.org/wiki/Preferred_walking_speed)\n",
    "- Max reasonable PT speed of 100kph (motorway speed for bus: https://trans.info/en/new-speed-limits-are-in-force-in-spain-from-today-124104)\n",
    "- Max reasonable car speed of 120kph (motorway speed for car: https://trans.info/en/new-speed-limits-are-in-force-in-spain-from-today-124104)"
   ]
  },
  {
   "cell_type": "code",
   "execution_count": 188,
   "metadata": {},
   "outputs": [],
   "source": [
    "trip_data = trip_data[((trip_data['mode'] == 'car') & (trip_data['speed'] <= 120)) | ((trip_data['mode'] == 'public transport') & (trip_data['speed'] <= 100)) | ((trip_data['mode'] == 'walk') & (trip_data['speed'] <= 9))]"
   ]
  },
  {
   "cell_type": "markdown",
   "metadata": {},
   "source": [
    "### 3. Do all modes have realistic distances?"
   ]
  },
  {
   "cell_type": "code",
   "execution_count": 189,
   "metadata": {
    "scrolled": true
   },
   "outputs": [
    {
     "data": {
      "text/plain": [
       "mode\n",
       "car                 [[AxesSubplot(0.125,0.125;0.775x0.755)]]\n",
       "public transport    [[AxesSubplot(0.125,0.125;0.775x0.755)]]\n",
       "walk                [[AxesSubplot(0.125,0.125;0.775x0.755)]]\n",
       "dtype: object"
      ]
     },
     "execution_count": 189,
     "metadata": {},
     "output_type": "execute_result"
    },
    {
     "data": {
      "image/png": "[encoded data removed]",
      "text/plain": [
       "<Figure size 432x288 with 1 Axes>"
      ]
     },
     "metadata": {
      "needs_background": "light"
     },
     "output_type": "display_data"
    },
    {
     "data": {
      "image/png": "[encoded data removed]",
      "text/plain": [
       "<Figure size 432x288 with 1 Axes>"
      ]
     },
     "metadata": {
      "needs_background": "light"
     },
     "output_type": "display_data"
    },
    {
     "data": {
      "image/png": "[encoded data removed]",
      "text/plain": [
       "<Figure size 432x288 with 1 Axes>"
      ]
     },
     "metadata": {
      "needs_background": "light"
     },
     "output_type": "display_data"
    }
   ],
   "source": [
    "(trip_data[['mode', 'distance']]\n",
    ".groupby('mode')\n",
    ".hist(bins = 100))"
   ]
  },
  {
   "cell_type": "markdown",
   "metadata": {},
   "source": [
    "Distances up to 500km seem unrealistic (or 16km for walking). We'll use 99th quantile to cut unrealistically large distances."
   ]
  },
  {
   "cell_type": "code",
   "execution_count": 190,
   "metadata": {},
   "outputs": [
    {
     "data": {
      "text/html": [
       "<div>\n",
       "<style scoped>\n",
       "    .dataframe tbody tr th:only-of-type {\n",
       "        vertical-align: middle;\n",
       "    }\n",
       "\n",
       "    .dataframe tbody tr th {\n",
       "        vertical-align: top;\n",
       "    }\n",
       "\n",
       "    .dataframe thead th {\n",
       "        text-align: right;\n",
       "    }\n",
       "</style>\n",
       "<table border=\"1\" class=\"dataframe\">\n",
       "  <thead>\n",
       "    <tr style=\"text-align: right;\">\n",
       "      <th></th>\n",
       "      <th>mode</th>\n",
       "      <th>quantile</th>\n",
       "    </tr>\n",
       "  </thead>\n",
       "  <tbody>\n",
       "    <tr>\n",
       "      <th>0</th>\n",
       "      <td>car</td>\n",
       "      <td>54.510521</td>\n",
       "    </tr>\n",
       "    <tr>\n",
       "      <th>1</th>\n",
       "      <td>public transport</td>\n",
       "      <td>43.471175</td>\n",
       "    </tr>\n",
       "    <tr>\n",
       "      <th>2</th>\n",
       "      <td>walk</td>\n",
       "      <td>3.922442</td>\n",
       "    </tr>\n",
       "  </tbody>\n",
       "</table>\n",
       "</div>"
      ],
      "text/plain": [
       "               mode   quantile\n",
       "0               car  54.510521\n",
       "1  public transport  43.471175\n",
       "2              walk   3.922442"
      ]
     },
     "execution_count": 190,
     "metadata": {},
     "output_type": "execute_result"
    }
   ],
   "source": [
    "quantiles = (trip_data[['mode', 'distance']]\n",
    ".groupby('mode')\n",
    ".apply(lambda x: np.quantile(x, 0.99))\n",
    ".reset_index())\n",
    "\n",
    "quantiles.columns = ['mode', 'quantile']\n",
    "\n",
    "quantiles.head()"
   ]
  },
  {
   "cell_type": "code",
   "execution_count": 191,
   "metadata": {
    "scrolled": true
   },
   "outputs": [
    {
     "data": {
      "text/html": [
       "<div>\n",
       "<style scoped>\n",
       "    .dataframe tbody tr th:only-of-type {\n",
       "        vertical-align: middle;\n",
       "    }\n",
       "\n",
       "    .dataframe tbody tr th {\n",
       "        vertical-align: top;\n",
       "    }\n",
       "\n",
       "    .dataframe thead th {\n",
       "        text-align: right;\n",
       "    }\n",
       "</style>\n",
       "<table border=\"1\" class=\"dataframe\">\n",
       "  <thead>\n",
       "    <tr style=\"text-align: right;\">\n",
       "      <th></th>\n",
       "      <th>index</th>\n",
       "      <th>sex</th>\n",
       "      <th>mode</th>\n",
       "      <th>start_time</th>\n",
       "      <th>end_time</th>\n",
       "      <th>distance</th>\n",
       "      <th>weight</th>\n",
       "      <th>duration</th>\n",
       "      <th>speed</th>\n",
       "      <th>quantile</th>\n",
       "    </tr>\n",
       "  </thead>\n",
       "  <tbody>\n",
       "    <tr>\n",
       "      <th>0</th>\n",
       "      <td>0</td>\n",
       "      <td>male</td>\n",
       "      <td>car</td>\n",
       "      <td>8.000000</td>\n",
       "      <td>8.500000</td>\n",
       "      <td>6.660582</td>\n",
       "      <td>66.304668</td>\n",
       "      <td>0.500000</td>\n",
       "      <td>13.321164</td>\n",
       "      <td>54.510521</td>\n",
       "    </tr>\n",
       "    <tr>\n",
       "      <th>1</th>\n",
       "      <td>1</td>\n",
       "      <td>male</td>\n",
       "      <td>car</td>\n",
       "      <td>18.000000</td>\n",
       "      <td>18.500000</td>\n",
       "      <td>6.660582</td>\n",
       "      <td>66.304668</td>\n",
       "      <td>0.500000</td>\n",
       "      <td>13.321164</td>\n",
       "      <td>54.510521</td>\n",
       "    </tr>\n",
       "    <tr>\n",
       "      <th>2</th>\n",
       "      <td>3</td>\n",
       "      <td>male</td>\n",
       "      <td>car</td>\n",
       "      <td>8.000000</td>\n",
       "      <td>8.333333</td>\n",
       "      <td>6.586497</td>\n",
       "      <td>66.304668</td>\n",
       "      <td>0.333333</td>\n",
       "      <td>19.759491</td>\n",
       "      <td>54.510521</td>\n",
       "    </tr>\n",
       "    <tr>\n",
       "      <th>3</th>\n",
       "      <td>4</td>\n",
       "      <td>male</td>\n",
       "      <td>car</td>\n",
       "      <td>18.000000</td>\n",
       "      <td>18.333333</td>\n",
       "      <td>6.586497</td>\n",
       "      <td>66.304668</td>\n",
       "      <td>0.333333</td>\n",
       "      <td>19.759491</td>\n",
       "      <td>54.510521</td>\n",
       "    </tr>\n",
       "    <tr>\n",
       "      <th>4</th>\n",
       "      <td>5</td>\n",
       "      <td>female</td>\n",
       "      <td>walk</td>\n",
       "      <td>11.216667</td>\n",
       "      <td>11.250000</td>\n",
       "      <td>0.203441</td>\n",
       "      <td>69.473571</td>\n",
       "      <td>0.033333</td>\n",
       "      <td>6.103216</td>\n",
       "      <td>3.922442</td>\n",
       "    </tr>\n",
       "  </tbody>\n",
       "</table>\n",
       "</div>"
      ],
      "text/plain": [
       "   index     sex  mode  start_time   end_time  distance     weight  duration  \\\n",
       "0      0    male   car    8.000000   8.500000  6.660582  66.304668  0.500000   \n",
       "1      1    male   car   18.000000  18.500000  6.660582  66.304668  0.500000   \n",
       "2      3    male   car    8.000000   8.333333  6.586497  66.304668  0.333333   \n",
       "3      4    male   car   18.000000  18.333333  6.586497  66.304668  0.333333   \n",
       "4      5  female  walk   11.216667  11.250000  0.203441  69.473571  0.033333   \n",
       "\n",
       "       speed   quantile  \n",
       "0  13.321164  54.510521  \n",
       "1  13.321164  54.510521  \n",
       "2  19.759491  54.510521  \n",
       "3  19.759491  54.510521  \n",
       "4   6.103216   3.922442  "
      ]
     },
     "execution_count": 191,
     "metadata": {},
     "output_type": "execute_result"
    }
   ],
   "source": [
    "trip_data = (trip_data\n",
    "            .merge(quantiles, on = \"mode\", how = \"left\"))\n",
    "\n",
    "trip_data = trip_data[((trip_data['mode'] == 'car') & (trip_data['distance'] <= trip_data['quantile'])) | ((trip_data['mode'] == 'public transport') & (trip_data['distance'] <= trip_data['quantile'])) | ((trip_data['mode'] == 'walk') & (trip_data['distance'] <= trip_data['quantile']))]\n",
    "\n",
    "trip_data.head()"
   ]
  },
  {
   "cell_type": "code",
   "execution_count": 192,
   "metadata": {},
   "outputs": [
    {
     "data": {
      "text/plain": [
       "212023"
      ]
     },
     "execution_count": 192,
     "metadata": {},
     "output_type": "execute_result"
    }
   ],
   "source": [
    "len(trip_data)"
   ]
  },
  {
   "cell_type": "markdown",
   "metadata": {},
   "source": [
    "## Fit model"
   ]
  },
  {
   "cell_type": "code",
   "execution_count": 193,
   "metadata": {},
   "outputs": [
    {
     "name": "stdout",
     "output_type": "stream",
     "text": [
      "                 Generalized Linear Model Regression Results                  \n",
      "==============================================================================\n",
      "Dep. Variable:                  speed   No. Observations:               212023\n",
      "Model:                            GLM   Df Residuals:              15055524.30\n",
      "Model Family:                   Gamma   Df Model:                            8\n",
      "Link Function:                    log   Scale:                         0.27341\n",
      "Method:                          IRLS   Log-Likelihood:            -4.1124e+07\n",
      "Date:                Sun, 22 Nov 2020   Deviance:                   3.8542e+06\n",
      "Time:                        19:42:45   Pearson chi2:                 4.12e+06\n",
      "No. Iterations:                    25                                         \n",
      "Covariance Type:            nonrobust                                         \n",
      "========================================================================================================================================\n",
      "                                                                           coef    std err          z      P>|z|      [0.025      0.975]\n",
      "----------------------------------------------------------------------------------------------------------------------------------------\n",
      "Intercept                                                                1.9037      0.000   4419.358      0.000       1.903       1.905\n",
      "C(mode, Treatment(reference=\"public transport\"))[T.car]                  0.5080      0.001    914.802      0.000       0.507       0.509\n",
      "C(mode, Treatment(reference=\"public transport\"))[T.walk]                -1.2211      0.001  -2087.023      0.000      -1.222      -1.220\n",
      "sex[T.male]                                                              0.0305      0.001     56.708      0.000       0.029       0.032\n",
      "C(mode, Treatment(reference=\"public transport\"))[T.car]:sex[T.male]     -0.0255      0.001    -37.155      0.000      -0.027      -0.024\n",
      "C(mode, Treatment(reference=\"public transport\"))[T.walk]:sex[T.male]    -0.0342      0.001    -47.888      0.000      -0.036      -0.033\n",
      "distance                                                                 0.0539   3.32e-05   1623.204      0.000       0.054       0.054\n",
      "C(mode, Treatment(reference=\"public transport\"))[T.car]:distance         0.0016   3.99e-05     39.270      0.000       0.001       0.002\n",
      "C(mode, Treatment(reference=\"public transport\"))[T.walk]:distance        0.3155      0.000    822.409      0.000       0.315       0.316\n",
      "========================================================================================================================================\n"
     ]
    }
   ],
   "source": [
    "#Create a glm model object.\n",
    "glm_gamma = smf.glm(formula = 'speed ~ C(mode, Treatment(reference=\"public transport\")) * distance + C(mode, Treatment(reference=\"public transport\")) * sex', data = trip_data,\n",
    "                   #The family argument should take a family object from the `families` module\n",
    "                   #If we want to use the non-default link we should provide an object of class link.\n",
    "                   family=sm.families.Gamma(sm.families.links.log()),\n",
    "                   freq_weights = trip_data['weight'])\n",
    "glm_results = glm_gamma.fit()\n",
    "print(glm_results.summary())"
   ]
  },
  {
   "cell_type": "markdown",
   "metadata": {},
   "source": [
    "Test model fit\n",
    "\n",
    "1. Plot residuals (homoskedasticity assumption is not required for Gamma)"
   ]
  },
  {
   "cell_type": "code",
   "execution_count": 194,
   "metadata": {},
   "outputs": [
    {
     "data": {
      "image/png": "[encoded data removed]",
      "text/plain": [
       "<Figure size 432x288 with 1 Axes>"
      ]
     },
     "metadata": {
      "needs_background": "light"
     },
     "output_type": "display_data"
    }
   ],
   "source": [
    "resid = glm_results.resid_deviance\n",
    "fitted = glm_results.fittedvalues\n",
    "\n",
    "#Create empty plot object\n",
    "fig, ax = plt.subplots()\n",
    "#Add x and y variables\n",
    "ax.scatter(fitted, resid)\n",
    "ax.hlines(y = 0, xmin = 10, xmax = 80, linestyles = 'dashed')\n",
    "#Add labels\n",
    "ax.set(xlabel='Fitted values', ylabel='Residuals',\n",
    "       title='Diagnostic plot')\n",
    "#Add plot grid\n",
    "ax.grid()\n",
    "\n",
    "plt.show()"
   ]
  },
  {
   "cell_type": "code",
   "execution_count": 195,
   "metadata": {},
   "outputs": [
    {
     "data": {
      "image/png": "[encoded data removed]",
      "text/plain": [
       "<Figure size 432x288 with 1 Axes>"
      ]
     },
     "metadata": {
      "needs_background": "light"
     },
     "output_type": "display_data"
    }
   ],
   "source": [
    "plt.hist(resid, bins = 100)\n",
    "\n",
    "plt.show()"
   ]
  },
  {
   "cell_type": "markdown",
   "metadata": {},
   "source": [
    "Some trend in residuals, do we need other terms in the model? Consider a non-linear relationship with distance."
   ]
  },
  {
   "cell_type": "code",
   "execution_count": 196,
   "metadata": {},
   "outputs": [
    {
     "name": "stdout",
     "output_type": "stream",
     "text": [
      "                 Generalized Linear Model Regression Results                  \n",
      "==============================================================================\n",
      "Dep. Variable:                  speed   No. Observations:               212023\n",
      "Model:                            GLM   Df Residuals:              15055524.30\n",
      "Model Family:                   Gamma   Df Model:                            8\n",
      "Link Function:                    log   Scale:                         0.24184\n",
      "Method:                          IRLS   Log-Likelihood:            -3.9805e+07\n",
      "Date:                Sun, 22 Nov 2020   Deviance:                   3.2369e+06\n",
      "Time:                        19:42:49   Pearson chi2:                 3.64e+06\n",
      "No. Iterations:                    19                                         \n",
      "Covariance Type:            nonrobust                                         \n",
      "=============================================================================================================================================\n",
      "                                                                                coef    std err          z      P>|z|      [0.025      0.975]\n",
      "---------------------------------------------------------------------------------------------------------------------------------------------\n",
      "Intercept                                                                     1.6421      0.001   3229.666      0.000       1.641       1.643\n",
      "C(mode, Treatment(reference=\"public transport\"))[T.car]                       0.5320      0.001    853.883      0.000       0.531       0.533\n",
      "C(mode, Treatment(reference=\"public transport\"))[T.walk]                     -0.4883      0.001   -791.883      0.000      -0.490      -0.487\n",
      "sex[T.male]                                                                   0.0275      0.001     54.416      0.000       0.026       0.028\n",
      "C(mode, Treatment(reference=\"public transport\"))[T.car]:sex[T.male]          -0.0355      0.001    -55.081      0.000      -0.037      -0.034\n",
      "C(mode, Treatment(reference=\"public transport\"))[T.walk]:sex[T.male]         -0.0335      0.001    -49.827      0.000      -0.035      -0.032\n",
      "np.log(distance)                                                              0.4272      0.000   1721.632      0.000       0.427       0.428\n",
      "C(mode, Treatment(reference=\"public transport\"))[T.car]:np.log(distance)      0.0319      0.000    108.327      0.000       0.031       0.032\n",
      "C(mode, Treatment(reference=\"public transport\"))[T.walk]:np.log(distance)    -0.1238      0.000   -360.844      0.000      -0.124      -0.123\n",
      "=============================================================================================================================================\n"
     ]
    }
   ],
   "source": [
    "glm_gamma_log = smf.glm(formula = 'speed ~ C(mode, Treatment(reference=\"public transport\")) * np.log(distance) + C(mode, Treatment(reference=\"public transport\")) * sex', data = trip_data2,\n",
    "                   #The family argument should take a family object from the `families` module\n",
    "                   #If we want to use the non-default link we should provide an object of class link.\n",
    "                   family=sm.families.Gamma(sm.families.links.log()),\n",
    "                   freq_weights = trip_data['weight'])\n",
    "glm_results_log = glm_gamma_log.fit()\n",
    "print(glm_results_log.summary())"
   ]
  },
  {
   "cell_type": "code",
   "execution_count": 197,
   "metadata": {},
   "outputs": [
    {
     "data": {
      "image/png": "[encoded data removed]",
      "text/plain": [
       "<Figure size 432x288 with 1 Axes>"
      ]
     },
     "metadata": {
      "needs_background": "light"
     },
     "output_type": "display_data"
    }
   ],
   "source": [
    "resid = glm_results_log.resid_deviance\n",
    "fitted = glm_results_log.fittedvalues\n",
    "\n",
    "#Create empty plot object\n",
    "fig, ax = plt.subplots()\n",
    "#Add x and y variables\n",
    "ax.scatter(fitted, resid)\n",
    "ax.hlines(y = 0, xmin = 10, xmax = 80, linestyles = 'dashed')\n",
    "#Add labels\n",
    "ax.set(xlabel='Fitted values', ylabel='Residuals',\n",
    "       title='Diagnostic plot')\n",
    "#Add plot grid\n",
    "ax.grid()\n",
    "\n",
    "plt.show()"
   ]
  },
  {
   "cell_type": "code",
   "execution_count": 198,
   "metadata": {
    "scrolled": true
   },
   "outputs": [
    {
     "data": {
      "image/png": "[encoded data removed]",
      "text/plain": [
       "<Figure size 432x288 with 1 Axes>"
      ]
     },
     "metadata": {
      "needs_background": "light"
     },
     "output_type": "display_data"
    }
   ],
   "source": [
    "plt.hist(resid, bins = 100)\n",
    "\n",
    "plt.show()"
   ]
  },
  {
   "cell_type": "markdown",
   "metadata": {},
   "source": [
    "Looks much better. Look at parameter estimates and pvalues for sex at all modes (with multiple testing correction)."
   ]
  },
  {
   "cell_type": "code",
   "execution_count": 200,
   "metadata": {},
   "outputs": [],
   "source": [
    "newalpha = 0.05/3"
   ]
  },
  {
   "cell_type": "code",
   "execution_count": 201,
   "metadata": {},
   "outputs": [],
   "source": [
    "glm_gamma_logCAR = smf.glm(formula = 'speed ~ C(mode, Treatment(reference=\"car\")) * np.log(distance) + C(mode, Treatment(reference=\"car\")) * sex', data = trip_data2,\n",
    "                   #The family argument should take a family object from the `families` module\n",
    "                   #If we want to use the non-default link we should provide an object of class link.\n",
    "                   family=sm.families.Gamma(sm.families.links.log()),\n",
    "                   freq_weights = trip_data['weight'])\n",
    "glm_results_logCAR = glm_gamma_logCAR.fit()\n",
    "\n",
    "glm_gamma_logWALK = smf.glm(formula = 'speed ~ C(mode, Treatment(reference=\"walk\")) * np.log(distance) + C(mode, Treatment(reference=\"walk\")) * sex', data = trip_data2,\n",
    "                   #The family argument should take a family object from the `families` module\n",
    "                   #If we want to use the non-default link we should provide an object of class link.\n",
    "                   family=sm.families.Gamma(sm.families.links.log()),\n",
    "                   freq_weights = trip_data['weight'])\n",
    "glm_results_logWALK = glm_gamma_logWALK.fit()"
   ]
  },
  {
   "cell_type": "code",
   "execution_count": 205,
   "metadata": {
    "scrolled": true
   },
   "outputs": [
    {
     "data": {
      "text/html": [
       "<div>\n",
       "<style scoped>\n",
       "    .dataframe tbody tr th:only-of-type {\n",
       "        vertical-align: middle;\n",
       "    }\n",
       "\n",
       "    .dataframe tbody tr th {\n",
       "        vertical-align: top;\n",
       "    }\n",
       "\n",
       "    .dataframe thead th {\n",
       "        text-align: right;\n",
       "    }\n",
       "</style>\n",
       "<table border=\"1\" class=\"dataframe\">\n",
       "  <thead>\n",
       "    <tr style=\"text-align: right;\">\n",
       "      <th></th>\n",
       "      <th>mode</th>\n",
       "      <th>est</th>\n",
       "      <th>pval</th>\n",
       "      <th>sig</th>\n",
       "    </tr>\n",
       "  </thead>\n",
       "  <tbody>\n",
       "    <tr>\n",
       "      <th>0</th>\n",
       "      <td>pt</td>\n",
       "      <td>0.027480</td>\n",
       "      <td>0.000000e+00</td>\n",
       "      <td>True</td>\n",
       "    </tr>\n",
       "    <tr>\n",
       "      <th>1</th>\n",
       "      <td>car</td>\n",
       "      <td>-0.008012</td>\n",
       "      <td>3.812835e-89</td>\n",
       "      <td>True</td>\n",
       "    </tr>\n",
       "    <tr>\n",
       "      <th>2</th>\n",
       "      <td>walk</td>\n",
       "      <td>-0.005990</td>\n",
       "      <td>1.125406e-41</td>\n",
       "      <td>True</td>\n",
       "    </tr>\n",
       "  </tbody>\n",
       "</table>\n",
       "</div>"
      ],
      "text/plain": [
       "   mode       est          pval   sig\n",
       "0    pt  0.027480  0.000000e+00  True\n",
       "1   car -0.008012  3.812835e-89  True\n",
       "2  walk -0.005990  1.125406e-41  True"
      ]
     },
     "execution_count": 205,
     "metadata": {},
     "output_type": "execute_result"
    }
   ],
   "source": [
    "mod_estimates = pd.DataFrame({\"mode\": ['pt', 'car', 'walk'],\n",
    "                              \"est\": [glm_results_log.params[3], glm_results_logCAR.params[3], glm_results_logWALK.params[3]],\n",
    "                              \"pval\": [glm_results_log.pvalues[3], glm_results_logCAR.pvalues[3], glm_results_logWALK.pvalues[3]]})\n",
    "\n",
    "mod_estimates['sig'] = mod_estimates['pval'] <= newalpha\n",
    "\n",
    "mod_estimates"
   ]
  },
  {
   "cell_type": "markdown",
   "metadata": {},
   "source": [
    "All terms and significant even with conservative Bonferonni correction; however, effect size of PT is orders of magnitude greater than that for PT."
   ]
  },
  {
   "cell_type": "markdown",
   "metadata": {},
   "source": [
    "## Model predictions\n",
    "\n",
    "We want to create a prediction of travel speed for each sex and mode of transport when distance is standardised."
   ]
  },
  {
   "cell_type": "code",
   "execution_count": 127,
   "metadata": {},
   "outputs": [
    {
     "data": {
      "text/html": [
       "<div>\n",
       "<style scoped>\n",
       "    .dataframe tbody tr th:only-of-type {\n",
       "        vertical-align: middle;\n",
       "    }\n",
       "\n",
       "    .dataframe tbody tr th {\n",
       "        vertical-align: top;\n",
       "    }\n",
       "\n",
       "    .dataframe thead th {\n",
       "        text-align: right;\n",
       "    }\n",
       "</style>\n",
       "<table border=\"1\" class=\"dataframe\">\n",
       "  <thead>\n",
       "    <tr style=\"text-align: right;\">\n",
       "      <th></th>\n",
       "      <th>mode</th>\n",
       "      <th>distance</th>\n",
       "    </tr>\n",
       "  </thead>\n",
       "  <tbody>\n",
       "    <tr>\n",
       "      <th>0</th>\n",
       "      <td>car</td>\n",
       "      <td>8.617716</td>\n",
       "    </tr>\n",
       "    <tr>\n",
       "      <th>1</th>\n",
       "      <td>public transport</td>\n",
       "      <td>8.169416</td>\n",
       "    </tr>\n",
       "    <tr>\n",
       "      <th>2</th>\n",
       "      <td>walk</td>\n",
       "      <td>0.686894</td>\n",
       "    </tr>\n",
       "  </tbody>\n",
       "</table>\n",
       "</div>"
      ],
      "text/plain": [
       "               mode  distance\n",
       "0               car  8.617716\n",
       "1  public transport  8.169416\n",
       "2              walk  0.686894"
      ]
     },
     "execution_count": 127,
     "metadata": {},
     "output_type": "execute_result"
    }
   ],
   "source": [
    "meandist = (trip_data[['mode', 'distance']]\n",
    ".groupby(['mode'])\n",
    ".apply(lambda x: np.mean(x))\n",
    ".reset_index())\n",
    "\n",
    "meandist.head()"
   ]
  },
  {
   "cell_type": "code",
   "execution_count": 128,
   "metadata": {},
   "outputs": [
    {
     "data": {
      "text/html": [
       "<div>\n",
       "<style scoped>\n",
       "    .dataframe tbody tr th:only-of-type {\n",
       "        vertical-align: middle;\n",
       "    }\n",
       "\n",
       "    .dataframe tbody tr th {\n",
       "        vertical-align: top;\n",
       "    }\n",
       "\n",
       "    .dataframe thead th {\n",
       "        text-align: right;\n",
       "    }\n",
       "</style>\n",
       "<table border=\"1\" class=\"dataframe\">\n",
       "  <thead>\n",
       "    <tr style=\"text-align: right;\">\n",
       "      <th></th>\n",
       "      <th>mode</th>\n",
       "      <th>sex</th>\n",
       "      <th>intercept</th>\n",
       "      <th>distance</th>\n",
       "      <th>predspeed</th>\n",
       "    </tr>\n",
       "  </thead>\n",
       "  <tbody>\n",
       "    <tr>\n",
       "      <th>0</th>\n",
       "      <td>car</td>\n",
       "      <td>male</td>\n",
       "      <td>1</td>\n",
       "      <td>8.617716</td>\n",
       "      <td>23.451326</td>\n",
       "    </tr>\n",
       "    <tr>\n",
       "      <th>1</th>\n",
       "      <td>car</td>\n",
       "      <td>female</td>\n",
       "      <td>1</td>\n",
       "      <td>8.617716</td>\n",
       "      <td>23.639969</td>\n",
       "    </tr>\n",
       "    <tr>\n",
       "      <th>2</th>\n",
       "      <td>public transport</td>\n",
       "      <td>male</td>\n",
       "      <td>1</td>\n",
       "      <td>8.169416</td>\n",
       "      <td>13.026626</td>\n",
       "    </tr>\n",
       "    <tr>\n",
       "      <th>3</th>\n",
       "      <td>public transport</td>\n",
       "      <td>female</td>\n",
       "      <td>1</td>\n",
       "      <td>8.169416</td>\n",
       "      <td>12.673531</td>\n",
       "    </tr>\n",
       "    <tr>\n",
       "      <th>4</th>\n",
       "      <td>walk</td>\n",
       "      <td>male</td>\n",
       "      <td>1</td>\n",
       "      <td>0.686894</td>\n",
       "      <td>2.811977</td>\n",
       "    </tr>\n",
       "    <tr>\n",
       "      <th>5</th>\n",
       "      <td>walk</td>\n",
       "      <td>female</td>\n",
       "      <td>1</td>\n",
       "      <td>0.686894</td>\n",
       "      <td>2.828873</td>\n",
       "    </tr>\n",
       "  </tbody>\n",
       "</table>\n",
       "</div>"
      ],
      "text/plain": [
       "               mode     sex  intercept  distance  predspeed\n",
       "0               car    male          1  8.617716  23.451326\n",
       "1               car  female          1  8.617716  23.639969\n",
       "2  public transport    male          1  8.169416  13.026626\n",
       "3  public transport  female          1  8.169416  12.673531\n",
       "4              walk    male          1  0.686894   2.811977\n",
       "5              walk  female          1  0.686894   2.828873"
      ]
     },
     "execution_count": 128,
     "metadata": {},
     "output_type": "execute_result"
    }
   ],
   "source": [
    "modeldata = (pd.DataFrame({\"mode\": [\"car\", \"car\", \"public transport\", \"public transport\", \"walk\", \"walk\"],\n",
    "                        \"sex\": [\"male\", \"female\", \"male\", \"female\", \"male\", \"female\"],\n",
    "                        \"intercept\": [1, 1, 1, 1, 1, 1]})\n",
    "           .merge(meandist, how = 'left', on = 'mode'))\n",
    "\n",
    "modeldata['predspeed'] = glm_results_log.predict(modeldata)\n",
    "\n",
    "modeldata"
   ]
  },
  {
   "cell_type": "code",
   "execution_count": 99,
   "metadata": {},
   "outputs": [],
   "source": [
    "modeldata.to_csv(r'..\\data\\processed\\model_data.csv', index = False)"
   ]
  }
 ],
 "metadata": {
  "kernelspec": {
   "display_name": "Python 3",
   "language": "python",
   "name": "python3"
  },
  "language_info": {
   "codemirror_mode": {
    "name": "ipython",
    "version": 3
   },
   "file_extension": ".py",
   "mimetype": "text/x-python",
   "name": "python",
   "nbconvert_exporter": "python",
   "pygments_lexer": "ipython3",
   "version": "3.7.4"
  }
 },
 "nbformat": 4,
 "nbformat_minor": 4
}
