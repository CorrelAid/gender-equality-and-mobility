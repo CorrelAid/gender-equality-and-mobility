{
 "cells": [
  {
   "cell_type": "code",
   "execution_count": 1,
   "metadata": {},
   "outputs": [],
   "source": [
    "import pandas as pd\n",
    "import numpy as np\n",
    "%matplotlib inline"
   ]
  },
  {
   "cell_type": "code",
   "execution_count": 2,
   "metadata": {},
   "outputs": [],
   "source": [
    " pd.set_option('display.max_rows', 50)"
   ]
  },
  {
   "cell_type": "markdown",
   "metadata": {},
   "source": [
    "# Analysis"
   ]
  },
  {
   "cell_type": "code",
   "execution_count": 3,
   "metadata": {},
   "outputs": [],
   "source": [
    "# load data\n",
    "df = pd.read_csv(r'..\\data\\processed\\trips_custom_variables.csv', dtype = {'VORIHORAINI':str, 'VDESHORAFIN':str}, parse_dates = ['start_time','end_time'])"
   ]
  },
  {
   "cell_type": "markdown",
   "metadata": {},
   "source": [
    "## distance\n",
    "\n",
    "compare distances traveled"
   ]
  },
  {
   "cell_type": "code",
   "execution_count": 4,
   "metadata": {},
   "outputs": [
    {
     "data": {
      "text/html": [
       "<div>\n",
       "<style scoped>\n",
       "    .dataframe tbody tr th:only-of-type {\n",
       "        vertical-align: middle;\n",
       "    }\n",
       "\n",
       "    .dataframe tbody tr th {\n",
       "        vertical-align: top;\n",
       "    }\n",
       "\n",
       "    .dataframe thead th {\n",
       "        text-align: right;\n",
       "    }\n",
       "</style>\n",
       "<table border=\"1\" class=\"dataframe\">\n",
       "  <thead>\n",
       "    <tr style=\"text-align: right;\">\n",
       "      <th></th>\n",
       "      <th>count</th>\n",
       "      <th>mean</th>\n",
       "      <th>std</th>\n",
       "      <th>min</th>\n",
       "      <th>25%</th>\n",
       "      <th>50%</th>\n",
       "      <th>75%</th>\n",
       "      <th>max</th>\n",
       "    </tr>\n",
       "    <tr>\n",
       "      <th>sex</th>\n",
       "      <th></th>\n",
       "      <th></th>\n",
       "      <th></th>\n",
       "      <th></th>\n",
       "      <th></th>\n",
       "      <th></th>\n",
       "      <th></th>\n",
       "      <th></th>\n",
       "    </tr>\n",
       "  </thead>\n",
       "  <tbody>\n",
       "    <tr>\n",
       "      <th>Man</th>\n",
       "      <td>101580.0</td>\n",
       "      <td>7.912443</td>\n",
       "      <td>48.427322</td>\n",
       "      <td>0.0</td>\n",
       "      <td>0.720371</td>\n",
       "      <td>2.439516</td>\n",
       "      <td>8.663173</td>\n",
       "      <td>4517.331249</td>\n",
       "    </tr>\n",
       "    <tr>\n",
       "      <th>Woman</th>\n",
       "      <td>121164.0</td>\n",
       "      <td>6.866701</td>\n",
       "      <td>64.050900</td>\n",
       "      <td>0.0</td>\n",
       "      <td>0.602751</td>\n",
       "      <td>1.900106</td>\n",
       "      <td>6.813408</td>\n",
       "      <td>4521.973558</td>\n",
       "    </tr>\n",
       "  </tbody>\n",
       "</table>\n",
       "</div>"
      ],
      "text/plain": [
       "          count      mean        std  min       25%       50%       75%  \\\n",
       "sex                                                                       \n",
       "Man    101580.0  7.912443  48.427322  0.0  0.720371  2.439516  8.663173   \n",
       "Woman  121164.0  6.866701  64.050900  0.0  0.602751  1.900106  6.813408   \n",
       "\n",
       "               max  \n",
       "sex                 \n",
       "Man    4517.331249  \n",
       "Woman  4521.973558  "
      ]
     },
     "execution_count": 4,
     "metadata": {},
     "output_type": "execute_result"
    }
   ],
   "source": [
    "# average distance by sex\n",
    "df.groupby(\"sex\").DISTANCIA_VIAJE.describe()"
   ]
  },
  {
   "cell_type": "markdown",
   "metadata": {},
   "source": [
    "**weight by ELE_G_POND_ESC2 (weight of trip)**"
   ]
  },
  {
   "cell_type": "code",
   "execution_count": 5,
   "metadata": {},
   "outputs": [
    {
     "data": {
      "text/plain": [
       "sex\n",
       "Man      7.887399\n",
       "Woman    6.419492\n",
       "dtype: float64"
      ]
     },
     "execution_count": 5,
     "metadata": {},
     "output_type": "execute_result"
    }
   ],
   "source": [
    "# weighted average distance by sex\n",
    "df[\"weighted_dist\"] = df.DISTANCIA_VIAJE * df.ELE_G_POND_ESC2\n",
    "\n",
    "# get the weighted mean distance\n",
    "df_sex_sum = df.groupby(\"sex\").sum()\n",
    "df_sex_sum.weighted_dist / df_sex_sum.ELE_G_POND_ESC2 "
   ]
  },
  {
   "cell_type": "code",
   "execution_count": 6,
   "metadata": {},
   "outputs": [
    {
     "data": {
      "text/plain": [
       "<matplotlib.axes._subplots.AxesSubplot at 0x21f6460ff48>"
      ]
     },
     "execution_count": 6,
     "metadata": {},
     "output_type": "execute_result"
    },
    {
     "data": {
      "image/png": "[encoded data removed]",
      "text/plain": [
       "<Figure size 432x288 with 1 Axes>"
      ]
     },
     "metadata": {
      "needs_background": "light"
     },
     "output_type": "display_data"
    }
   ],
   "source": [
    "# average distance by age\n",
    "x = df.groupby([\"rounded_age\", \"C2SEXO\"]).agg({\"DISTANCIA_VIAJE\":\"mean\"})\n",
    "x = x.reset_index().pivot(index='rounded_age', columns='C2SEXO', values='DISTANCIA_VIAJE')\n",
    "x.plot()"
   ]
  },
  {
   "cell_type": "markdown",
   "metadata": {},
   "source": [
    "### amount of trips"
   ]
  },
  {
   "cell_type": "code",
   "execution_count": 7,
   "metadata": {},
   "outputs": [
    {
     "data": {
      "text/plain": [
       "sex\n",
       "Man      2.604014\n",
       "Woman    2.630854\n",
       "Name: ID_VIAJE, dtype: float64"
      ]
     },
     "execution_count": 7,
     "metadata": {},
     "output_type": "execute_result"
    }
   ],
   "source": [
    "# average amount of trips by sex\n",
    "df.reset_index().groupby([\"ID_HOGAR\", \"ID_IND\", \"sex\"]).count().groupby(\"sex\").mean().ID_VIAJE"
   ]
  },
  {
   "cell_type": "markdown",
   "metadata": {},
   "source": [
    "**weight by ELE_G_POND (weight of individual)**"
   ]
  },
  {
   "cell_type": "code",
   "execution_count": 8,
   "metadata": {},
   "outputs": [
    {
     "data": {
      "text/plain": [
       "sex\n",
       "Man      2.641541\n",
       "Woman    2.682569\n",
       "dtype: float64"
      ]
     },
     "execution_count": 8,
     "metadata": {},
     "output_type": "execute_result"
    }
   ],
   "source": [
    "# weighted average amount or trips by sex\n",
    "df_ind = df.groupby([\"ID_HOGAR\", \"ID_IND\", \"sex\"]).ELE_G_POND.agg(['mean', 'sum'])\n",
    "df_ind_sex_sum = df_ind.groupby(\"sex\").sum()\n",
    "df_ind_sex_sum['sum'] / df_ind_sex_sum['mean']"
   ]
  },
  {
   "cell_type": "code",
   "execution_count": 196,
   "metadata": {},
   "outputs": [
    {
     "data": {
      "text/plain": [
       "<matplotlib.axes._subplots.AxesSubplot at 0x21f0fa89208>"
      ]
     },
     "execution_count": 196,
     "metadata": {},
     "output_type": "execute_result"
    },
    {
     "data": {
      "image/png": "[encoded data removed]",
      "text/plain": [
       "<Figure size 432x288 with 1 Axes>"
      ]
     },
     "metadata": {
      "needs_background": "light"
     },
     "output_type": "display_data"
    }
   ],
   "source": [
    "# amount of trips by age and sex\n",
    "\n",
    "t_age = df.groupby([\"rounded_age\", \"sex\"]).agg({\"ID_VIAJE\":\"mean\"}).reset_index()\n",
    "\n",
    "t_age = t_age[t_age.rounded_age < 90]\n",
    "t_age = t_age.pivot(index='rounded_age', columns='sex', values='ID_VIAJE')\n",
    "t_age.sort_index().plot(kind = \"line\", color = [\"red\", \"blue\"] )"
   ]
  },
  {
   "cell_type": "markdown",
   "metadata": {},
   "source": [
    "**absolute amount of trips by gender and age**"
   ]
  },
  {
   "cell_type": "code",
   "execution_count": 198,
   "metadata": {},
   "outputs": [
    {
     "data": {
      "text/plain": [
       "<matplotlib.axes._subplots.AxesSubplot at 0x21f0fbaffc8>"
      ]
     },
     "execution_count": 198,
     "metadata": {},
     "output_type": "execute_result"
    },
    {
     "data": {
      "image/png": "[encoded data removed]",
      "text/plain": [
       "<Figure size 432x288 with 1 Axes>"
      ]
     },
     "metadata": {
      "needs_background": "light"
     },
     "output_type": "display_data"
    }
   ],
   "source": [
    "# amount of trips by purpose by age and sex\n",
    "t_age = df.loc[df.sex == \"Man\"].groupby([\"rounded_age\", \"motive_simple\"]).agg({\"ELE_G_POND_ESC2\": \"count\"}).reset_index()\n",
    "t_age = t_age[t_age.rounded_age < 90]\n",
    "t_age = t_age.pivot(index='rounded_age', columns='motive_simple', values='ELE_G_POND_ESC2')\n",
    "t_age.sort_index().plot(kind = \"line\")"
   ]
  },
  {
   "cell_type": "code",
   "execution_count": 200,
   "metadata": {},
   "outputs": [
    {
     "data": {
      "text/plain": [
       "<matplotlib.axes._subplots.AxesSubplot at 0x21f0fdcf4c8>"
      ]
     },
     "execution_count": 200,
     "metadata": {},
     "output_type": "execute_result"
    },
    {
     "data": {
      "image/png": "[encoded data removed]",
      "text/plain": [
       "<Figure size 432x288 with 1 Axes>"
      ]
     },
     "metadata": {
      "needs_background": "light"
     },
     "output_type": "display_data"
    }
   ],
   "source": [
    "# amount of trips by purpose by age and sex\n",
    "t_age = df.loc[df.sex == \"Woman\"].groupby([\"rounded_age\", \"motive_simple\"]).agg({\"ELE_G_POND_ESC2\": \"count\"}).reset_index()\n",
    "t_age = t_age[t_age.rounded_age < 90]\n",
    "t_age = t_age.pivot(index='rounded_age', columns='motive_simple', values='ELE_G_POND_ESC2')\n",
    "t_age.sort_index().plot(kind = \"line\")"
   ]
  },
  {
   "cell_type": "code",
   "execution_count": 100,
   "metadata": {},
   "outputs": [],
   "source": [
    "# what trip motive do the different age groups have?\n",
    "# pd.DataFrame(df.groupby([\"age_group\", \"sex\"]).motive_simple.value_counts(normalize = True))"
   ]
  },
  {
   "cell_type": "markdown",
   "metadata": {},
   "source": [
    "**weighted percentage of trips purposes**"
   ]
  },
  {
   "cell_type": "code",
   "execution_count": 152,
   "metadata": {},
   "outputs": [
    {
     "data": {
      "text/html": [
       "<div>\n",
       "<style scoped>\n",
       "    .dataframe tbody tr th:only-of-type {\n",
       "        vertical-align: middle;\n",
       "    }\n",
       "\n",
       "    .dataframe tbody tr th {\n",
       "        vertical-align: top;\n",
       "    }\n",
       "\n",
       "    .dataframe thead th {\n",
       "        text-align: right;\n",
       "    }\n",
       "</style>\n",
       "<table border=\"1\" class=\"dataframe\">\n",
       "  <thead>\n",
       "    <tr style=\"text-align: right;\">\n",
       "      <th></th>\n",
       "      <th></th>\n",
       "      <th>motive_simple</th>\n",
       "      <th>ELE_G_POND_ESC2</th>\n",
       "      <th>ELE_G_POND_ESC2_total</th>\n",
       "      <th>perc</th>\n",
       "    </tr>\n",
       "    <tr>\n",
       "      <th>age_group</th>\n",
       "      <th>sex</th>\n",
       "      <th></th>\n",
       "      <th></th>\n",
       "      <th></th>\n",
       "      <th></th>\n",
       "    </tr>\n",
       "  </thead>\n",
       "  <tbody>\n",
       "    <tr>\n",
       "      <th rowspan=\"10\" valign=\"top\">adults</th>\n",
       "      <th>Man</th>\n",
       "      <td>study</td>\n",
       "      <td>5.645363e+04</td>\n",
       "      <td>3.340948e+06</td>\n",
       "      <td>1.689749</td>\n",
       "    </tr>\n",
       "    <tr>\n",
       "      <th>Man</th>\n",
       "      <td>other</td>\n",
       "      <td>6.448315e+04</td>\n",
       "      <td>3.340948e+06</td>\n",
       "      <td>1.930085</td>\n",
       "    </tr>\n",
       "    <tr>\n",
       "      <th>Man</th>\n",
       "      <td>care</td>\n",
       "      <td>6.570759e+05</td>\n",
       "      <td>3.340948e+06</td>\n",
       "      <td>19.667349</td>\n",
       "    </tr>\n",
       "    <tr>\n",
       "      <th>Man</th>\n",
       "      <td>leisure / sports</td>\n",
       "      <td>6.859525e+05</td>\n",
       "      <td>3.340948e+06</td>\n",
       "      <td>20.531673</td>\n",
       "    </tr>\n",
       "    <tr>\n",
       "      <th>Man</th>\n",
       "      <td>work</td>\n",
       "      <td>1.876983e+06</td>\n",
       "      <td>3.340948e+06</td>\n",
       "      <td>56.181144</td>\n",
       "    </tr>\n",
       "    <tr>\n",
       "      <th>Woman</th>\n",
       "      <td>study</td>\n",
       "      <td>7.325263e+04</td>\n",
       "      <td>3.995752e+06</td>\n",
       "      <td>1.833263</td>\n",
       "    </tr>\n",
       "    <tr>\n",
       "      <th>Woman</th>\n",
       "      <td>other</td>\n",
       "      <td>8.424099e+04</td>\n",
       "      <td>3.995752e+06</td>\n",
       "      <td>2.108264</td>\n",
       "    </tr>\n",
       "    <tr>\n",
       "      <th>Woman</th>\n",
       "      <td>leisure / sports</td>\n",
       "      <td>8.836818e+05</td>\n",
       "      <td>3.995752e+06</td>\n",
       "      <td>22.115531</td>\n",
       "    </tr>\n",
       "    <tr>\n",
       "      <th>Woman</th>\n",
       "      <td>care</td>\n",
       "      <td>1.353040e+06</td>\n",
       "      <td>3.995752e+06</td>\n",
       "      <td>33.861957</td>\n",
       "    </tr>\n",
       "    <tr>\n",
       "      <th>Woman</th>\n",
       "      <td>work</td>\n",
       "      <td>1.601537e+06</td>\n",
       "      <td>3.995752e+06</td>\n",
       "      <td>40.080985</td>\n",
       "    </tr>\n",
       "    <tr>\n",
       "      <th rowspan=\"10\" valign=\"top\">kids</th>\n",
       "      <th>Man</th>\n",
       "      <td>work</td>\n",
       "      <td>4.818672e+03</td>\n",
       "      <td>1.285025e+06</td>\n",
       "      <td>0.374987</td>\n",
       "    </tr>\n",
       "    <tr>\n",
       "      <th>Man</th>\n",
       "      <td>other</td>\n",
       "      <td>1.900734e+04</td>\n",
       "      <td>1.285025e+06</td>\n",
       "      <td>1.479142</td>\n",
       "    </tr>\n",
       "    <tr>\n",
       "      <th>Man</th>\n",
       "      <td>care</td>\n",
       "      <td>5.092642e+04</td>\n",
       "      <td>1.285025e+06</td>\n",
       "      <td>3.963069</td>\n",
       "    </tr>\n",
       "    <tr>\n",
       "      <th>Man</th>\n",
       "      <td>leisure / sports</td>\n",
       "      <td>2.365854e+05</td>\n",
       "      <td>1.285025e+06</td>\n",
       "      <td>18.410960</td>\n",
       "    </tr>\n",
       "    <tr>\n",
       "      <th>Man</th>\n",
       "      <td>study</td>\n",
       "      <td>9.736871e+05</td>\n",
       "      <td>1.285025e+06</td>\n",
       "      <td>75.771842</td>\n",
       "    </tr>\n",
       "    <tr>\n",
       "      <th>Woman</th>\n",
       "      <td>work</td>\n",
       "      <td>2.574304e+03</td>\n",
       "      <td>1.203685e+06</td>\n",
       "      <td>0.213869</td>\n",
       "    </tr>\n",
       "    <tr>\n",
       "      <th>Woman</th>\n",
       "      <td>other</td>\n",
       "      <td>2.330896e+04</td>\n",
       "      <td>1.203685e+06</td>\n",
       "      <td>1.936467</td>\n",
       "    </tr>\n",
       "    <tr>\n",
       "      <th>Woman</th>\n",
       "      <td>care</td>\n",
       "      <td>6.604836e+04</td>\n",
       "      <td>1.203685e+06</td>\n",
       "      <td>5.487181</td>\n",
       "    </tr>\n",
       "    <tr>\n",
       "      <th>Woman</th>\n",
       "      <td>leisure / sports</td>\n",
       "      <td>1.842930e+05</td>\n",
       "      <td>1.203685e+06</td>\n",
       "      <td>15.310740</td>\n",
       "    </tr>\n",
       "    <tr>\n",
       "      <th>Woman</th>\n",
       "      <td>study</td>\n",
       "      <td>9.274600e+05</td>\n",
       "      <td>1.203685e+06</td>\n",
       "      <td>77.051743</td>\n",
       "    </tr>\n",
       "    <tr>\n",
       "      <th rowspan=\"10\" valign=\"top\">seniors</th>\n",
       "      <th>Man</th>\n",
       "      <td>study</td>\n",
       "      <td>1.276931e+04</td>\n",
       "      <td>2.397749e+06</td>\n",
       "      <td>0.532554</td>\n",
       "    </tr>\n",
       "    <tr>\n",
       "      <th>Man</th>\n",
       "      <td>other</td>\n",
       "      <td>7.584964e+04</td>\n",
       "      <td>2.397749e+06</td>\n",
       "      <td>3.163369</td>\n",
       "    </tr>\n",
       "    <tr>\n",
       "      <th>Man</th>\n",
       "      <td>work</td>\n",
       "      <td>5.304932e+05</td>\n",
       "      <td>2.397749e+06</td>\n",
       "      <td>22.124637</td>\n",
       "    </tr>\n",
       "    <tr>\n",
       "      <th>Man</th>\n",
       "      <td>care</td>\n",
       "      <td>7.087117e+05</td>\n",
       "      <td>2.397749e+06</td>\n",
       "      <td>29.557379</td>\n",
       "    </tr>\n",
       "    <tr>\n",
       "      <th>Man</th>\n",
       "      <td>leisure / sports</td>\n",
       "      <td>1.069925e+06</td>\n",
       "      <td>2.397749e+06</td>\n",
       "      <td>44.622061</td>\n",
       "    </tr>\n",
       "    <tr>\n",
       "      <th>Woman</th>\n",
       "      <td>study</td>\n",
       "      <td>1.960610e+04</td>\n",
       "      <td>2.524022e+06</td>\n",
       "      <td>0.776780</td>\n",
       "    </tr>\n",
       "    <tr>\n",
       "      <th>Woman</th>\n",
       "      <td>other</td>\n",
       "      <td>9.155860e+04</td>\n",
       "      <td>2.524022e+06</td>\n",
       "      <td>3.627488</td>\n",
       "    </tr>\n",
       "    <tr>\n",
       "      <th>Woman</th>\n",
       "      <td>work</td>\n",
       "      <td>4.107989e+05</td>\n",
       "      <td>2.524022e+06</td>\n",
       "      <td>16.275565</td>\n",
       "    </tr>\n",
       "    <tr>\n",
       "      <th>Woman</th>\n",
       "      <td>care</td>\n",
       "      <td>9.835155e+05</td>\n",
       "      <td>2.524022e+06</td>\n",
       "      <td>38.966200</td>\n",
       "    </tr>\n",
       "    <tr>\n",
       "      <th>Woman</th>\n",
       "      <td>leisure / sports</td>\n",
       "      <td>1.018543e+06</td>\n",
       "      <td>2.524022e+06</td>\n",
       "      <td>40.353968</td>\n",
       "    </tr>\n",
       "    <tr>\n",
       "      <th rowspan=\"10\" valign=\"top\">young adults</th>\n",
       "      <th>Man</th>\n",
       "      <td>other</td>\n",
       "      <td>1.224303e+04</td>\n",
       "      <td>5.393564e+05</td>\n",
       "      <td>2.269932</td>\n",
       "    </tr>\n",
       "    <tr>\n",
       "      <th>Man</th>\n",
       "      <td>care</td>\n",
       "      <td>3.546465e+04</td>\n",
       "      <td>5.393564e+05</td>\n",
       "      <td>6.575365</td>\n",
       "    </tr>\n",
       "    <tr>\n",
       "      <th>Man</th>\n",
       "      <td>work</td>\n",
       "      <td>1.170980e+05</td>\n",
       "      <td>5.393564e+05</td>\n",
       "      <td>21.710688</td>\n",
       "    </tr>\n",
       "    <tr>\n",
       "      <th>Man</th>\n",
       "      <td>leisure / sports</td>\n",
       "      <td>1.682636e+05</td>\n",
       "      <td>5.393564e+05</td>\n",
       "      <td>31.197107</td>\n",
       "    </tr>\n",
       "    <tr>\n",
       "      <th>Man</th>\n",
       "      <td>study</td>\n",
       "      <td>2.062871e+05</td>\n",
       "      <td>5.393564e+05</td>\n",
       "      <td>38.246908</td>\n",
       "    </tr>\n",
       "    <tr>\n",
       "      <th>Woman</th>\n",
       "      <td>other</td>\n",
       "      <td>1.471504e+04</td>\n",
       "      <td>5.607295e+05</td>\n",
       "      <td>2.624267</td>\n",
       "    </tr>\n",
       "    <tr>\n",
       "      <th>Woman</th>\n",
       "      <td>care</td>\n",
       "      <td>5.794870e+04</td>\n",
       "      <td>5.607295e+05</td>\n",
       "      <td>10.334520</td>\n",
       "    </tr>\n",
       "    <tr>\n",
       "      <th>Woman</th>\n",
       "      <td>work</td>\n",
       "      <td>1.166034e+05</td>\n",
       "      <td>5.607295e+05</td>\n",
       "      <td>20.794944</td>\n",
       "    </tr>\n",
       "    <tr>\n",
       "      <th>Woman</th>\n",
       "      <td>leisure / sports</td>\n",
       "      <td>1.489868e+05</td>\n",
       "      <td>5.607295e+05</td>\n",
       "      <td>26.570173</td>\n",
       "    </tr>\n",
       "    <tr>\n",
       "      <th>Woman</th>\n",
       "      <td>study</td>\n",
       "      <td>2.224756e+05</td>\n",
       "      <td>5.607295e+05</td>\n",
       "      <td>39.676095</td>\n",
       "    </tr>\n",
       "  </tbody>\n",
       "</table>\n",
       "</div>"
      ],
      "text/plain": [
       "                       motive_simple  ELE_G_POND_ESC2  ELE_G_POND_ESC2_total  \\\n",
       "age_group    sex                                                               \n",
       "adults       Man               study     5.645363e+04           3.340948e+06   \n",
       "             Man               other     6.448315e+04           3.340948e+06   \n",
       "             Man                care     6.570759e+05           3.340948e+06   \n",
       "             Man    leisure / sports     6.859525e+05           3.340948e+06   \n",
       "             Man                work     1.876983e+06           3.340948e+06   \n",
       "             Woman             study     7.325263e+04           3.995752e+06   \n",
       "             Woman             other     8.424099e+04           3.995752e+06   \n",
       "             Woman  leisure / sports     8.836818e+05           3.995752e+06   \n",
       "             Woman              care     1.353040e+06           3.995752e+06   \n",
       "             Woman              work     1.601537e+06           3.995752e+06   \n",
       "kids         Man                work     4.818672e+03           1.285025e+06   \n",
       "             Man               other     1.900734e+04           1.285025e+06   \n",
       "             Man                care     5.092642e+04           1.285025e+06   \n",
       "             Man    leisure / sports     2.365854e+05           1.285025e+06   \n",
       "             Man               study     9.736871e+05           1.285025e+06   \n",
       "             Woman              work     2.574304e+03           1.203685e+06   \n",
       "             Woman             other     2.330896e+04           1.203685e+06   \n",
       "             Woman              care     6.604836e+04           1.203685e+06   \n",
       "             Woman  leisure / sports     1.842930e+05           1.203685e+06   \n",
       "             Woman             study     9.274600e+05           1.203685e+06   \n",
       "seniors      Man               study     1.276931e+04           2.397749e+06   \n",
       "             Man               other     7.584964e+04           2.397749e+06   \n",
       "             Man                work     5.304932e+05           2.397749e+06   \n",
       "             Man                care     7.087117e+05           2.397749e+06   \n",
       "             Man    leisure / sports     1.069925e+06           2.397749e+06   \n",
       "             Woman             study     1.960610e+04           2.524022e+06   \n",
       "             Woman             other     9.155860e+04           2.524022e+06   \n",
       "             Woman              work     4.107989e+05           2.524022e+06   \n",
       "             Woman              care     9.835155e+05           2.524022e+06   \n",
       "             Woman  leisure / sports     1.018543e+06           2.524022e+06   \n",
       "young adults Man               other     1.224303e+04           5.393564e+05   \n",
       "             Man                care     3.546465e+04           5.393564e+05   \n",
       "             Man                work     1.170980e+05           5.393564e+05   \n",
       "             Man    leisure / sports     1.682636e+05           5.393564e+05   \n",
       "             Man               study     2.062871e+05           5.393564e+05   \n",
       "             Woman             other     1.471504e+04           5.607295e+05   \n",
       "             Woman              care     5.794870e+04           5.607295e+05   \n",
       "             Woman              work     1.166034e+05           5.607295e+05   \n",
       "             Woman  leisure / sports     1.489868e+05           5.607295e+05   \n",
       "             Woman             study     2.224756e+05           5.607295e+05   \n",
       "\n",
       "                         perc  \n",
       "age_group    sex               \n",
       "adults       Man     1.689749  \n",
       "             Man     1.930085  \n",
       "             Man    19.667349  \n",
       "             Man    20.531673  \n",
       "             Man    56.181144  \n",
       "             Woman   1.833263  \n",
       "             Woman   2.108264  \n",
       "             Woman  22.115531  \n",
       "             Woman  33.861957  \n",
       "             Woman  40.080985  \n",
       "kids         Man     0.374987  \n",
       "             Man     1.479142  \n",
       "             Man     3.963069  \n",
       "             Man    18.410960  \n",
       "             Man    75.771842  \n",
       "             Woman   0.213869  \n",
       "             Woman   1.936467  \n",
       "             Woman   5.487181  \n",
       "             Woman  15.310740  \n",
       "             Woman  77.051743  \n",
       "seniors      Man     0.532554  \n",
       "             Man     3.163369  \n",
       "             Man    22.124637  \n",
       "             Man    29.557379  \n",
       "             Man    44.622061  \n",
       "             Woman   0.776780  \n",
       "             Woman   3.627488  \n",
       "             Woman  16.275565  \n",
       "             Woman  38.966200  \n",
       "             Woman  40.353968  \n",
       "young adults Man     2.269932  \n",
       "             Man     6.575365  \n",
       "             Man    21.710688  \n",
       "             Man    31.197107  \n",
       "             Man    38.246908  \n",
       "             Woman   2.624267  \n",
       "             Woman  10.334520  \n",
       "             Woman  20.794944  \n",
       "             Woman  26.570173  \n",
       "             Woman  39.676095  "
      ]
     },
     "execution_count": 152,
     "metadata": {},
     "output_type": "execute_result"
    }
   ],
   "source": [
    "sum_of_weighted_trips = pd.DataFrame(df.groupby([\"age_group\", \"sex\"]).sum(\"ELE_G_POND_ESC2\")).reset_index()[[\"age_group\", \"sex\",\"ELE_G_POND_ESC2\"]]\n",
    "\n",
    "weighted_trips = df.groupby([\"age_group\", \"sex\", \"motive_simple\"]).sum(\"ELE_G_POND_ESC2\").reset_index().set_index([\"age_group\", \"sex\"])[[\"motive_simple\", \"ELE_G_POND_ESC2\"]]\n",
    "weighted_trips = weighted_trips.join(sum_of_weighted_trips.set_index([\"age_group\", \"sex\"]), rsuffix = \"_total\")\n",
    "\n",
    "weighted_trips[\"perc\"] = weighted_trips.ELE_G_POND_ESC2 / weighted_trips.ELE_G_POND_ESC2_total * 100\n",
    "\n",
    "weighted_trips.sort_values([\"age_group\", \"sex\", \"perc\"])"
   ]
  },
  {
   "cell_type": "markdown",
   "metadata": {},
   "source": [
    "### Modal split"
   ]
  },
  {
   "cell_type": "markdown",
   "metadata": {},
   "source": [
    "**aggregated modes**"
   ]
  },
  {
   "cell_type": "code",
   "execution_count": 11,
   "metadata": {},
   "outputs": [
    {
     "data": {
      "text/html": [
       "<div>\n",
       "<style scoped>\n",
       "    .dataframe tbody tr th:only-of-type {\n",
       "        vertical-align: middle;\n",
       "    }\n",
       "\n",
       "    .dataframe tbody tr th {\n",
       "        vertical-align: top;\n",
       "    }\n",
       "\n",
       "    .dataframe thead th {\n",
       "        text-align: right;\n",
       "    }\n",
       "</style>\n",
       "<table border=\"1\" class=\"dataframe\">\n",
       "  <thead>\n",
       "    <tr style=\"text-align: right;\">\n",
       "      <th></th>\n",
       "      <th>mode_simple</th>\n",
       "      <th>ELE_G_POND_ESC2</th>\n",
       "    </tr>\n",
       "  </thead>\n",
       "  <tbody>\n",
       "    <tr>\n",
       "      <th>0</th>\n",
       "      <td>car</td>\n",
       "      <td>0.439187</td>\n",
       "    </tr>\n",
       "    <tr>\n",
       "      <th>1</th>\n",
       "      <td>other</td>\n",
       "      <td>0.027688</td>\n",
       "    </tr>\n",
       "    <tr>\n",
       "      <th>2</th>\n",
       "      <td>public transport</td>\n",
       "      <td>0.220380</td>\n",
       "    </tr>\n",
       "    <tr>\n",
       "      <th>3</th>\n",
       "      <td>walk</td>\n",
       "      <td>0.312744</td>\n",
       "    </tr>\n",
       "  </tbody>\n",
       "</table>\n",
       "</div>"
      ],
      "text/plain": [
       "        mode_simple  ELE_G_POND_ESC2\n",
       "0               car         0.439187\n",
       "1             other         0.027688\n",
       "2  public transport         0.220380\n",
       "3              walk         0.312744"
      ]
     },
     "execution_count": 11,
     "metadata": {},
     "output_type": "execute_result"
    }
   ],
   "source": [
    "# modal split men weighted\n",
    "modes_weighted = df[df.sex == 'Man'].groupby([\"mode_simple\"]).sum()\n",
    "modes_sex_sum = modes_weighted[\"ELE_G_POND_ESC2\"].sum()\n",
    "weighted_modes = pd.DataFrame(modes_weighted['ELE_G_POND_ESC2'] / modes_sex_sum).reset_index()\n",
    "weighted_modes"
   ]
  },
  {
   "cell_type": "code",
   "execution_count": 12,
   "metadata": {},
   "outputs": [
    {
     "data": {
      "text/html": [
       "<div>\n",
       "<style scoped>\n",
       "    .dataframe tbody tr th:only-of-type {\n",
       "        vertical-align: middle;\n",
       "    }\n",
       "\n",
       "    .dataframe tbody tr th {\n",
       "        vertical-align: top;\n",
       "    }\n",
       "\n",
       "    .dataframe thead th {\n",
       "        text-align: right;\n",
       "    }\n",
       "</style>\n",
       "<table border=\"1\" class=\"dataframe\">\n",
       "  <thead>\n",
       "    <tr style=\"text-align: right;\">\n",
       "      <th></th>\n",
       "      <th>mode_simple</th>\n",
       "      <th>ELE_G_POND_ESC2</th>\n",
       "    </tr>\n",
       "  </thead>\n",
       "  <tbody>\n",
       "    <tr>\n",
       "      <th>0</th>\n",
       "      <td>car</td>\n",
       "      <td>0.354988</td>\n",
       "    </tr>\n",
       "    <tr>\n",
       "      <th>1</th>\n",
       "      <td>other</td>\n",
       "      <td>0.006683</td>\n",
       "    </tr>\n",
       "    <tr>\n",
       "      <th>2</th>\n",
       "      <td>public transport</td>\n",
       "      <td>0.274191</td>\n",
       "    </tr>\n",
       "    <tr>\n",
       "      <th>3</th>\n",
       "      <td>walk</td>\n",
       "      <td>0.364139</td>\n",
       "    </tr>\n",
       "  </tbody>\n",
       "</table>\n",
       "</div>"
      ],
      "text/plain": [
       "        mode_simple  ELE_G_POND_ESC2\n",
       "0               car         0.354988\n",
       "1             other         0.006683\n",
       "2  public transport         0.274191\n",
       "3              walk         0.364139"
      ]
     },
     "execution_count": 12,
     "metadata": {},
     "output_type": "execute_result"
    }
   ],
   "source": [
    "# modal split women weighted\n",
    "modes_weighted = df[df.sex == 'Woman'].groupby([\"mode_simple\"]).sum()\n",
    "modes_sex_sum = modes_weighted[\"ELE_G_POND_ESC2\"].sum()\n",
    "weighted_modes = pd.DataFrame(modes_weighted['ELE_G_POND_ESC2'] / modes_sex_sum).reset_index()\n",
    "weighted_modes"
   ]
  },
  {
   "cell_type": "markdown",
   "metadata": {},
   "source": [
    "**full modes - public transport in detail**"
   ]
  },
  {
   "cell_type": "code",
   "execution_count": 13,
   "metadata": {},
   "outputs": [],
   "source": [
    "# weighted\n",
    "full_modes_weighted = df.groupby([\"sex\", \"mode\", \"MODO_PRIORITARIO\"]).sum()\n",
    "modes_sex_sum = full_modes_weighted[\"ELE_G_POND_ESC2\"].sum()\n",
    "weighted_modes = pd.DataFrame(full_modes_weighted['ELE_G_POND_ESC2'] / modes_sex_sum).reset_index()"
   ]
  },
  {
   "cell_type": "code",
   "execution_count": 14,
   "metadata": {},
   "outputs": [
    {
     "data": {
      "text/html": [
       "<div>\n",
       "<style scoped>\n",
       "    .dataframe tbody tr th:only-of-type {\n",
       "        vertical-align: middle;\n",
       "    }\n",
       "\n",
       "    .dataframe tbody tr th {\n",
       "        vertical-align: top;\n",
       "    }\n",
       "\n",
       "    .dataframe thead th {\n",
       "        text-align: right;\n",
       "    }\n",
       "</style>\n",
       "<table border=\"1\" class=\"dataframe\">\n",
       "  <thead>\n",
       "    <tr style=\"text-align: right;\">\n",
       "      <th></th>\n",
       "      <th>sex</th>\n",
       "      <th>mode</th>\n",
       "      <th>MODO_PRIORITARIO</th>\n",
       "      <th>ELE_G_POND_ESC2</th>\n",
       "    </tr>\n",
       "  </thead>\n",
       "  <tbody>\n",
       "    <tr>\n",
       "      <th>2</th>\n",
       "      <td>Man</td>\n",
       "      <td>Bus long haul '</td>\n",
       "      <td>9.0</td>\n",
       "      <td>0.000087</td>\n",
       "    </tr>\n",
       "    <tr>\n",
       "      <th>26</th>\n",
       "      <td>Woman</td>\n",
       "      <td>Bus long haul '</td>\n",
       "      <td>9.0</td>\n",
       "      <td>0.000064</td>\n",
       "    </tr>\n",
       "    <tr>\n",
       "      <th>4</th>\n",
       "      <td>Man</td>\n",
       "      <td>Cercanías'</td>\n",
       "      <td>1.0</td>\n",
       "      <td>0.020139</td>\n",
       "    </tr>\n",
       "    <tr>\n",
       "      <th>28</th>\n",
       "      <td>Woman</td>\n",
       "      <td>Cercanías'</td>\n",
       "      <td>1.0</td>\n",
       "      <td>0.022104</td>\n",
       "    </tr>\n",
       "    <tr>\n",
       "      <th>6</th>\n",
       "      <td>Man</td>\n",
       "      <td>LRT / tram '</td>\n",
       "      <td>5.0</td>\n",
       "      <td>0.000487</td>\n",
       "    </tr>\n",
       "    <tr>\n",
       "      <th>30</th>\n",
       "      <td>Woman</td>\n",
       "      <td>LRT / tram '</td>\n",
       "      <td>5.0</td>\n",
       "      <td>0.000579</td>\n",
       "    </tr>\n",
       "    <tr>\n",
       "      <th>7</th>\n",
       "      <td>Man</td>\n",
       "      <td>Meter '</td>\n",
       "      <td>4.0</td>\n",
       "      <td>0.040142</td>\n",
       "    </tr>\n",
       "    <tr>\n",
       "      <th>31</th>\n",
       "      <td>Woman</td>\n",
       "      <td>Meter '</td>\n",
       "      <td>4.0</td>\n",
       "      <td>0.051421</td>\n",
       "    </tr>\n",
       "    <tr>\n",
       "      <th>12</th>\n",
       "      <td>Man</td>\n",
       "      <td>Rest renfe '</td>\n",
       "      <td>7.0</td>\n",
       "      <td>0.000222</td>\n",
       "    </tr>\n",
       "    <tr>\n",
       "      <th>36</th>\n",
       "      <td>Woman</td>\n",
       "      <td>Rest renfe '</td>\n",
       "      <td>7.0</td>\n",
       "      <td>0.000236</td>\n",
       "    </tr>\n",
       "    <tr>\n",
       "      <th>15</th>\n",
       "      <td>Man</td>\n",
       "      <td>Urban bus EMT Madrid '</td>\n",
       "      <td>6.0</td>\n",
       "      <td>0.023158</td>\n",
       "    </tr>\n",
       "    <tr>\n",
       "      <th>38</th>\n",
       "      <td>Woman</td>\n",
       "      <td>Urban bus EMT Madrid '</td>\n",
       "      <td>6.0</td>\n",
       "      <td>0.038784</td>\n",
       "    </tr>\n",
       "    <tr>\n",
       "      <th>16</th>\n",
       "      <td>Man</td>\n",
       "      <td>Urban bus another municipality '</td>\n",
       "      <td>3.0</td>\n",
       "      <td>0.002781</td>\n",
       "    </tr>\n",
       "    <tr>\n",
       "      <th>39</th>\n",
       "      <td>Woman</td>\n",
       "      <td>Urban bus another municipality '</td>\n",
       "      <td>3.0</td>\n",
       "      <td>0.005518</td>\n",
       "    </tr>\n",
       "    <tr>\n",
       "      <th>19</th>\n",
       "      <td>Man</td>\n",
       "      <td>discretionary bus'</td>\n",
       "      <td>8.0</td>\n",
       "      <td>0.002530</td>\n",
       "    </tr>\n",
       "    <tr>\n",
       "      <th>42</th>\n",
       "      <td>Woman</td>\n",
       "      <td>discretionary bus'</td>\n",
       "      <td>8.0</td>\n",
       "      <td>0.002381</td>\n",
       "    </tr>\n",
       "    <tr>\n",
       "      <th>20</th>\n",
       "      <td>Man</td>\n",
       "      <td>intercity bus'</td>\n",
       "      <td>2.0</td>\n",
       "      <td>0.015630</td>\n",
       "    </tr>\n",
       "    <tr>\n",
       "      <th>43</th>\n",
       "      <td>Woman</td>\n",
       "      <td>intercity bus'</td>\n",
       "      <td>2.0</td>\n",
       "      <td>0.022247</td>\n",
       "    </tr>\n",
       "  </tbody>\n",
       "</table>\n",
       "</div>"
      ],
      "text/plain": [
       "      sex                              mode  MODO_PRIORITARIO  ELE_G_POND_ESC2\n",
       "2     Man                   Bus long haul '               9.0         0.000087\n",
       "26  Woman                   Bus long haul '               9.0         0.000064\n",
       "4     Man                        Cercanías'               1.0         0.020139\n",
       "28  Woman                        Cercanías'               1.0         0.022104\n",
       "6     Man                      LRT / tram '               5.0         0.000487\n",
       "30  Woman                      LRT / tram '               5.0         0.000579\n",
       "7     Man                           Meter '               4.0         0.040142\n",
       "31  Woman                           Meter '               4.0         0.051421\n",
       "12    Man                      Rest renfe '               7.0         0.000222\n",
       "36  Woman                      Rest renfe '               7.0         0.000236\n",
       "15    Man            Urban bus EMT Madrid '               6.0         0.023158\n",
       "38  Woman            Urban bus EMT Madrid '               6.0         0.038784\n",
       "16    Man  Urban bus another municipality '               3.0         0.002781\n",
       "39  Woman  Urban bus another municipality '               3.0         0.005518\n",
       "19    Man                discretionary bus'               8.0         0.002530\n",
       "42  Woman                discretionary bus'               8.0         0.002381\n",
       "20    Man                    intercity bus'               2.0         0.015630\n",
       "43  Woman                    intercity bus'               2.0         0.022247"
      ]
     },
     "execution_count": 14,
     "metadata": {},
     "output_type": "execute_result"
    }
   ],
   "source": [
    "# public transport usage in detail\n",
    "only_pt = weighted_modes[weighted_modes.MODO_PRIORITARIO < 10]\n",
    "only_pt.sort_values(\"mode\")"
   ]
  },
  {
   "cell_type": "markdown",
   "metadata": {},
   "source": [
    "### speed"
   ]
  },
  {
   "cell_type": "code",
   "execution_count": 15,
   "metadata": {},
   "outputs": [
    {
     "data": {
      "text/html": [
       "<div>\n",
       "<style scoped>\n",
       "    .dataframe tbody tr th:only-of-type {\n",
       "        vertical-align: middle;\n",
       "    }\n",
       "\n",
       "    .dataframe tbody tr th {\n",
       "        vertical-align: top;\n",
       "    }\n",
       "\n",
       "    .dataframe thead th {\n",
       "        text-align: right;\n",
       "    }\n",
       "</style>\n",
       "<table border=\"1\" class=\"dataframe\">\n",
       "  <thead>\n",
       "    <tr style=\"text-align: right;\">\n",
       "      <th></th>\n",
       "      <th>count</th>\n",
       "      <th>mean</th>\n",
       "      <th>std</th>\n",
       "      <th>min</th>\n",
       "      <th>25%</th>\n",
       "      <th>50%</th>\n",
       "      <th>75%</th>\n",
       "      <th>max</th>\n",
       "    </tr>\n",
       "    <tr>\n",
       "      <th>sex</th>\n",
       "      <th></th>\n",
       "      <th></th>\n",
       "      <th></th>\n",
       "      <th></th>\n",
       "      <th></th>\n",
       "      <th></th>\n",
       "      <th></th>\n",
       "      <th></th>\n",
       "    </tr>\n",
       "  </thead>\n",
       "  <tbody>\n",
       "    <tr>\n",
       "      <th>Man</th>\n",
       "      <td>101502.0</td>\n",
       "      <td>13.589210</td>\n",
       "      <td>14.519804</td>\n",
       "      <td>0.0</td>\n",
       "      <td>3.409656</td>\n",
       "      <td>8.030965</td>\n",
       "      <td>18.816042</td>\n",
       "      <td>145.303594</td>\n",
       "    </tr>\n",
       "    <tr>\n",
       "      <th>Woman</th>\n",
       "      <td>121095.0</td>\n",
       "      <td>11.632889</td>\n",
       "      <td>12.873258</td>\n",
       "      <td>0.0</td>\n",
       "      <td>3.138266</td>\n",
       "      <td>6.898600</td>\n",
       "      <td>15.205989</td>\n",
       "      <td>149.810836</td>\n",
       "    </tr>\n",
       "  </tbody>\n",
       "</table>\n",
       "</div>"
      ],
      "text/plain": [
       "          count       mean        std  min       25%       50%        75%  \\\n",
       "sex                                                                         \n",
       "Man    101502.0  13.589210  14.519804  0.0  3.409656  8.030965  18.816042   \n",
       "Woman  121095.0  11.632889  12.873258  0.0  3.138266  6.898600  15.205989   \n",
       "\n",
       "              max  \n",
       "sex                \n",
       "Man    145.303594  \n",
       "Woman  149.810836  "
      ]
     },
     "execution_count": 15,
     "metadata": {},
     "output_type": "execute_result"
    }
   ],
   "source": [
    "# average speed by sex\n",
    "df.groupby(\"sex\").speed.describe()"
   ]
  },
  {
   "cell_type": "code",
   "execution_count": 33,
   "metadata": {},
   "outputs": [
    {
     "data": {
      "text/plain": [
       "sex\n",
       "Man      13.574981\n",
       "Woman    11.087446\n",
       "dtype: float64"
      ]
     },
     "execution_count": 33,
     "metadata": {},
     "output_type": "execute_result"
    }
   ],
   "source": [
    "# weighted average speed by sex\n",
    "df[\"weighted_speed\"] = df.speed * df.ELE_G_POND_ESC2\n",
    "\n",
    "# get the weighted mean speed\n",
    "df_sex_sum = df.groupby(\"sex\").sum()\n",
    "df_sex_sum.weighted_speed / df_sex_sum.ELE_G_POND_ESC2 "
   ]
  },
  {
   "cell_type": "code",
   "execution_count": 17,
   "metadata": {},
   "outputs": [
    {
     "data": {
      "text/plain": [
       "<matplotlib.axes._subplots.AxesSubplot at 0x21f6477ab08>"
      ]
     },
     "execution_count": 17,
     "metadata": {},
     "output_type": "execute_result"
    },
    {
     "data": {
      "image/png": "[encoded data removed]",
      "text/plain": [
       "<Figure size 432x288 with 1 Axes>"
      ]
     },
     "metadata": {
      "needs_background": "light"
     },
     "output_type": "display_data"
    }
   ],
   "source": [
    "# average speed by age and sex\n",
    "x = df.groupby([\"rounded_age\", \"sex\"]).agg({\"speed\":\"mean\"})\n",
    "x = x.reset_index().pivot(index='rounded_age', columns='sex', values='speed')\n",
    "x.plot()"
   ]
  },
  {
   "cell_type": "code",
   "execution_count": 18,
   "metadata": {},
   "outputs": [
    {
     "data": {
      "text/html": [
       "<div>\n",
       "<style scoped>\n",
       "    .dataframe tbody tr th:only-of-type {\n",
       "        vertical-align: middle;\n",
       "    }\n",
       "\n",
       "    .dataframe tbody tr th {\n",
       "        vertical-align: top;\n",
       "    }\n",
       "\n",
       "    .dataframe thead th {\n",
       "        text-align: right;\n",
       "    }\n",
       "</style>\n",
       "<table border=\"1\" class=\"dataframe\">\n",
       "  <thead>\n",
       "    <tr style=\"text-align: right;\">\n",
       "      <th></th>\n",
       "      <th></th>\n",
       "      <th>count</th>\n",
       "      <th>mean</th>\n",
       "      <th>std</th>\n",
       "      <th>min</th>\n",
       "      <th>25%</th>\n",
       "      <th>50%</th>\n",
       "      <th>75%</th>\n",
       "      <th>max</th>\n",
       "    </tr>\n",
       "    <tr>\n",
       "      <th>sex</th>\n",
       "      <th>mode_simple</th>\n",
       "      <th></th>\n",
       "      <th></th>\n",
       "      <th></th>\n",
       "      <th></th>\n",
       "      <th></th>\n",
       "      <th></th>\n",
       "      <th></th>\n",
       "      <th></th>\n",
       "    </tr>\n",
       "  </thead>\n",
       "  <tbody>\n",
       "    <tr>\n",
       "      <th rowspan=\"4\" valign=\"top\">Man</th>\n",
       "      <th>car</th>\n",
       "      <td>44304.0</td>\n",
       "      <td>21.925916</td>\n",
       "      <td>16.179870</td>\n",
       "      <td>0.0</td>\n",
       "      <td>9.152454</td>\n",
       "      <td>17.397114</td>\n",
       "      <td>31.201447</td>\n",
       "      <td>145.303594</td>\n",
       "    </tr>\n",
       "    <tr>\n",
       "      <th>other</th>\n",
       "      <td>2708.0</td>\n",
       "      <td>16.231940</td>\n",
       "      <td>13.733976</td>\n",
       "      <td>0.0</td>\n",
       "      <td>7.049733</td>\n",
       "      <td>11.792933</td>\n",
       "      <td>21.097021</td>\n",
       "      <td>138.721951</td>\n",
       "    </tr>\n",
       "    <tr>\n",
       "      <th>public transport</th>\n",
       "      <td>22336.0</td>\n",
       "      <td>12.574530</td>\n",
       "      <td>9.683606</td>\n",
       "      <td>0.0</td>\n",
       "      <td>6.535480</td>\n",
       "      <td>9.586322</td>\n",
       "      <td>15.654492</td>\n",
       "      <td>141.592342</td>\n",
       "    </tr>\n",
       "    <tr>\n",
       "      <th>walk</th>\n",
       "      <td>32154.0</td>\n",
       "      <td>2.584607</td>\n",
       "      <td>2.372329</td>\n",
       "      <td>0.0</td>\n",
       "      <td>1.388628</td>\n",
       "      <td>2.381501</td>\n",
       "      <td>3.533331</td>\n",
       "      <td>144.425398</td>\n",
       "    </tr>\n",
       "    <tr>\n",
       "      <th rowspan=\"4\" valign=\"top\">Woman</th>\n",
       "      <th>car</th>\n",
       "      <td>45546.0</td>\n",
       "      <td>20.123352</td>\n",
       "      <td>15.159405</td>\n",
       "      <td>0.0</td>\n",
       "      <td>8.449581</td>\n",
       "      <td>15.283129</td>\n",
       "      <td>27.914245</td>\n",
       "      <td>145.371572</td>\n",
       "    </tr>\n",
       "    <tr>\n",
       "      <th>other</th>\n",
       "      <td>775.0</td>\n",
       "      <td>12.361797</td>\n",
       "      <td>10.800769</td>\n",
       "      <td>0.0</td>\n",
       "      <td>5.810543</td>\n",
       "      <td>9.489065</td>\n",
       "      <td>14.783374</td>\n",
       "      <td>67.854716</td>\n",
       "    </tr>\n",
       "    <tr>\n",
       "      <th>public transport</th>\n",
       "      <td>32113.0</td>\n",
       "      <td>11.674829</td>\n",
       "      <td>8.863175</td>\n",
       "      <td>0.0</td>\n",
       "      <td>6.310020</td>\n",
       "      <td>8.968342</td>\n",
       "      <td>14.301849</td>\n",
       "      <td>149.810836</td>\n",
       "    </tr>\n",
       "    <tr>\n",
       "      <th>walk</th>\n",
       "      <td>42661.0</td>\n",
       "      <td>2.523435</td>\n",
       "      <td>1.963335</td>\n",
       "      <td>0.0</td>\n",
       "      <td>1.402549</td>\n",
       "      <td>2.333292</td>\n",
       "      <td>3.448100</td>\n",
       "      <td>119.665207</td>\n",
       "    </tr>\n",
       "  </tbody>\n",
       "</table>\n",
       "</div>"
      ],
      "text/plain": [
       "                          count       mean        std  min       25%  \\\n",
       "sex   mode_simple                                                      \n",
       "Man   car               44304.0  21.925916  16.179870  0.0  9.152454   \n",
       "      other              2708.0  16.231940  13.733976  0.0  7.049733   \n",
       "      public transport  22336.0  12.574530   9.683606  0.0  6.535480   \n",
       "      walk              32154.0   2.584607   2.372329  0.0  1.388628   \n",
       "Woman car               45546.0  20.123352  15.159405  0.0  8.449581   \n",
       "      other               775.0  12.361797  10.800769  0.0  5.810543   \n",
       "      public transport  32113.0  11.674829   8.863175  0.0  6.310020   \n",
       "      walk              42661.0   2.523435   1.963335  0.0  1.402549   \n",
       "\n",
       "                              50%        75%         max  \n",
       "sex   mode_simple                                         \n",
       "Man   car               17.397114  31.201447  145.303594  \n",
       "      other             11.792933  21.097021  138.721951  \n",
       "      public transport   9.586322  15.654492  141.592342  \n",
       "      walk               2.381501   3.533331  144.425398  \n",
       "Woman car               15.283129  27.914245  145.371572  \n",
       "      other              9.489065  14.783374   67.854716  \n",
       "      public transport   8.968342  14.301849  149.810836  \n",
       "      walk               2.333292   3.448100  119.665207  "
      ]
     },
     "execution_count": 18,
     "metadata": {},
     "output_type": "execute_result"
    }
   ],
   "source": [
    "# speed by mode and sex\n",
    "df.groupby([\"sex\", \"mode_simple\"]).speed.describe()"
   ]
  },
  {
   "cell_type": "markdown",
   "metadata": {},
   "source": [
    "**weighted pt speed**\n",
    "\n",
    "only comparing speed public transport trips"
   ]
  },
  {
   "cell_type": "code",
   "execution_count": 36,
   "metadata": {},
   "outputs": [
    {
     "data": {
      "text/plain": [
       "sex\n",
       "Man      12.406572\n",
       "Woman    11.334209\n",
       "dtype: float64"
      ]
     },
     "execution_count": 36,
     "metadata": {},
     "output_type": "execute_result"
    }
   ],
   "source": [
    "# get the weighted mean speed for public transport\n",
    "df_pt_sex_sum = df.loc[df.mode_simple == \"public transport\", ].groupby(\"sex\").sum()\n",
    "df_pt_sex_sum.weighted_speed / df_pt_sex_sum.ELE_G_POND_ESC2 "
   ]
  },
  {
   "cell_type": "markdown",
   "metadata": {},
   "source": [
    "**weighted car speed**\n",
    "\n",
    "only comparing speed of trips of cars"
   ]
  },
  {
   "cell_type": "code",
   "execution_count": 38,
   "metadata": {},
   "outputs": [
    {
     "data": {
      "text/plain": [
       "sex\n",
       "Man      21.872648\n",
       "Woman    19.681331\n",
       "dtype: float64"
      ]
     },
     "execution_count": 38,
     "metadata": {},
     "output_type": "execute_result"
    }
   ],
   "source": [
    "# get the weighted mean speed for public transport\n",
    "df_car_sex_sum = df.loc[df.mode_simple == \"car\", ].groupby(\"sex\").sum()\n",
    "df_car_sex_sum.weighted_speed / df_car_sex_sum.ELE_G_POND_ESC2 "
   ]
  },
  {
   "cell_type": "markdown",
   "metadata": {},
   "source": [
    "**weighted walking speed**\n",
    "\n",
    "only comparing speed of walked trips"
   ]
  },
  {
   "cell_type": "code",
   "execution_count": 39,
   "metadata": {},
   "outputs": [
    {
     "data": {
      "text/plain": [
       "sex\n",
       "Man      2.541880\n",
       "Woman    2.504671\n",
       "dtype: float64"
      ]
     },
     "execution_count": 39,
     "metadata": {},
     "output_type": "execute_result"
    }
   ],
   "source": [
    "# get the weighted mean speed for public transport\n",
    "df_walk_sex_sum = df.loc[df.mode_simple == \"walk\", ].groupby(\"sex\").sum()\n",
    "df_walk_sex_sum.weighted_speed / df_walk_sex_sum.ELE_G_POND_ESC2 "
   ]
  },
  {
   "cell_type": "markdown",
   "metadata": {},
   "source": [
    "### legs (etapas)"
   ]
  },
  {
   "cell_type": "code",
   "execution_count": 41,
   "metadata": {},
   "outputs": [
    {
     "data": {
      "text/html": [
       "<div>\n",
       "<style scoped>\n",
       "    .dataframe tbody tr th:only-of-type {\n",
       "        vertical-align: middle;\n",
       "    }\n",
       "\n",
       "    .dataframe tbody tr th {\n",
       "        vertical-align: top;\n",
       "    }\n",
       "\n",
       "    .dataframe thead th {\n",
       "        text-align: right;\n",
       "    }\n",
       "</style>\n",
       "<table border=\"1\" class=\"dataframe\">\n",
       "  <thead>\n",
       "    <tr style=\"text-align: right;\">\n",
       "      <th></th>\n",
       "      <th>count</th>\n",
       "      <th>mean</th>\n",
       "      <th>std</th>\n",
       "      <th>min</th>\n",
       "      <th>25%</th>\n",
       "      <th>50%</th>\n",
       "      <th>75%</th>\n",
       "      <th>max</th>\n",
       "    </tr>\n",
       "    <tr>\n",
       "      <th>sex</th>\n",
       "      <th></th>\n",
       "      <th></th>\n",
       "      <th></th>\n",
       "      <th></th>\n",
       "      <th></th>\n",
       "      <th></th>\n",
       "      <th></th>\n",
       "      <th></th>\n",
       "    </tr>\n",
       "  </thead>\n",
       "  <tbody>\n",
       "    <tr>\n",
       "      <th>Man</th>\n",
       "      <td>101580.0</td>\n",
       "      <td>1.136011</td>\n",
       "      <td>0.444797</td>\n",
       "      <td>1.0</td>\n",
       "      <td>1.0</td>\n",
       "      <td>1.0</td>\n",
       "      <td>1.0</td>\n",
       "      <td>6.0</td>\n",
       "    </tr>\n",
       "    <tr>\n",
       "      <th>Woman</th>\n",
       "      <td>121164.0</td>\n",
       "      <td>1.169836</td>\n",
       "      <td>0.493473</td>\n",
       "      <td>1.0</td>\n",
       "      <td>1.0</td>\n",
       "      <td>1.0</td>\n",
       "      <td>1.0</td>\n",
       "      <td>6.0</td>\n",
       "    </tr>\n",
       "  </tbody>\n",
       "</table>\n",
       "</div>"
      ],
      "text/plain": [
       "          count      mean       std  min  25%  50%  75%  max\n",
       "sex                                                         \n",
       "Man    101580.0  1.136011  0.444797  1.0  1.0  1.0  1.0  6.0\n",
       "Woman  121164.0  1.169836  0.493473  1.0  1.0  1.0  1.0  6.0"
      ]
     },
     "execution_count": 41,
     "metadata": {},
     "output_type": "execute_result"
    }
   ],
   "source": [
    "# average legs by sex\n",
    "df.groupby([\"sex\"]).N_ETAPAS_POR_VIAJE.describe()"
   ]
  },
  {
   "cell_type": "code",
   "execution_count": 42,
   "metadata": {},
   "outputs": [
    {
     "data": {
      "text/plain": [
       "sex\n",
       "Man      1.138136\n",
       "Woman    1.170062\n",
       "dtype: float64"
      ]
     },
     "execution_count": 42,
     "metadata": {},
     "output_type": "execute_result"
    }
   ],
   "source": [
    "# weighted average legs\n",
    "df[\"weighted_legs\"] = df.N_ETAPAS_POR_VIAJE * df.ELE_G_POND_ESC2\n",
    "\n",
    "# get the weighted mean legs count\n",
    "df_sex_sum = df.groupby(\"sex\").sum()\n",
    "df_sex_sum.weighted_legs / df_sex_sum.ELE_G_POND_ESC2 "
   ]
  },
  {
   "cell_type": "code",
   "execution_count": 43,
   "metadata": {},
   "outputs": [
    {
     "data": {
      "text/plain": [
       "mode_simple\n",
       "car                 1.001279\n",
       "other               1.000000\n",
       "public transport    1.629330\n",
       "walk                1.000000\n",
       "Name: N_ETAPAS_POR_VIAJE, dtype: float64"
      ]
     },
     "execution_count": 43,
     "metadata": {},
     "output_type": "execute_result"
    }
   ],
   "source": [
    "# check: multiple legs only with public transport\n",
    "df.groupby([\"mode_simple\"]).mean().N_ETAPAS_POR_VIAJE"
   ]
  },
  {
   "cell_type": "code",
   "execution_count": 76,
   "metadata": {},
   "outputs": [
    {
     "data": {
      "text/plain": [
       "sex\n",
       "Man      1.616004\n",
       "Woman    1.638599\n",
       "Name: N_ETAPAS_POR_VIAJE, dtype: float64"
      ]
     },
     "execution_count": 76,
     "metadata": {},
     "output_type": "execute_result"
    }
   ],
   "source": [
    "# average legs by gender only for public transport trips\n",
    "df[df.mode_simple == \"public transport\"].groupby(\"sex\").mean().N_ETAPAS_POR_VIAJE"
   ]
  },
  {
   "cell_type": "code",
   "execution_count": 77,
   "metadata": {},
   "outputs": [
    {
     "data": {
      "text/plain": [
       "sex\n",
       "Man      1.624611\n",
       "Woman    1.618434\n",
       "dtype: float64"
      ]
     },
     "execution_count": 77,
     "metadata": {},
     "output_type": "execute_result"
    }
   ],
   "source": [
    "# weighted average legs for public transport\n",
    "\n",
    "df_sex_sum = df.loc[df.mode_simple == \"public transport\", ].groupby(\"sex\").sum()\n",
    "df_sex_sum.weighted_legs / df_sex_sum.ELE_G_POND_ESC2 "
   ]
  },
  {
   "cell_type": "code",
   "execution_count": 80,
   "metadata": {},
   "outputs": [
    {
     "data": {
      "text/plain": [
       "<matplotlib.axes._subplots.AxesSubplot at 0x21f0dbd7b48>"
      ]
     },
     "execution_count": 80,
     "metadata": {},
     "output_type": "execute_result"
    },
    {
     "data": {
      "image/png": "[encoded data removed]",
      "text/plain": [
       "<Figure size 432x288 with 1 Axes>"
      ]
     },
     "metadata": {
      "needs_background": "light"
     },
     "output_type": "display_data"
    }
   ],
   "source": [
    "# average legs by age and sex\n",
    "x = df.loc[df.mode_simple == \"public transport\"].groupby([\"rounded_age\", \"sex\"]).agg({\"N_ETAPAS_POR_VIAJE\":\"mean\"})\n",
    "x = x.reset_index().pivot(index='rounded_age', columns='sex', values='N_ETAPAS_POR_VIAJE')\n",
    "x.plot()"
   ]
  },
  {
   "cell_type": "markdown",
   "metadata": {},
   "source": [
    "### main activity"
   ]
  },
  {
   "cell_type": "code",
   "execution_count": 23,
   "metadata": {},
   "outputs": [
    {
     "data": {
      "text/plain": [
       "sex    activity_simple       \n",
       "Man    working                   0.474748\n",
       "       not working               0.279302\n",
       "       student                   0.237037\n",
       "       domestic and care work    0.008912\n",
       "Woman  working                   0.459152\n",
       "       not working               0.263013\n",
       "       student                   0.162683\n",
       "       domestic and care work    0.115152\n",
       "Name: activity_simple, dtype: float64"
      ]
     },
     "execution_count": 23,
     "metadata": {},
     "output_type": "execute_result"
    }
   ],
   "source": [
    "# main activity of indivudals by sex\n",
    "df.groupby([\"sex\"]).activity_simple.value_counts(normalize = True)"
   ]
  },
  {
   "cell_type": "markdown",
   "metadata": {},
   "source": [
    "### trip motive"
   ]
  },
  {
   "cell_type": "code",
   "execution_count": 24,
   "metadata": {},
   "outputs": [
    {
     "data": {
      "text/plain": [
       "sex    motive_simple   \n",
       "Man    work                0.301792\n",
       "       leisure / sports    0.300010\n",
       "       care                0.196958\n",
       "       study               0.178893\n",
       "       other               0.022347\n",
       "Woman  care                0.312131\n",
       "       leisure / sports    0.279737\n",
       "       work                0.257205\n",
       "       study               0.125681\n",
       "       other               0.025247\n",
       "Name: motive_simple, dtype: float64"
      ]
     },
     "execution_count": 24,
     "metadata": {},
     "output_type": "execute_result"
    }
   ],
   "source": [
    "# motive for trip by sex\n",
    "df.groupby([\"sex\"]).motive_simple.value_counts(normalize = True)"
   ]
  },
  {
   "cell_type": "code",
   "execution_count": 25,
   "metadata": {},
   "outputs": [
    {
     "data": {
      "text/plain": [
       "motive_simple\n",
       "care                 3.615657\n",
       "leisure / sports     6.584344\n",
       "other               19.904117\n",
       "study                5.069237\n",
       "work                11.767304\n",
       "Name: DISTANCIA_VIAJE, dtype: float64"
      ]
     },
     "execution_count": 25,
     "metadata": {},
     "output_type": "execute_result"
    }
   ],
   "source": [
    "# average distance by motive\n",
    "df.groupby([\"motive_simple\"]).DISTANCIA_VIAJE.mean()"
   ]
  },
  {
   "cell_type": "code",
   "execution_count": 26,
   "metadata": {},
   "outputs": [
    {
     "data": {
      "text/plain": [
       "motive_simple\n",
       "care                10.200145\n",
       "leisure / sports    10.328908\n",
       "other               12.082645\n",
       "study                9.972583\n",
       "work                18.404843\n",
       "Name: speed, dtype: float64"
      ]
     },
     "execution_count": 26,
     "metadata": {},
     "output_type": "execute_result"
    }
   ],
   "source": [
    "#average speed by motive\n",
    "df.groupby([\"motive_simple\"]).speed.mean()"
   ]
  },
  {
   "cell_type": "markdown",
   "metadata": {},
   "source": [
    "### time of day"
   ]
  },
  {
   "cell_type": "code",
   "execution_count": 81,
   "metadata": {},
   "outputs": [],
   "source": [
    "df.loc[df.start_time.notna(), \"start_hour\"] = df.loc[df.start_time.notna(), \"start_time\"].apply(lambda x: x.hour)"
   ]
  },
  {
   "cell_type": "code",
   "execution_count": 82,
   "metadata": {},
   "outputs": [
    {
     "data": {
      "text/plain": [
       "<matplotlib.axes._subplots.AxesSubplot at 0x21f0ddeb5c8>"
      ]
     },
     "execution_count": 82,
     "metadata": {},
     "output_type": "execute_result"
    },
    {
     "data": {
      "image/png": "[encoded data removed]",
      "text/plain": [
       "<Figure size 432x288 with 1 Axes>"
      ]
     },
     "metadata": {
      "needs_background": "light"
     },
     "output_type": "display_data"
    }
   ],
   "source": [
    "# weighted count of trips by sex and daytime\n",
    "g = df.groupby([\"sex\", \"start_hour\"]).agg({\"ELE_G_POND_ESC2\": \"sum\"}).reset_index()\n",
    "g_plot = g.pivot(index='start_hour', columns='sex', values='ELE_G_POND_ESC2')\n",
    "g_plot.plot(kind = \"line\")"
   ]
  },
  {
   "cell_type": "code",
   "execution_count": 83,
   "metadata": {},
   "outputs": [
    {
     "data": {
      "text/plain": [
       "<matplotlib.axes._subplots.AxesSubplot at 0x21f0e2a3f48>"
      ]
     },
     "execution_count": 83,
     "metadata": {},
     "output_type": "execute_result"
    },
    {
     "data": {
      "image/png": "[encoded data removed]",
      "text/plain": [
       "<Figure size 432x288 with 1 Axes>"
      ]
     },
     "metadata": {
      "needs_background": "light"
     },
     "output_type": "display_data"
    }
   ],
   "source": [
    "# weighted count of trips by main activity\n",
    "g = df.groupby([\"activity_simple\", \"start_hour\"]).agg({\"ELE_G_POND_ESC2\": \"sum\"}).reset_index()\n",
    "\n",
    "g_plot = g.pivot(index='start_hour', columns='activity_simple', values='ELE_G_POND_ESC2')\n",
    "\n",
    "g_plot.plot(kind = \"line\")"
   ]
  },
  {
   "cell_type": "code",
   "execution_count": 84,
   "metadata": {},
   "outputs": [
    {
     "data": {
      "text/plain": [
       "<matplotlib.axes._subplots.AxesSubplot at 0x21f0de27188>"
      ]
     },
     "execution_count": 84,
     "metadata": {},
     "output_type": "execute_result"
    },
    {
     "data": {
      "image/png": "[encoded data removed]",
      "text/plain": [
       "<Figure size 432x288 with 1 Axes>"
      ]
     },
     "metadata": {
      "needs_background": "light"
     },
     "output_type": "display_data"
    }
   ],
   "source": [
    "# percentage values\n",
    "df_perc = g_plot / g_plot.sum()\n",
    "df_perc.plot(kind = \"line\")"
   ]
  },
  {
   "cell_type": "code",
   "execution_count": 85,
   "metadata": {},
   "outputs": [
    {
     "data": {
      "text/plain": [
       "<matplotlib.axes._subplots.AxesSubplot at 0x21f0e28ff08>"
      ]
     },
     "execution_count": 85,
     "metadata": {},
     "output_type": "execute_result"
    },
    {
     "data": {
      "image/png": "[encoded data removed]",
      "text/plain": [
       "<Figure size 720x576 with 1 Axes>"
      ]
     },
     "metadata": {
      "needs_background": "light"
     },
     "output_type": "display_data"
    }
   ],
   "source": [
    "# weighted only working by gender\n",
    "g = df[df.activity_simple == \"working\"].groupby([\"sex\", \"start_hour\"]).agg({\"ELE_G_POND_ESC2\": \"sum\"}).reset_index()\n",
    "g_plot = g.pivot(index='start_hour', columns='sex', values='ELE_G_POND_ESC2')\n",
    "\n",
    "g_plot.plot(kind = \"line\", figsize = (10,8), color = [\"red\", \"blue\"])"
   ]
  },
  {
   "cell_type": "code",
   "execution_count": 86,
   "metadata": {},
   "outputs": [
    {
     "data": {
      "text/html": [
       "<div>\n",
       "<style scoped>\n",
       "    .dataframe tbody tr th:only-of-type {\n",
       "        vertical-align: middle;\n",
       "    }\n",
       "\n",
       "    .dataframe tbody tr th {\n",
       "        vertical-align: top;\n",
       "    }\n",
       "\n",
       "    .dataframe thead th {\n",
       "        text-align: right;\n",
       "    }\n",
       "</style>\n",
       "<table border=\"1\" class=\"dataframe\">\n",
       "  <thead>\n",
       "    <tr style=\"text-align: right;\">\n",
       "      <th></th>\n",
       "      <th>sex</th>\n",
       "      <th>start_hour</th>\n",
       "      <th>ELE_G_POND_ESC2</th>\n",
       "    </tr>\n",
       "  </thead>\n",
       "  <tbody>\n",
       "    <tr>\n",
       "      <th>0</th>\n",
       "      <td>Man</td>\n",
       "      <td>0.0</td>\n",
       "      <td>1096.614664</td>\n",
       "    </tr>\n",
       "    <tr>\n",
       "      <th>1</th>\n",
       "      <td>Man</td>\n",
       "      <td>1.0</td>\n",
       "      <td>908.650210</td>\n",
       "    </tr>\n",
       "    <tr>\n",
       "      <th>2</th>\n",
       "      <td>Man</td>\n",
       "      <td>2.0</td>\n",
       "      <td>1827.859643</td>\n",
       "    </tr>\n",
       "    <tr>\n",
       "      <th>3</th>\n",
       "      <td>Man</td>\n",
       "      <td>3.0</td>\n",
       "      <td>3355.498136</td>\n",
       "    </tr>\n",
       "    <tr>\n",
       "      <th>4</th>\n",
       "      <td>Man</td>\n",
       "      <td>4.0</td>\n",
       "      <td>13673.996847</td>\n",
       "    </tr>\n",
       "    <tr>\n",
       "      <th>5</th>\n",
       "      <td>Man</td>\n",
       "      <td>5.0</td>\n",
       "      <td>50717.845613</td>\n",
       "    </tr>\n",
       "    <tr>\n",
       "      <th>6</th>\n",
       "      <td>Man</td>\n",
       "      <td>6.0</td>\n",
       "      <td>192081.764366</td>\n",
       "    </tr>\n",
       "    <tr>\n",
       "      <th>7</th>\n",
       "      <td>Man</td>\n",
       "      <td>7.0</td>\n",
       "      <td>366729.780444</td>\n",
       "    </tr>\n",
       "    <tr>\n",
       "      <th>8</th>\n",
       "      <td>Man</td>\n",
       "      <td>8.0</td>\n",
       "      <td>395601.142566</td>\n",
       "    </tr>\n",
       "    <tr>\n",
       "      <th>9</th>\n",
       "      <td>Man</td>\n",
       "      <td>9.0</td>\n",
       "      <td>220260.070046</td>\n",
       "    </tr>\n",
       "    <tr>\n",
       "      <th>10</th>\n",
       "      <td>Man</td>\n",
       "      <td>10.0</td>\n",
       "      <td>102725.904039</td>\n",
       "    </tr>\n",
       "    <tr>\n",
       "      <th>11</th>\n",
       "      <td>Man</td>\n",
       "      <td>11.0</td>\n",
       "      <td>98495.300558</td>\n",
       "    </tr>\n",
       "    <tr>\n",
       "      <th>12</th>\n",
       "      <td>Man</td>\n",
       "      <td>12.0</td>\n",
       "      <td>104103.196852</td>\n",
       "    </tr>\n",
       "    <tr>\n",
       "      <th>13</th>\n",
       "      <td>Man</td>\n",
       "      <td>13.0</td>\n",
       "      <td>139254.413042</td>\n",
       "    </tr>\n",
       "    <tr>\n",
       "      <th>14</th>\n",
       "      <td>Man</td>\n",
       "      <td>14.0</td>\n",
       "      <td>247692.722074</td>\n",
       "    </tr>\n",
       "    <tr>\n",
       "      <th>15</th>\n",
       "      <td>Man</td>\n",
       "      <td>15.0</td>\n",
       "      <td>269554.404488</td>\n",
       "    </tr>\n",
       "    <tr>\n",
       "      <th>16</th>\n",
       "      <td>Man</td>\n",
       "      <td>16.0</td>\n",
       "      <td>218342.633398</td>\n",
       "    </tr>\n",
       "    <tr>\n",
       "      <th>17</th>\n",
       "      <td>Man</td>\n",
       "      <td>17.0</td>\n",
       "      <td>269319.417381</td>\n",
       "    </tr>\n",
       "    <tr>\n",
       "      <th>18</th>\n",
       "      <td>Man</td>\n",
       "      <td>18.0</td>\n",
       "      <td>358881.776390</td>\n",
       "    </tr>\n",
       "    <tr>\n",
       "      <th>19</th>\n",
       "      <td>Man</td>\n",
       "      <td>19.0</td>\n",
       "      <td>313017.909244</td>\n",
       "    </tr>\n",
       "    <tr>\n",
       "      <th>20</th>\n",
       "      <td>Man</td>\n",
       "      <td>20.0</td>\n",
       "      <td>252563.904571</td>\n",
       "    </tr>\n",
       "    <tr>\n",
       "      <th>21</th>\n",
       "      <td>Man</td>\n",
       "      <td>21.0</td>\n",
       "      <td>134982.143333</td>\n",
       "    </tr>\n",
       "    <tr>\n",
       "      <th>22</th>\n",
       "      <td>Man</td>\n",
       "      <td>22.0</td>\n",
       "      <td>92399.520586</td>\n",
       "    </tr>\n",
       "    <tr>\n",
       "      <th>23</th>\n",
       "      <td>Man</td>\n",
       "      <td>23.0</td>\n",
       "      <td>63735.809348</td>\n",
       "    </tr>\n",
       "    <tr>\n",
       "      <th>24</th>\n",
       "      <td>Woman</td>\n",
       "      <td>0.0</td>\n",
       "      <td>529.523001</td>\n",
       "    </tr>\n",
       "    <tr>\n",
       "      <th>25</th>\n",
       "      <td>Woman</td>\n",
       "      <td>1.0</td>\n",
       "      <td>230.459744</td>\n",
       "    </tr>\n",
       "    <tr>\n",
       "      <th>26</th>\n",
       "      <td>Woman</td>\n",
       "      <td>2.0</td>\n",
       "      <td>330.732481</td>\n",
       "    </tr>\n",
       "    <tr>\n",
       "      <th>27</th>\n",
       "      <td>Woman</td>\n",
       "      <td>3.0</td>\n",
       "      <td>572.206752</td>\n",
       "    </tr>\n",
       "    <tr>\n",
       "      <th>28</th>\n",
       "      <td>Woman</td>\n",
       "      <td>4.0</td>\n",
       "      <td>3816.179068</td>\n",
       "    </tr>\n",
       "    <tr>\n",
       "      <th>29</th>\n",
       "      <td>Woman</td>\n",
       "      <td>5.0</td>\n",
       "      <td>19796.497705</td>\n",
       "    </tr>\n",
       "    <tr>\n",
       "      <th>30</th>\n",
       "      <td>Woman</td>\n",
       "      <td>6.0</td>\n",
       "      <td>104412.180479</td>\n",
       "    </tr>\n",
       "    <tr>\n",
       "      <th>31</th>\n",
       "      <td>Woman</td>\n",
       "      <td>7.0</td>\n",
       "      <td>307526.745659</td>\n",
       "    </tr>\n",
       "    <tr>\n",
       "      <th>32</th>\n",
       "      <td>Woman</td>\n",
       "      <td>8.0</td>\n",
       "      <td>414255.577539</td>\n",
       "    </tr>\n",
       "    <tr>\n",
       "      <th>33</th>\n",
       "      <td>Woman</td>\n",
       "      <td>9.0</td>\n",
       "      <td>249851.860366</td>\n",
       "    </tr>\n",
       "    <tr>\n",
       "      <th>34</th>\n",
       "      <td>Woman</td>\n",
       "      <td>10.0</td>\n",
       "      <td>110777.405214</td>\n",
       "    </tr>\n",
       "    <tr>\n",
       "      <th>35</th>\n",
       "      <td>Woman</td>\n",
       "      <td>11.0</td>\n",
       "      <td>107305.907845</td>\n",
       "    </tr>\n",
       "    <tr>\n",
       "      <th>36</th>\n",
       "      <td>Woman</td>\n",
       "      <td>12.0</td>\n",
       "      <td>118481.481962</td>\n",
       "    </tr>\n",
       "    <tr>\n",
       "      <th>37</th>\n",
       "      <td>Woman</td>\n",
       "      <td>13.0</td>\n",
       "      <td>151810.061726</td>\n",
       "    </tr>\n",
       "    <tr>\n",
       "      <th>38</th>\n",
       "      <td>Woman</td>\n",
       "      <td>14.0</td>\n",
       "      <td>260164.447991</td>\n",
       "    </tr>\n",
       "    <tr>\n",
       "      <th>39</th>\n",
       "      <td>Woman</td>\n",
       "      <td>15.0</td>\n",
       "      <td>323243.401986</td>\n",
       "    </tr>\n",
       "    <tr>\n",
       "      <th>40</th>\n",
       "      <td>Woman</td>\n",
       "      <td>16.0</td>\n",
       "      <td>292572.578503</td>\n",
       "    </tr>\n",
       "    <tr>\n",
       "      <th>41</th>\n",
       "      <td>Woman</td>\n",
       "      <td>17.0</td>\n",
       "      <td>287544.470176</td>\n",
       "    </tr>\n",
       "    <tr>\n",
       "      <th>42</th>\n",
       "      <td>Woman</td>\n",
       "      <td>18.0</td>\n",
       "      <td>291508.831210</td>\n",
       "    </tr>\n",
       "    <tr>\n",
       "      <th>43</th>\n",
       "      <td>Woman</td>\n",
       "      <td>19.0</td>\n",
       "      <td>260075.339613</td>\n",
       "    </tr>\n",
       "    <tr>\n",
       "      <th>44</th>\n",
       "      <td>Woman</td>\n",
       "      <td>20.0</td>\n",
       "      <td>214604.166234</td>\n",
       "    </tr>\n",
       "    <tr>\n",
       "      <th>45</th>\n",
       "      <td>Woman</td>\n",
       "      <td>21.0</td>\n",
       "      <td>131867.709299</td>\n",
       "    </tr>\n",
       "    <tr>\n",
       "      <th>46</th>\n",
       "      <td>Woman</td>\n",
       "      <td>22.0</td>\n",
       "      <td>74035.271243</td>\n",
       "    </tr>\n",
       "    <tr>\n",
       "      <th>47</th>\n",
       "      <td>Woman</td>\n",
       "      <td>23.0</td>\n",
       "      <td>33043.155667</td>\n",
       "    </tr>\n",
       "  </tbody>\n",
       "</table>\n",
       "</div>"
      ],
      "text/plain": [
       "      sex  start_hour  ELE_G_POND_ESC2\n",
       "0     Man         0.0      1096.614664\n",
       "1     Man         1.0       908.650210\n",
       "2     Man         2.0      1827.859643\n",
       "3     Man         3.0      3355.498136\n",
       "4     Man         4.0     13673.996847\n",
       "5     Man         5.0     50717.845613\n",
       "6     Man         6.0    192081.764366\n",
       "7     Man         7.0    366729.780444\n",
       "8     Man         8.0    395601.142566\n",
       "9     Man         9.0    220260.070046\n",
       "10    Man        10.0    102725.904039\n",
       "11    Man        11.0     98495.300558\n",
       "12    Man        12.0    104103.196852\n",
       "13    Man        13.0    139254.413042\n",
       "14    Man        14.0    247692.722074\n",
       "15    Man        15.0    269554.404488\n",
       "16    Man        16.0    218342.633398\n",
       "17    Man        17.0    269319.417381\n",
       "18    Man        18.0    358881.776390\n",
       "19    Man        19.0    313017.909244\n",
       "20    Man        20.0    252563.904571\n",
       "21    Man        21.0    134982.143333\n",
       "22    Man        22.0     92399.520586\n",
       "23    Man        23.0     63735.809348\n",
       "24  Woman         0.0       529.523001\n",
       "25  Woman         1.0       230.459744\n",
       "26  Woman         2.0       330.732481\n",
       "27  Woman         3.0       572.206752\n",
       "28  Woman         4.0      3816.179068\n",
       "29  Woman         5.0     19796.497705\n",
       "30  Woman         6.0    104412.180479\n",
       "31  Woman         7.0    307526.745659\n",
       "32  Woman         8.0    414255.577539\n",
       "33  Woman         9.0    249851.860366\n",
       "34  Woman        10.0    110777.405214\n",
       "35  Woman        11.0    107305.907845\n",
       "36  Woman        12.0    118481.481962\n",
       "37  Woman        13.0    151810.061726\n",
       "38  Woman        14.0    260164.447991\n",
       "39  Woman        15.0    323243.401986\n",
       "40  Woman        16.0    292572.578503\n",
       "41  Woman        17.0    287544.470176\n",
       "42  Woman        18.0    291508.831210\n",
       "43  Woman        19.0    260075.339613\n",
       "44  Woman        20.0    214604.166234\n",
       "45  Woman        21.0    131867.709299\n",
       "46  Woman        22.0     74035.271243\n",
       "47  Woman        23.0     33043.155667"
      ]
     },
     "execution_count": 86,
     "metadata": {},
     "output_type": "execute_result"
    }
   ],
   "source": [
    "g"
   ]
  }
 ],
 "metadata": {
  "kernelspec": {
   "display_name": "Python 3",
   "language": "python",
   "name": "python3"
  },
  "language_info": {
   "codemirror_mode": {
    "name": "ipython",
    "version": 3
   },
   "file_extension": ".py",
   "mimetype": "text/x-python",
   "name": "python",
   "nbconvert_exporter": "python",
   "pygments_lexer": "ipython3",
   "version": "3.7.4"
  }
 },
 "nbformat": 4,
 "nbformat_minor": 4
}
