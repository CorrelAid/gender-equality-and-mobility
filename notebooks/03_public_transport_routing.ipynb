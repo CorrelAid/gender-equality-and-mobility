{
 "cells": [
  {
   "cell_type": "code",
   "execution_count": 34,
   "metadata": {},
   "outputs": [],
   "source": [
    "import pandas as pd\n",
    "import numpy as np\n",
    "import matplotlib.pyplot as plt\n",
    "%matplotlib inline\n",
    "from datetime import time\n",
    "import geopandas as gpd\n",
    "\n",
    "from shapely.geometry import Point, LineString, shape"
   ]
  },
  {
   "cell_type": "markdown",
   "metadata": {},
   "source": [
    "## Load Data"
   ]
  },
  {
   "cell_type": "code",
   "execution_count": 35,
   "metadata": {},
   "outputs": [],
   "source": [
    "df = pd.read_csv(r'..\\data\\processed\\trips_custom_variables.csv', dtype = {'VORIHORAINI':str, 'VDESHORAFIN':str}, parse_dates = ['start_time','end_time'])\n",
    "etap = pd.read_excel (r'..\\data\\raw\\EDM2018XETAPAS.xlsx')"
   ]
  },
  {
   "cell_type": "code",
   "execution_count": 36,
   "metadata": {},
   "outputs": [],
   "source": [
    "df.set_index([\"ID_HOGAR\", \"ID_IND\", \"ID_VIAJE\"], inplace =True)\n",
    "etap.set_index([\"ID_HOGAR\", \"ID_IND\", \"ID_VIAJE\"], inplace =True)\n",
    "legs = df.join(etap, rsuffix = \"_etap\")"
   ]
  },
  {
   "cell_type": "code",
   "execution_count": 37,
   "metadata": {},
   "outputs": [],
   "source": [
    "# select only public transport trips\n",
    "legs = legs[legs.mode_simple == \"public transport\"]"
   ]
  },
  {
   "cell_type": "code",
   "execution_count": 38,
   "metadata": {},
   "outputs": [],
   "source": [
    "codes = pd.read_csv(r'..\\data\\processed\\codes_translated.csv', dtype = {'CODE': float})"
   ]
  },
  {
   "cell_type": "code",
   "execution_count": 39,
   "metadata": {},
   "outputs": [],
   "source": [
    "stops = gpd.read_file(r'..\\data\\raw\\public_transport_madrid\\madrid_crtm_stops.shp')"
   ]
  },
  {
   "cell_type": "code",
   "execution_count": 40,
   "metadata": {},
   "outputs": [],
   "source": [
    "legs_start_end = legs.sort_values(\"ID_ETAPA\").groupby([\"ID_HOGAR\", \"ID_IND\", \"ID_VIAJE\"]).agg(\n",
    "    {\"C2SEXO\": \"first\",\"ESUBIDA\": \"first\", \"ESUBIDA_cod\": \"first\", \"EBAJADA\": \"last\", \"EBAJADA_cod\": \"last\", \"N_ETAPAS_POR_VIAJE\": \"first\", \"VORIHORAINI\": \"first\", \"duration\":\"first\", \"DANNO\": \"first\", \"DMES\": \"first\", \"DDIA\":\"first\"})"
   ]
  },
  {
   "cell_type": "code",
   "execution_count": 41,
   "metadata": {},
   "outputs": [],
   "source": [
    "legs_start_end= legs_start_end[legs_start_end.ESUBIDA_cod.notna()]\n",
    "legs_start_end= legs_start_end[legs_start_end.EBAJADA_cod.notna()]"
   ]
  },
  {
   "cell_type": "markdown",
   "metadata": {},
   "source": [
    "### Preprocessing"
   ]
  },
  {
   "cell_type": "code",
   "execution_count": 42,
   "metadata": {},
   "outputs": [],
   "source": [
    "# stops[\"id_custom\"] = stops.stop_id.str.split(\"_\").apply(lambda x: x[len(x)-1])\n",
    "# s = stops.reset_index().set_index([\"id_custom\", \"stop_name\"])[[\"geometry\"]]\n",
    "\n",
    "# Problem: match not working properly: id_custom multiple times within df_stations. For names not a match for every start / end\n",
    "stops_unique_name = stops.drop_duplicates(\"stop_name\").set_index(\"stop_name\")\n",
    "\n",
    "df_stations = legs_start_end.join(stops_unique_name, on ='ESUBIDA', how= \"inner\")\n",
    "df_stations = df_stations.join(stops_unique_name, how= \"inner\", on ='EBAJADA', lsuffix = \"_dep\", rsuffix = \"_arrival\")\n",
    "\n",
    "#df_stations[\"line\"] = df_stations.apply(lambda x: LineString([x.geometry_dep, x.geometry_arrival]), axis = 1)\n",
    "#df_stations = gpd.GeoDataFrame(df_stations, geometry = df_stations.line)"
   ]
  },
  {
   "cell_type": "code",
   "execution_count": 43,
   "metadata": {},
   "outputs": [],
   "source": [
    "# df_stations[[\"VORIHORAINI\", \"VDESHORAFIN\", \"start_time\", \"end_time\", \"duration\", \"DANNO\", \"DMES\", \"DDIA\", \"activity_simple\", \"motive_simple\", \"daytime\", \"speed\", \"C2SEXO\", \"EDAD_FIN\", \"ESUBIDA\", \"ESUBIDA_cod\", \"EBAJADA\", \"EBAJADA_cod\", \"geometry_dep\", \"geometry_arrival\"]].to_csv(\n",
    "#    r'..\\data\\processed\\public_transport_georeferenced.csv')"
   ]
  },
  {
   "cell_type": "code",
   "execution_count": 44,
   "metadata": {},
   "outputs": [],
   "source": [
    "#df_stations[[\"activity_simple\", \"motive_simple\", \"daytime\", \"speed\", \"C2SEXO\", \"EDAD_FIN\", \"ESUBIDA\", \"ESUBIDA_cod\", \"EBAJADA\", \"EBAJADA_cod\", \"geometry\"]].to_file(\n",
    "#    r'..\\data\\processed\\public_transport_georeferenced.geojson', driver = \"GeoJSON\")"
   ]
  },
  {
   "cell_type": "markdown",
   "metadata": {},
   "source": [
    "### (use preprocessed data)"
   ]
  },
  {
   "cell_type": "code",
   "execution_count": 45,
   "metadata": {},
   "outputs": [],
   "source": [
    "# df_stations = pd.read_csv(r'..\\data\\processed\\public_transport_georeferenced.csv', dtype = {'VORIHORAINI':str, 'VDESHORAFIN':str, 'geometry_dep':'geometry'})"
   ]
  },
  {
   "cell_type": "markdown",
   "metadata": {},
   "source": [
    "### counts for Flowmap"
   ]
  },
  {
   "cell_type": "code",
   "execution_count": null,
   "metadata": {},
   "outputs": [],
   "source": [
    "# todo: add linestring again for flowmap\n",
    "counts = df_stations.groupby([\"ESUBIDA\", \"EBAJADA\", \"activity_simple\", \"C2SEXO\"]).agg({\"ID_ETAPA\": \"count\", \"ELE_G_POND_ESC2\" : \"sum\", \"geometry\": \"first\"})"
   ]
  },
  {
   "cell_type": "code",
   "execution_count": null,
   "metadata": {},
   "outputs": [],
   "source": [
    "counts.rename({\"ELE_G_POND_ESC2\": \"weighted_count\"}, axis = 1, inplace = True)"
   ]
  },
  {
   "cell_type": "code",
   "execution_count": null,
   "metadata": {},
   "outputs": [],
   "source": [
    "df_counts = gpd.GeoDataFrame(counts, geometry = \"geometry\")"
   ]
  },
  {
   "cell_type": "code",
   "execution_count": null,
   "metadata": {},
   "outputs": [],
   "source": [
    "df_counts.to_file(\n",
    "    r'..\\data\\processed\\trip_counts_georef.geojson', driver = \"GeoJSON\")"
   ]
  },
  {
   "cell_type": "code",
   "execution_count": 298,
   "metadata": {},
   "outputs": [
    {
     "data": {
      "text/plain": [
       "(17659, 3)"
      ]
     },
     "execution_count": 298,
     "metadata": {},
     "output_type": "execute_result"
    }
   ],
   "source": [
    "counts.shape"
   ]
  },
  {
   "cell_type": "code",
   "execution_count": null,
   "metadata": {},
   "outputs": [],
   "source": [
    "counts_gender = df_stations.groupby([\"ESUBIDA\", \"EBAJADA\", \"C2SEXO\"]).agg({\"ID_ETAPA\": \"count\", \"ELE_G_POND_ESC2\" : \"sum\", \"geometry\": \"first\"})\n",
    "\n",
    "counts_gender.rename({\"ELE_G_POND_ESC2\": \"weighted_count\"}, axis = 1, inplace = True)\n",
    "\n",
    "df_counts_gender = gpd.GeoDataFrame(counts_gender, geometry = \"geometry\")\n",
    "\n",
    "df_counts_gender.to_file(\n",
    "    r'..\\data\\processed\\trip_counts_gender_georef.geojson', driver = \"GeoJSON\")"
   ]
  },
  {
   "cell_type": "code",
   "execution_count": null,
   "metadata": {},
   "outputs": [],
   "source": [
    "counts_activity = df_stations.groupby([\"ESUBIDA\", \"EBAJADA\", \"activity_simple\"]).agg({\"ID_ETAPA\": \"count\", \"ELE_G_POND_ESC2\" : \"sum\", \"geometry\": \"first\"})\n",
    "\n",
    "counts_activity.rename({\"ELE_G_POND_ESC2\": \"weighted_count\"}, axis = 1, inplace = True)\n",
    "\n",
    "df_counts_activity = gpd.GeoDataFrame(counts_activity, geometry = \"geometry\")\n",
    "\n",
    "df_counts_activity.to_file(\n",
    "    r'..\\data\\processed\\trip_counts_activity_georef.geojson', driver = \"GeoJSON\")"
   ]
  },
  {
   "cell_type": "code",
   "execution_count": 89,
   "metadata": {},
   "outputs": [],
   "source": [
    "counts_motive = df_stations.groupby([\"ESUBIDA\", \"EBAJADA\", \"motive_simple\"]).agg({\"ID_ETAPA\": \"count\", \"ELE_G_POND_ESC2\" : \"sum\", \"geometry\": \"first\"})\n",
    "\n",
    "counts_motive.rename({\"ELE_G_POND_ESC2\": \"weighted_count\"}, axis = 1, inplace = True)\n",
    "\n",
    "df_counts_motive = gpd.GeoDataFrame(counts_motive, geometry = \"geometry\")\n",
    "\n",
    "df_counts_motive.to_file(\n",
    "    r'..\\data\\processed\\trip_counts_motive_georef.geojson', driver = \"GeoJSON\")"
   ]
  },
  {
   "cell_type": "markdown",
   "metadata": {},
   "source": [
    "### comparison to car"
   ]
  },
  {
   "cell_type": "code",
   "execution_count": 46,
   "metadata": {},
   "outputs": [],
   "source": [
    "import herepy"
   ]
  },
  {
   "cell_type": "code",
   "execution_count": 47,
   "metadata": {},
   "outputs": [],
   "source": [
    "routingApi = herepy.RoutingApi('i5L1qsCmPo7AkwqhCWGA9J2QKnuC-TSI9KNWBqEkdIk')"
   ]
  },
  {
   "cell_type": "code",
   "execution_count": 48,
   "metadata": {},
   "outputs": [],
   "source": [
    "# time and speed \n",
    "df_stations['start_time'] = pd.to_datetime(df_stations.VORIHORAINI, format = '%H%M')\n",
    "# df_stations['end_time'] = pd.to_datetime(df_stations.VDESHORAFIN, format = '%H%M', errors = 'coerce')\n",
    "# df_stations['duration'] = df_stations.end_time - df_stations.start_time"
   ]
  },
  {
   "cell_type": "code",
   "execution_count": 49,
   "metadata": {},
   "outputs": [],
   "source": [
    "df_stations[\"formatted_time\"] = df_stations.DANNO.astype(str) + '-' + df_stations.DMES.astype(str).str.zfill(2) + '-' + df_stations.DDIA.astype(str).str.zfill(2) + 'T'+ df_stations.VORIHORAINI.str.slice(0,2) + \":\" + df_stations.VORIHORAINI.str.slice(2,4)  + ':00'"
   ]
  },
  {
   "cell_type": "code",
   "execution_count": 50,
   "metadata": {},
   "outputs": [],
   "source": [
    "df_stations[\"car_traveltime\"] = None\n",
    "df_stations[\"pt_traveltime\"] = None"
   ]
  },
  {
   "cell_type": "code",
   "execution_count": 51,
   "metadata": {},
   "outputs": [],
   "source": [
    "df_unique_routes = df_stations.drop_duplicates([\"ESUBIDA\", \"EBAJADA\", \"geometry_dep\", \"geometry_arrival\"]).copy()"
   ]
  },
  {
   "cell_type": "code",
   "execution_count": 52,
   "metadata": {},
   "outputs": [],
   "source": [
    "df_unique_routes.reset_index(drop = True, inplace = True)"
   ]
  },
  {
   "cell_type": "code",
   "execution_count": 54,
   "metadata": {},
   "outputs": [
    {
     "name": "stdout",
     "output_type": "stream",
     "text": [
      "0\n",
      "pt no route found, id: 215\n",
      "1000\n",
      "2000\n",
      "pt no route found, id: 2098\n",
      "pt no route found, id: 2100\n",
      "pt no route found, id: 2101\n",
      "3000\n",
      "pt no route found, id: 3092\n",
      "pt no route found, id: 3991\n",
      "4000\n",
      "pt no route found, id: 4398\n",
      "pt no route found, id: 4509\n",
      "pt no route found, id: 4876\n",
      "pt no route found, id: 4957\n",
      "5000\n",
      "pt no route found, id: 5205\n",
      "pt no route found, id: 5206\n",
      "pt no route found, id: 5365\n",
      "car no route found, id: 5746\n",
      "pt no route found, id: 5782\n",
      "6000\n",
      "pt no route found, id: 6265\n",
      "pt no route found, id: 6769\n",
      "7000\n",
      "pt no route found, id: 7877\n",
      "pt no route found, id: 7886\n",
      "pt no route found, id: 7934\n",
      "pt no route found, id: 7960\n",
      "8000\n",
      "pt no route found, id: 8125\n",
      "pt no route found, id: 8139\n",
      "pt no route found, id: 8697\n",
      "pt no route found, id: 8736\n",
      "pt no route found, id: 8757\n",
      "9000\n",
      "pt no route found, id: 9132\n",
      "pt no route found, id: 9202\n",
      "10000\n",
      "pt no route found, id: 10930\n",
      "11000\n",
      "pt no route found, id: 11464\n",
      "pt no route found, id: 11507\n",
      "12000\n",
      "pt no route found, id: 12752\n",
      "13000\n",
      "pt no route found, id: 13072\n",
      "pt no route found, id: 13073\n",
      "pt no route found, id: 13074\n",
      "pt no route found, id: 13465\n",
      "pt no route found, id: 13724\n",
      "pt no route found, id: 13732\n",
      "14000\n",
      "pt no route found, id: 14029\n",
      "pt no route found, id: 14113\n",
      "pt no route found, id: 14127\n",
      "pt no route found, id: 14422\n",
      "pt no route found, id: 14524\n",
      "pt no route found, id: 14750\n",
      "pt no route found, id: 14852\n",
      "pt no route found, id: 14920\n",
      "pt no route found, id: 14970\n",
      "pt no route found, id: 14988\n",
      "15000\n",
      "pt no route found, id: 15009\n",
      "pt no route found, id: 15167\n",
      "pt no route found, id: 15345\n",
      "pt no route found, id: 15624\n",
      "pt no route found, id: 15643\n",
      "pt no route found, id: 15661\n",
      "pt no route found, id: 15662\n",
      "pt no route found, id: 15686\n",
      "pt no route found, id: 15917\n",
      "16000\n",
      "pt no route found, id: 16691\n",
      "pt no route found, id: 16692\n",
      "pt no route found, id: 16700\n",
      "pt no route found, id: 16792\n",
      "pt no route found, id: 16795\n",
      "pt no route found, id: 16916\n",
      "pt no route found, id: 16917\n",
      "pt no route found, id: 16918\n",
      "pt no route found, id: 16919\n",
      "pt no route found, id: 16953\n",
      "pt no route found, id: 16954\n",
      "pt no route found, id: 16955\n",
      "17000\n"
     ]
    }
   ],
   "source": [
    "for i in range (len(df_unique_routes)):\n",
    "    if(df_unique_routes.car_traveltime.notna()[i]):\n",
    "        continue\n",
    "    if i % 1000 == 0:\n",
    "        print(i)\n",
    "    try:\n",
    "        resp_car = routingApi.car_route([df_unique_routes.iloc[i, ].geometry_dep.y, df_unique_routes.iloc[i, ].geometry_dep.x],\n",
    "                                    [df_unique_routes.iloc[i, ].geometry_arrival.y, df_unique_routes.iloc[i, ].geometry_arrival.x],\n",
    "                                    [herepy.RouteMode.car, herepy.RouteMode.fastest],\n",
    "                                     departure = df_unique_routes.loc[i, \"formatted_time\"])\n",
    "        \n",
    "        df_unique_routes.loc[i, \"car_traveltime\"] = resp_car.response[\"route\"][0][\"summary\"][\"travelTime\"]\n",
    "\n",
    "    except:\n",
    "        print('car no route found, id:', i)\n",
    "        df_unique_routes.loc[i, \"car_traveltime\"] = None    \n",
    "        \n",
    " \n",
    "    try:\n",
    "        resp_pt = routingApi.public_transport([df_unique_routes.iloc[i, ].geometry_dep.y, df_unique_routes.iloc[i, ].geometry_dep.x],\n",
    "                                    [df_unique_routes.iloc[i, ].geometry_arrival.y, df_unique_routes.iloc[i, ].geometry_arrival.x],\n",
    "                                       True,\n",
    "                                       modes = [herepy.RouteMode.publicTransport, herepy.RouteMode.fastest],\n",
    "                                     departure = df_unique_routes.loc[i, \"formatted_time\"])\n",
    "        df_unique_routes.loc[i, \"pt_traveltime\"] = resp_pt.response[\"route\"][0][\"summary\"][\"travelTime\"]\n",
    "\n",
    "    except:\n",
    "        print('pt no route found, id:', i)\n",
    "        df_unique_routes.loc[i, \"pt_traveltime\"] = None   \n",
    "        "
   ]
  },
  {
   "cell_type": "code",
   "execution_count": 58,
   "metadata": {},
   "outputs": [
    {
     "data": {
      "text/plain": [
       "(68, 20)"
      ]
     },
     "execution_count": 58,
     "metadata": {},
     "output_type": "execute_result"
    }
   ],
   "source": [
    "df_unique_routes[df_unique_routes.pt_traveltime.isna()].shape"
   ]
  },
  {
   "cell_type": "code",
   "execution_count": 57,
   "metadata": {},
   "outputs": [
    {
     "data": {
      "text/plain": [
       "(1, 20)"
      ]
     },
     "execution_count": 57,
     "metadata": {},
     "output_type": "execute_result"
    }
   ],
   "source": [
    "df_unique_routes[df_unique_routes.car_traveltime.isna()].shape"
   ]
  },
  {
   "cell_type": "code",
   "execution_count": 56,
   "metadata": {},
   "outputs": [],
   "source": [
    "df_unique_routes.to_csv(r'..\\data\\processed\\unique_routings_run2_2.csv')"
   ]
  },
  {
   "cell_type": "code",
   "execution_count": 59,
   "metadata": {},
   "outputs": [],
   "source": [
    "df_unique_routes[\"car_traveltime_min\"] = df_unique_routes.car_traveltime / 60\n",
    "df_unique_routes[\"pt_traveltime_min\"] = df_unique_routes.pt_traveltime / 60"
   ]
  },
  {
   "cell_type": "code",
   "execution_count": 60,
   "metadata": {},
   "outputs": [],
   "source": [
    "df_stations = df_stations.join(df_unique_routes.set_index([\"ESUBIDA\", \"EBAJADA\"])[[\"car_traveltime_min\", \"pt_traveltime_min\"]], on = [\"ESUBIDA\", \"EBAJADA\"])"
   ]
  },
  {
   "cell_type": "code",
   "execution_count": 66,
   "metadata": {},
   "outputs": [],
   "source": [
    "df_stations = df_stations.join(legs[\"C2SEXO\"],how = \"left\")"
   ]
  },
  {
   "cell_type": "code",
   "execution_count": 99,
   "metadata": {},
   "outputs": [],
   "source": [
    "df_stations = df_stations.join(legs[\"age_group\"],how = \"left\")"
   ]
  },
  {
   "cell_type": "code",
   "execution_count": 69,
   "metadata": {},
   "outputs": [],
   "source": [
    "#days, seconds = df_stations.duration.dt.days, df_stations.duration.dt.seconds\n",
    "#df_stations[\"minutes\"] = seconds % 3600"
   ]
  },
  {
   "cell_type": "code",
   "execution_count": 100,
   "metadata": {},
   "outputs": [],
   "source": [
    "df_stations.drop_duplicates(inplace = True)"
   ]
  },
  {
   "cell_type": "code",
   "execution_count": 101,
   "metadata": {},
   "outputs": [],
   "source": [
    "df_stations[\"tt_ratio\"] = None"
   ]
  },
  {
   "cell_type": "code",
   "execution_count": 102,
   "metadata": {},
   "outputs": [],
   "source": [
    "df_stations.loc[df_stations.pt_traveltime_min != 0, \"tt_ratio\"] = df_stations[df_stations.pt_traveltime_min != 0].pt_traveltime_min / df_stations[df_stations.pt_traveltime_min != 0].car_traveltime_min"
   ]
  },
  {
   "cell_type": "code",
   "execution_count": 103,
   "metadata": {},
   "outputs": [],
   "source": [
    "df_stations.loc[df_stations.car_traveltime_min != 0, \"tt_ratio_duration\"] = df_stations[df_stations.car_traveltime_min != 0].duration / df_stations[df_stations.car_traveltime_min != 0].car_traveltime_min"
   ]
  },
  {
   "cell_type": "code",
   "execution_count": 104,
   "metadata": {},
   "outputs": [
    {
     "data": {
      "text/html": [
       "<div>\n",
       "<style scoped>\n",
       "    .dataframe tbody tr th:only-of-type {\n",
       "        vertical-align: middle;\n",
       "    }\n",
       "\n",
       "    .dataframe tbody tr th {\n",
       "        vertical-align: top;\n",
       "    }\n",
       "\n",
       "    .dataframe thead th {\n",
       "        text-align: right;\n",
       "    }\n",
       "</style>\n",
       "<table border=\"1\" class=\"dataframe\">\n",
       "  <thead>\n",
       "    <tr style=\"text-align: right;\">\n",
       "      <th></th>\n",
       "      <th></th>\n",
       "      <th></th>\n",
       "      <th>start_time</th>\n",
       "      <th>duration</th>\n",
       "      <th>car_traveltime_min</th>\n",
       "      <th>pt_traveltime_min</th>\n",
       "      <th>tt_ratio</th>\n",
       "      <th>tt_ratio_duration</th>\n",
       "      <th>age_group</th>\n",
       "    </tr>\n",
       "    <tr>\n",
       "      <th>ID_HOGAR</th>\n",
       "      <th>ID_IND</th>\n",
       "      <th>ID_VIAJE</th>\n",
       "      <th></th>\n",
       "      <th></th>\n",
       "      <th></th>\n",
       "      <th></th>\n",
       "      <th></th>\n",
       "      <th></th>\n",
       "      <th></th>\n",
       "    </tr>\n",
       "  </thead>\n",
       "  <tbody>\n",
       "    <tr>\n",
       "      <th rowspan=\"2\" valign=\"top\">742</th>\n",
       "      <th rowspan=\"2\" valign=\"top\">2</th>\n",
       "      <th>1.0</th>\n",
       "      <td>1900-01-01 08:00:00</td>\n",
       "      <td>90.0</td>\n",
       "      <td>21.1333</td>\n",
       "      <td>67.9167</td>\n",
       "      <td>3.21372</td>\n",
       "      <td>4.25868</td>\n",
       "      <td>adults</td>\n",
       "    </tr>\n",
       "    <tr>\n",
       "      <th>2.0</th>\n",
       "      <td>1900-01-01 17:00:00</td>\n",
       "      <td>80.0</td>\n",
       "      <td>20</td>\n",
       "      <td>69.8333</td>\n",
       "      <td>3.49167</td>\n",
       "      <td>4</td>\n",
       "      <td>adults</td>\n",
       "    </tr>\n",
       "    <tr>\n",
       "      <th rowspan=\"2\" valign=\"top\">1096</th>\n",
       "      <th rowspan=\"2\" valign=\"top\">1</th>\n",
       "      <th>1.0</th>\n",
       "      <td>1900-01-01 07:40:00</td>\n",
       "      <td>20.0</td>\n",
       "      <td>23.0833</td>\n",
       "      <td>77.9833</td>\n",
       "      <td>3.37834</td>\n",
       "      <td>0.866426</td>\n",
       "      <td>adults</td>\n",
       "    </tr>\n",
       "    <tr>\n",
       "      <th>2.0</th>\n",
       "      <td>1900-01-01 15:00:00</td>\n",
       "      <td>60.0</td>\n",
       "      <td>21.7167</td>\n",
       "      <td>75.15</td>\n",
       "      <td>3.46048</td>\n",
       "      <td>2.76285</td>\n",
       "      <td>adults</td>\n",
       "    </tr>\n",
       "    <tr>\n",
       "      <th>1479</th>\n",
       "      <th>2</th>\n",
       "      <th>1.0</th>\n",
       "      <td>1900-01-01 07:30:00</td>\n",
       "      <td>45.0</td>\n",
       "      <td>9.88333</td>\n",
       "      <td>29.5</td>\n",
       "      <td>2.98482</td>\n",
       "      <td>4.55312</td>\n",
       "      <td>kids</td>\n",
       "    </tr>\n",
       "    <tr>\n",
       "      <th>...</th>\n",
       "      <th>...</th>\n",
       "      <th>...</th>\n",
       "      <td>...</td>\n",
       "      <td>...</td>\n",
       "      <td>...</td>\n",
       "      <td>...</td>\n",
       "      <td>...</td>\n",
       "      <td>...</td>\n",
       "      <td>...</td>\n",
       "    </tr>\n",
       "    <tr>\n",
       "      <th rowspan=\"2\" valign=\"top\">6008999</th>\n",
       "      <th rowspan=\"2\" valign=\"top\">2</th>\n",
       "      <th>1.0</th>\n",
       "      <td>1900-01-01 07:40:00</td>\n",
       "      <td>25.0</td>\n",
       "      <td>11.2167</td>\n",
       "      <td>63.9</td>\n",
       "      <td>5.69688</td>\n",
       "      <td>2.22883</td>\n",
       "      <td>kids</td>\n",
       "    </tr>\n",
       "    <tr>\n",
       "      <th>2.0</th>\n",
       "      <td>1900-01-01 14:30:00</td>\n",
       "      <td>30.0</td>\n",
       "      <td>11.2333</td>\n",
       "      <td>49.95</td>\n",
       "      <td>4.44659</td>\n",
       "      <td>2.67062</td>\n",
       "      <td>kids</td>\n",
       "    </tr>\n",
       "    <tr>\n",
       "      <th>6009043</th>\n",
       "      <th>2</th>\n",
       "      <th>3.0</th>\n",
       "      <td>1900-01-01 16:40:00</td>\n",
       "      <td>110.0</td>\n",
       "      <td>25.6167</td>\n",
       "      <td>114.417</td>\n",
       "      <td>4.46649</td>\n",
       "      <td>4.29408</td>\n",
       "      <td>kids</td>\n",
       "    </tr>\n",
       "    <tr>\n",
       "      <th rowspan=\"2\" valign=\"top\">6010779</th>\n",
       "      <th rowspan=\"2\" valign=\"top\">1</th>\n",
       "      <th>1.0</th>\n",
       "      <td>1900-01-01 10:00:00</td>\n",
       "      <td>30.0</td>\n",
       "      <td>20.3667</td>\n",
       "      <td>35.8167</td>\n",
       "      <td>1.75859</td>\n",
       "      <td>1.473</td>\n",
       "      <td>young adults</td>\n",
       "    </tr>\n",
       "    <tr>\n",
       "      <th>2.0</th>\n",
       "      <td>1900-01-01 13:30:00</td>\n",
       "      <td>30.0</td>\n",
       "      <td>16.1833</td>\n",
       "      <td>46.1167</td>\n",
       "      <td>2.84964</td>\n",
       "      <td>1.85376</td>\n",
       "      <td>young adults</td>\n",
       "    </tr>\n",
       "  </tbody>\n",
       "</table>\n",
       "<p>25751 rows × 7 columns</p>\n",
       "</div>"
      ],
      "text/plain": [
       "                                  start_time  duration car_traveltime_min  \\\n",
       "ID_HOGAR ID_IND ID_VIAJE                                                    \n",
       "742      2      1.0      1900-01-01 08:00:00      90.0            21.1333   \n",
       "                2.0      1900-01-01 17:00:00      80.0                 20   \n",
       "1096     1      1.0      1900-01-01 07:40:00      20.0            23.0833   \n",
       "                2.0      1900-01-01 15:00:00      60.0            21.7167   \n",
       "1479     2      1.0      1900-01-01 07:30:00      45.0            9.88333   \n",
       "...                                      ...       ...                ...   \n",
       "6008999  2      1.0      1900-01-01 07:40:00      25.0            11.2167   \n",
       "                2.0      1900-01-01 14:30:00      30.0            11.2333   \n",
       "6009043  2      3.0      1900-01-01 16:40:00     110.0            25.6167   \n",
       "6010779  1      1.0      1900-01-01 10:00:00      30.0            20.3667   \n",
       "                2.0      1900-01-01 13:30:00      30.0            16.1833   \n",
       "\n",
       "                         pt_traveltime_min tt_ratio tt_ratio_duration  \\\n",
       "ID_HOGAR ID_IND ID_VIAJE                                                \n",
       "742      2      1.0                67.9167  3.21372           4.25868   \n",
       "                2.0                69.8333  3.49167                 4   \n",
       "1096     1      1.0                77.9833  3.37834          0.866426   \n",
       "                2.0                  75.15  3.46048           2.76285   \n",
       "1479     2      1.0                   29.5  2.98482           4.55312   \n",
       "...                                    ...      ...               ...   \n",
       "6008999  2      1.0                   63.9  5.69688           2.22883   \n",
       "                2.0                  49.95  4.44659           2.67062   \n",
       "6009043  2      3.0                114.417  4.46649           4.29408   \n",
       "6010779  1      1.0                35.8167  1.75859             1.473   \n",
       "                2.0                46.1167  2.84964           1.85376   \n",
       "\n",
       "                             age_group  \n",
       "ID_HOGAR ID_IND ID_VIAJE                \n",
       "742      2      1.0             adults  \n",
       "                2.0             adults  \n",
       "1096     1      1.0             adults  \n",
       "                2.0             adults  \n",
       "1479     2      1.0               kids  \n",
       "...                                ...  \n",
       "6008999  2      1.0               kids  \n",
       "                2.0               kids  \n",
       "6009043  2      3.0               kids  \n",
       "6010779  1      1.0       young adults  \n",
       "                2.0       young adults  \n",
       "\n",
       "[25751 rows x 7 columns]"
      ]
     },
     "execution_count": 104,
     "metadata": {},
     "output_type": "execute_result"
    }
   ],
   "source": [
    "df_stations[[\"start_time\", \"duration\", \"car_traveltime_min\", \"pt_traveltime_min\", \"tt_ratio\", \"tt_ratio_duration\", \"age_group\"]]"
   ]
  },
  {
   "cell_type": "code",
   "execution_count": 105,
   "metadata": {},
   "outputs": [],
   "source": [
    "df_stations.tt_ratio = df_stations.tt_ratio.astype(float)"
   ]
  },
  {
   "cell_type": "code",
   "execution_count": 106,
   "metadata": {},
   "outputs": [],
   "source": [
    "df_stations.tt_ratio_duration = df_stations.tt_ratio_duration.astype(float)"
   ]
  },
  {
   "cell_type": "code",
   "execution_count": 107,
   "metadata": {},
   "outputs": [
    {
     "data": {
      "text/html": [
       "<div>\n",
       "<style scoped>\n",
       "    .dataframe tbody tr th:only-of-type {\n",
       "        vertical-align: middle;\n",
       "    }\n",
       "\n",
       "    .dataframe tbody tr th {\n",
       "        vertical-align: top;\n",
       "    }\n",
       "\n",
       "    .dataframe thead th {\n",
       "        text-align: right;\n",
       "    }\n",
       "</style>\n",
       "<table border=\"1\" class=\"dataframe\">\n",
       "  <thead>\n",
       "    <tr style=\"text-align: right;\">\n",
       "      <th></th>\n",
       "      <th></th>\n",
       "      <th>count</th>\n",
       "      <th>mean</th>\n",
       "      <th>std</th>\n",
       "      <th>min</th>\n",
       "      <th>25%</th>\n",
       "      <th>50%</th>\n",
       "      <th>75%</th>\n",
       "      <th>max</th>\n",
       "    </tr>\n",
       "    <tr>\n",
       "      <th>age_group</th>\n",
       "      <th>C2SEXO</th>\n",
       "      <th></th>\n",
       "      <th></th>\n",
       "      <th></th>\n",
       "      <th></th>\n",
       "      <th></th>\n",
       "      <th></th>\n",
       "      <th></th>\n",
       "      <th></th>\n",
       "    </tr>\n",
       "  </thead>\n",
       "  <tbody>\n",
       "    <tr>\n",
       "      <th rowspan=\"2\" valign=\"top\">adults</th>\n",
       "      <th>1</th>\n",
       "      <td>4661.0</td>\n",
       "      <td>2.867918</td>\n",
       "      <td>1.641428</td>\n",
       "      <td>0.229709</td>\n",
       "      <td>1.962388</td>\n",
       "      <td>2.562278</td>\n",
       "      <td>3.321033</td>\n",
       "      <td>28.658074</td>\n",
       "    </tr>\n",
       "    <tr>\n",
       "      <th>2</th>\n",
       "      <td>7757.0</td>\n",
       "      <td>2.882704</td>\n",
       "      <td>1.835693</td>\n",
       "      <td>0.000000</td>\n",
       "      <td>2.038505</td>\n",
       "      <td>2.608696</td>\n",
       "      <td>3.347639</td>\n",
       "      <td>100.000000</td>\n",
       "    </tr>\n",
       "    <tr>\n",
       "      <th rowspan=\"2\" valign=\"top\">kids</th>\n",
       "      <th>1</th>\n",
       "      <td>1256.0</td>\n",
       "      <td>2.927261</td>\n",
       "      <td>1.855637</td>\n",
       "      <td>0.123421</td>\n",
       "      <td>1.804783</td>\n",
       "      <td>2.553191</td>\n",
       "      <td>3.546808</td>\n",
       "      <td>27.835052</td>\n",
       "    </tr>\n",
       "    <tr>\n",
       "      <th>2</th>\n",
       "      <td>841.0</td>\n",
       "      <td>3.336633</td>\n",
       "      <td>10.406611</td>\n",
       "      <td>0.310976</td>\n",
       "      <td>1.854141</td>\n",
       "      <td>2.605863</td>\n",
       "      <td>3.680982</td>\n",
       "      <td>300.000000</td>\n",
       "    </tr>\n",
       "    <tr>\n",
       "      <th rowspan=\"2\" valign=\"top\">seniors</th>\n",
       "      <th>1</th>\n",
       "      <td>3181.0</td>\n",
       "      <td>2.764290</td>\n",
       "      <td>1.936612</td>\n",
       "      <td>0.195440</td>\n",
       "      <td>1.814516</td>\n",
       "      <td>2.442334</td>\n",
       "      <td>3.228700</td>\n",
       "      <td>53.181818</td>\n",
       "    </tr>\n",
       "    <tr>\n",
       "      <th>2</th>\n",
       "      <td>3860.0</td>\n",
       "      <td>2.795835</td>\n",
       "      <td>1.821012</td>\n",
       "      <td>0.127660</td>\n",
       "      <td>1.894239</td>\n",
       "      <td>2.521892</td>\n",
       "      <td>3.315681</td>\n",
       "      <td>69.902913</td>\n",
       "    </tr>\n",
       "    <tr>\n",
       "      <th rowspan=\"2\" valign=\"top\">young adults</th>\n",
       "      <th>1</th>\n",
       "      <td>1979.0</td>\n",
       "      <td>2.888981</td>\n",
       "      <td>2.283238</td>\n",
       "      <td>0.310976</td>\n",
       "      <td>1.967751</td>\n",
       "      <td>2.523364</td>\n",
       "      <td>3.311128</td>\n",
       "      <td>60.000000</td>\n",
       "    </tr>\n",
       "    <tr>\n",
       "      <th>2</th>\n",
       "      <td>2151.0</td>\n",
       "      <td>2.889548</td>\n",
       "      <td>1.632200</td>\n",
       "      <td>0.253807</td>\n",
       "      <td>1.988072</td>\n",
       "      <td>2.578797</td>\n",
       "      <td>3.336425</td>\n",
       "      <td>22.429907</td>\n",
       "    </tr>\n",
       "  </tbody>\n",
       "</table>\n",
       "</div>"
      ],
      "text/plain": [
       "                      count      mean        std       min       25%  \\\n",
       "age_group    C2SEXO                                                    \n",
       "adults       1       4661.0  2.867918   1.641428  0.229709  1.962388   \n",
       "             2       7757.0  2.882704   1.835693  0.000000  2.038505   \n",
       "kids         1       1256.0  2.927261   1.855637  0.123421  1.804783   \n",
       "             2        841.0  3.336633  10.406611  0.310976  1.854141   \n",
       "seniors      1       3181.0  2.764290   1.936612  0.195440  1.814516   \n",
       "             2       3860.0  2.795835   1.821012  0.127660  1.894239   \n",
       "young adults 1       1979.0  2.888981   2.283238  0.310976  1.967751   \n",
       "             2       2151.0  2.889548   1.632200  0.253807  1.988072   \n",
       "\n",
       "                          50%       75%         max  \n",
       "age_group    C2SEXO                                  \n",
       "adults       1       2.562278  3.321033   28.658074  \n",
       "             2       2.608696  3.347639  100.000000  \n",
       "kids         1       2.553191  3.546808   27.835052  \n",
       "             2       2.605863  3.680982  300.000000  \n",
       "seniors      1       2.442334  3.228700   53.181818  \n",
       "             2       2.521892  3.315681   69.902913  \n",
       "young adults 1       2.523364  3.311128   60.000000  \n",
       "             2       2.578797  3.336425   22.429907  "
      ]
     },
     "execution_count": 107,
     "metadata": {},
     "output_type": "execute_result"
    }
   ],
   "source": [
    "df_stations.groupby([\"age_group\", \"C2SEXO\"]).tt_ratio_duration.describe()"
   ]
  },
  {
   "cell_type": "code",
   "execution_count": 108,
   "metadata": {},
   "outputs": [
    {
     "data": {
      "text/html": [
       "<div>\n",
       "<style scoped>\n",
       "    .dataframe tbody tr th:only-of-type {\n",
       "        vertical-align: middle;\n",
       "    }\n",
       "\n",
       "    .dataframe tbody tr th {\n",
       "        vertical-align: top;\n",
       "    }\n",
       "\n",
       "    .dataframe thead th {\n",
       "        text-align: right;\n",
       "    }\n",
       "</style>\n",
       "<table border=\"1\" class=\"dataframe\">\n",
       "  <thead>\n",
       "    <tr style=\"text-align: right;\">\n",
       "      <th></th>\n",
       "      <th></th>\n",
       "      <th>count</th>\n",
       "      <th>mean</th>\n",
       "      <th>std</th>\n",
       "      <th>min</th>\n",
       "      <th>25%</th>\n",
       "      <th>50%</th>\n",
       "      <th>75%</th>\n",
       "      <th>max</th>\n",
       "    </tr>\n",
       "    <tr>\n",
       "      <th>age_group</th>\n",
       "      <th>C2SEXO</th>\n",
       "      <th></th>\n",
       "      <th></th>\n",
       "      <th></th>\n",
       "      <th></th>\n",
       "      <th></th>\n",
       "      <th></th>\n",
       "      <th></th>\n",
       "      <th></th>\n",
       "    </tr>\n",
       "  </thead>\n",
       "  <tbody>\n",
       "    <tr>\n",
       "      <th rowspan=\"2\" valign=\"top\">adults</th>\n",
       "      <th>1</th>\n",
       "      <td>4652.0</td>\n",
       "      <td>1.936849</td>\n",
       "      <td>0.755302</td>\n",
       "      <td>0.177074</td>\n",
       "      <td>1.462174</td>\n",
       "      <td>1.807620</td>\n",
       "      <td>2.265432</td>\n",
       "      <td>11.897915</td>\n",
       "    </tr>\n",
       "    <tr>\n",
       "      <th>2</th>\n",
       "      <td>7732.0</td>\n",
       "      <td>1.990268</td>\n",
       "      <td>0.776890</td>\n",
       "      <td>0.317623</td>\n",
       "      <td>1.484778</td>\n",
       "      <td>1.840650</td>\n",
       "      <td>2.337422</td>\n",
       "      <td>8.845070</td>\n",
       "    </tr>\n",
       "    <tr>\n",
       "      <th rowspan=\"2\" valign=\"top\">kids</th>\n",
       "      <th>1</th>\n",
       "      <td>1252.0</td>\n",
       "      <td>2.293603</td>\n",
       "      <td>1.770997</td>\n",
       "      <td>0.177074</td>\n",
       "      <td>1.420405</td>\n",
       "      <td>1.885696</td>\n",
       "      <td>2.715170</td>\n",
       "      <td>35.548485</td>\n",
       "    </tr>\n",
       "    <tr>\n",
       "      <th>2</th>\n",
       "      <td>840.0</td>\n",
       "      <td>2.314621</td>\n",
       "      <td>1.665524</td>\n",
       "      <td>0.331776</td>\n",
       "      <td>1.441784</td>\n",
       "      <td>1.846016</td>\n",
       "      <td>2.608686</td>\n",
       "      <td>19.468713</td>\n",
       "    </tr>\n",
       "    <tr>\n",
       "      <th rowspan=\"2\" valign=\"top\">seniors</th>\n",
       "      <th>1</th>\n",
       "      <td>3178.0</td>\n",
       "      <td>1.900978</td>\n",
       "      <td>0.870605</td>\n",
       "      <td>0.363319</td>\n",
       "      <td>1.410738</td>\n",
       "      <td>1.748097</td>\n",
       "      <td>2.211457</td>\n",
       "      <td>19.187146</td>\n",
       "    </tr>\n",
       "    <tr>\n",
       "      <th>2</th>\n",
       "      <td>3854.0</td>\n",
       "      <td>1.952920</td>\n",
       "      <td>1.069895</td>\n",
       "      <td>0.273340</td>\n",
       "      <td>1.416247</td>\n",
       "      <td>1.775855</td>\n",
       "      <td>2.282697</td>\n",
       "      <td>36.279736</td>\n",
       "    </tr>\n",
       "    <tr>\n",
       "      <th rowspan=\"2\" valign=\"top\">young adults</th>\n",
       "      <th>1</th>\n",
       "      <td>1964.0</td>\n",
       "      <td>2.116669</td>\n",
       "      <td>1.362108</td>\n",
       "      <td>0.273340</td>\n",
       "      <td>1.499041</td>\n",
       "      <td>1.882353</td>\n",
       "      <td>2.457666</td>\n",
       "      <td>36.279736</td>\n",
       "    </tr>\n",
       "    <tr>\n",
       "      <th>2</th>\n",
       "      <td>2143.0</td>\n",
       "      <td>2.090513</td>\n",
       "      <td>1.058580</td>\n",
       "      <td>0.363319</td>\n",
       "      <td>1.516022</td>\n",
       "      <td>1.892463</td>\n",
       "      <td>2.437484</td>\n",
       "      <td>20.562926</td>\n",
       "    </tr>\n",
       "  </tbody>\n",
       "</table>\n",
       "</div>"
      ],
      "text/plain": [
       "                      count      mean       std       min       25%       50%  \\\n",
       "age_group    C2SEXO                                                             \n",
       "adults       1       4652.0  1.936849  0.755302  0.177074  1.462174  1.807620   \n",
       "             2       7732.0  1.990268  0.776890  0.317623  1.484778  1.840650   \n",
       "kids         1       1252.0  2.293603  1.770997  0.177074  1.420405  1.885696   \n",
       "             2        840.0  2.314621  1.665524  0.331776  1.441784  1.846016   \n",
       "seniors      1       3178.0  1.900978  0.870605  0.363319  1.410738  1.748097   \n",
       "             2       3854.0  1.952920  1.069895  0.273340  1.416247  1.775855   \n",
       "young adults 1       1964.0  2.116669  1.362108  0.273340  1.499041  1.882353   \n",
       "             2       2143.0  2.090513  1.058580  0.363319  1.516022  1.892463   \n",
       "\n",
       "                          75%        max  \n",
       "age_group    C2SEXO                       \n",
       "adults       1       2.265432  11.897915  \n",
       "             2       2.337422   8.845070  \n",
       "kids         1       2.715170  35.548485  \n",
       "             2       2.608686  19.468713  \n",
       "seniors      1       2.211457  19.187146  \n",
       "             2       2.282697  36.279736  \n",
       "young adults 1       2.457666  36.279736  \n",
       "             2       2.437484  20.562926  "
      ]
     },
     "execution_count": 108,
     "metadata": {},
     "output_type": "execute_result"
    }
   ],
   "source": [
    "df_stations.groupby([\"age_group\", \"C2SEXO\"]).tt_ratio.describe()"
   ]
  },
  {
   "cell_type": "code",
   "execution_count": null,
   "metadata": {},
   "outputs": [],
   "source": []
  }
 ],
 "metadata": {
  "kernelspec": {
   "display_name": "genmob_kernel",
   "language": "python",
   "name": "genmob_kernel"
  },
  "language_info": {
   "codemirror_mode": {
    "name": "ipython",
    "version": 3
   },
   "file_extension": ".py",
   "mimetype": "text/x-python",
   "name": "python",
   "nbconvert_exporter": "python",
   "pygments_lexer": "ipython3",
   "version": "3.8.5"
  }
 },
 "nbformat": 4,
 "nbformat_minor": 4
}
