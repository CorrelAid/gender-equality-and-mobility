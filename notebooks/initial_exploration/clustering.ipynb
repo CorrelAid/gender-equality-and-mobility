{
 "cells": [
  {
   "cell_type": "code",
   "execution_count": 1,
   "metadata": {},
   "outputs": [],
   "source": [
    "# approach to cluster data by mobility pattern"
   ]
  },
  {
   "cell_type": "code",
   "execution_count": 2,
   "metadata": {},
   "outputs": [],
   "source": [
    "import pandas as pd\n",
    "import numpy as np\n",
    "%matplotlib inline\n",
    "from datetime import time\n",
    "\n",
    "from sklearn.cluster import KMeans\n",
    "import matplotlib.pyplot as plt"
   ]
  },
  {
   "cell_type": "markdown",
   "metadata": {},
   "source": [
    "## Load Data"
   ]
  },
  {
   "cell_type": "code",
   "execution_count": 3,
   "metadata": {},
   "outputs": [],
   "source": [
    "df = pd.read_csv(r'..\\data\\processed\\trips_custom_variables.csv', dtype = {'VORIHORAINI':str, 'VDESHORAFIN':str}, parse_dates = ['start_time','end_time'])\n",
    "# df_trips = pd.read_csv(r'..\\data\\processed\\trips_georeferenced.csv', dtype = {'VORIHORAINI':str, 'VDESHORAFIN':str})"
   ]
  },
  {
   "cell_type": "code",
   "execution_count": 4,
   "metadata": {},
   "outputs": [],
   "source": [
    "df_spatial_category = pd.read_csv(r'..\\data\\interim\\match_zt1259_to_category.csv')"
   ]
  },
  {
   "cell_type": "code",
   "execution_count": 5,
   "metadata": {},
   "outputs": [],
   "source": [
    "codes = pd.read_csv(r'..\\data\\processed\\codes_translated.csv', dtype = {'CODE': float})"
   ]
  },
  {
   "cell_type": "markdown",
   "metadata": {},
   "source": [
    "### Clustering\n"
   ]
  },
  {
   "cell_type": "markdown",
   "metadata": {},
   "source": [
    "**Clustering variables**\n",
    "- distance\n",
    "- tripcount\n",
    "- legs count per trip\n",
    "- speed\n",
    "- daytime (HVZ, NVZ, SVZ: https://de.wikipedia.org/wiki/Verkehrszeiten)\n",
    "- mode"
   ]
  },
  {
   "cell_type": "code",
   "execution_count": 6,
   "metadata": {},
   "outputs": [],
   "source": [
    "# TODO: use weights not acutal numbers"
   ]
  },
  {
   "cell_type": "markdown",
   "metadata": {},
   "source": [
    "### preprocessing"
   ]
  },
  {
   "cell_type": "code",
   "execution_count": 7,
   "metadata": {},
   "outputs": [],
   "source": [
    "df = df.join(df_spatial_category.set_index(\"ZT1259\"), how = 'left', on = \"ZT1259\")\n",
    "df = df.rename({\"category\": \"home_zone\"}, axis = 1)\n",
    "df = df.join(df_spatial_category.set_index(\"ZT1259\"), how = 'left', on = \"VORIZT1259\")\n",
    "df = df.rename({\"category\": \"start_zone\"}, axis = 1)\n",
    "df = df.join(df_spatial_category.set_index(\"ZT1259\"), how = 'left', on = \"VDESZT1259\")\n",
    "df = df.rename({\"category\": \"dest_zone\"}, axis = 1)\n",
    "\n",
    "# one hot encoding daytime\n",
    "one_hot = pd.get_dummies(df.daytime)\n",
    "# Drop column B as it is now encoded\n",
    "# Join the encoded df\n",
    "df = df.join(one_hot)\n",
    "\n",
    "# one hot encoding mode\n",
    "one_hot = pd.get_dummies(df.mode_simple)\n",
    "# Drop column B as it is now encoded\n",
    "# Join the encoded df\n",
    "df = df.join(one_hot)\n",
    "\n",
    "cluster_var = df.groupby(['ID_HOGAR','ID_IND', 'C2SEXO', 'sex','home_zone']).agg({'ID_VIAJE' : 'count', #tripcount\n",
    " 'ELE_G_POND': 'first', # TODO: check proper weighting\n",
    " 'DISTANCIA_VIAJE' : 'mean', # average distance per trip\n",
    " 'N_ETAPAS_POR_VIAJE' : 'mean', #average legs per trip\n",
    " 'speed' : 'median',\n",
    " 'public transport' : 'mean',\n",
    " 'car' : 'mean',\n",
    " 'rush hour (HVZ)' : 'mean',\n",
    " 'off-peak hour (NVZ)' : 'mean',\n",
    "'low traffic time (SVZ)': 'mean'})\n",
    "\n",
    "cluster_var.rename(columns = {\n",
    "    'ID_VIAJE':'tripcount',\n",
    "    'DISTANCIA_VIAJE':'average_dist',\n",
    "    'N_ETAPAS_POR_VIAJE':'average_legs'\n",
    "}, inplace = True)\n",
    "\n",
    "cluster_var.fillna(-1, inplace = True)"
   ]
  },
  {
   "cell_type": "markdown",
   "metadata": {},
   "source": [
    "## set variables used for clustering"
   ]
  },
  {
   "cell_type": "code",
   "execution_count": 8,
   "metadata": {},
   "outputs": [],
   "source": [
    "df = cluster_var[[\"rush hour (HVZ)\", \"public transport\"]]"
   ]
  },
  {
   "cell_type": "markdown",
   "metadata": {},
   "source": [
    "## clustering"
   ]
  },
  {
   "cell_type": "code",
   "execution_count": 9,
   "metadata": {},
   "outputs": [
    {
     "name": "stdout",
     "output_type": "stream",
     "text": [
      "[[0.06036483 0.0112172 ]\n",
      " [0.62496468 0.8742369 ]\n",
      " [0.64775198 0.01369867]\n",
      " [0.08049809 0.86109068]]\n"
     ]
    }
   ],
   "source": [
    "kmeans = KMeans(n_clusters=4).fit(df)\n",
    "centroids = kmeans.cluster_centers_\n",
    "print(centroids)"
   ]
  },
  {
   "cell_type": "code",
   "execution_count": 10,
   "metadata": {},
   "outputs": [],
   "source": [
    "mask = kmeans.predict(df)"
   ]
  },
  {
   "cell_type": "markdown",
   "metadata": {},
   "source": [
    "### clustering results"
   ]
  },
  {
   "cell_type": "code",
   "execution_count": 11,
   "metadata": {},
   "outputs": [
    {
     "data": {
      "text/plain": [
       "0    33308\n",
       "2    28594\n",
       "1    13433\n",
       "3     9729\n",
       "dtype: int64"
      ]
     },
     "execution_count": 11,
     "metadata": {},
     "output_type": "execute_result"
    }
   ],
   "source": [
    "# how many cases are in each cluster?\n",
    "pd.Series(mask).value_counts()"
   ]
  },
  {
   "cell_type": "code",
   "execution_count": 12,
   "metadata": {},
   "outputs": [],
   "source": [
    "cluster_var[\"cluster\"] = mask"
   ]
  },
  {
   "cell_type": "code",
   "execution_count": 13,
   "metadata": {},
   "outputs": [
    {
     "data": {
      "text/html": [
       "<div>\n",
       "<style scoped>\n",
       "    .dataframe tbody tr th:only-of-type {\n",
       "        vertical-align: middle;\n",
       "    }\n",
       "\n",
       "    .dataframe tbody tr th {\n",
       "        vertical-align: top;\n",
       "    }\n",
       "\n",
       "    .dataframe thead th {\n",
       "        text-align: right;\n",
       "    }\n",
       "</style>\n",
       "<table border=\"1\" class=\"dataframe\">\n",
       "  <thead>\n",
       "    <tr style=\"text-align: right;\">\n",
       "      <th></th>\n",
       "      <th></th>\n",
       "      <th>perc</th>\n",
       "    </tr>\n",
       "    <tr>\n",
       "      <th>cluster</th>\n",
       "      <th>sex</th>\n",
       "      <th></th>\n",
       "    </tr>\n",
       "  </thead>\n",
       "  <tbody>\n",
       "    <tr>\n",
       "      <th rowspan=\"2\" valign=\"top\">0</th>\n",
       "      <th>Man</th>\n",
       "      <td>0.460419</td>\n",
       "    </tr>\n",
       "    <tr>\n",
       "      <th>Woman</th>\n",
       "      <td>0.539581</td>\n",
       "    </tr>\n",
       "    <tr>\n",
       "      <th rowspan=\"2\" valign=\"top\">1</th>\n",
       "      <th>Man</th>\n",
       "      <td>0.442126</td>\n",
       "    </tr>\n",
       "    <tr>\n",
       "      <th>Woman</th>\n",
       "      <td>0.557874</td>\n",
       "    </tr>\n",
       "    <tr>\n",
       "      <th rowspan=\"2\" valign=\"top\">2</th>\n",
       "      <th>Man</th>\n",
       "      <td>0.535856</td>\n",
       "    </tr>\n",
       "    <tr>\n",
       "      <th>Woman</th>\n",
       "      <td>0.464144</td>\n",
       "    </tr>\n",
       "    <tr>\n",
       "      <th rowspan=\"2\" valign=\"top\">3</th>\n",
       "      <th>Man</th>\n",
       "      <td>0.411903</td>\n",
       "    </tr>\n",
       "    <tr>\n",
       "      <th>Woman</th>\n",
       "      <td>0.588097</td>\n",
       "    </tr>\n",
       "  </tbody>\n",
       "</table>\n",
       "</div>"
      ],
      "text/plain": [
       "                   perc\n",
       "cluster sex            \n",
       "0       Man    0.460419\n",
       "        Woman  0.539581\n",
       "1       Man    0.442126\n",
       "        Woman  0.557874\n",
       "2       Man    0.535856\n",
       "        Woman  0.464144\n",
       "3       Man    0.411903\n",
       "        Woman  0.588097"
      ]
     },
     "execution_count": 13,
     "metadata": {},
     "output_type": "execute_result"
    }
   ],
   "source": [
    "# how is the sex ratio in each cluster?\n",
    "weighted = cluster_var.groupby([\"cluster\", \"sex\"]).agg({'ELE_G_POND': 'sum'})\n",
    "cluster_sums = weighted.reset_index().groupby(\"cluster\").agg({'ELE_G_POND':'sum'}).rename({'ELE_G_POND':'summed'}, axis = 1)\n",
    "weighted= weighted.join(cluster_sums)\n",
    "weighted[\"perc\"] = weighted.ELE_G_POND / weighted.summed\n",
    "weighted.drop([\"ELE_G_POND\", \"summed\"], axis  = 1)"
   ]
  },
  {
   "cell_type": "code",
   "execution_count": 14,
   "metadata": {},
   "outputs": [
    {
     "data": {
      "text/html": [
       "<div>\n",
       "<style scoped>\n",
       "    .dataframe tbody tr th:only-of-type {\n",
       "        vertical-align: middle;\n",
       "    }\n",
       "\n",
       "    .dataframe tbody tr th {\n",
       "        vertical-align: top;\n",
       "    }\n",
       "\n",
       "    .dataframe thead th {\n",
       "        text-align: right;\n",
       "    }\n",
       "</style>\n",
       "<table border=\"1\" class=\"dataframe\">\n",
       "  <thead>\n",
       "    <tr style=\"text-align: right;\">\n",
       "      <th></th>\n",
       "      <th>rush hour (HVZ)</th>\n",
       "      <th>public transport</th>\n",
       "    </tr>\n",
       "  </thead>\n",
       "  <tbody>\n",
       "    <tr>\n",
       "      <th>0</th>\n",
       "      <td>0.060365</td>\n",
       "      <td>0.011217</td>\n",
       "    </tr>\n",
       "    <tr>\n",
       "      <th>1</th>\n",
       "      <td>0.624965</td>\n",
       "      <td>0.874237</td>\n",
       "    </tr>\n",
       "    <tr>\n",
       "      <th>2</th>\n",
       "      <td>0.647752</td>\n",
       "      <td>0.013699</td>\n",
       "    </tr>\n",
       "    <tr>\n",
       "      <th>3</th>\n",
       "      <td>0.080498</td>\n",
       "      <td>0.861091</td>\n",
       "    </tr>\n",
       "  </tbody>\n",
       "</table>\n",
       "</div>"
      ],
      "text/plain": [
       "   rush hour (HVZ)  public transport\n",
       "0         0.060365          0.011217\n",
       "1         0.624965          0.874237\n",
       "2         0.647752          0.013699\n",
       "3         0.080498          0.861091"
      ]
     },
     "execution_count": 14,
     "metadata": {},
     "output_type": "execute_result"
    }
   ],
   "source": [
    "# what are the centroids for each cluster and clustering variable?\n",
    "pd.DataFrame(centroids, columns = df.columns)"
   ]
  },
  {
   "cell_type": "code",
   "execution_count": 15,
   "metadata": {},
   "outputs": [
    {
     "data": {
      "image/png": "[encoded data removed]",
      "text/plain": [
       "<Figure size 432x288 with 1 Axes>"
      ]
     },
     "metadata": {
      "needs_background": "light"
     },
     "output_type": "display_data"
    }
   ],
   "source": [
    "# plot all clusters and centroids\n",
    "plt.scatter(df['rush hour (HVZ)'], df['public transport'], c= kmeans.labels_.astype(float), s=50, alpha=0.5)\n",
    "plt.scatter(centroids[:, 0], centroids[:, 1], c='red', s=50)\n",
    "plt.show()"
   ]
  },
  {
   "cell_type": "code",
   "execution_count": 16,
   "metadata": {},
   "outputs": [],
   "source": [
    "# TODO: other clustering than k-means?\n",
    "#from sklearn.cluster import AgglomerativeClustering\n",
    "#t = df.reset_index()[[\"tripcount\", \"rush hour (HVZ)\"]]\n",
    "#clustering = AgglomerativeClustering().fit(t[1:0000])\n",
    "#clustering\n",
    "#clustering.labels_"
   ]
  }
 ],
 "metadata": {
  "kernelspec": {
   "display_name": "genmob_kernel",
   "language": "python",
   "name": "genmob_kernel"
  },
  "language_info": {
   "codemirror_mode": {
    "name": "ipython",
    "version": 3
   },
   "file_extension": ".py",
   "mimetype": "text/x-python",
   "name": "python",
   "nbconvert_exporter": "python",
   "pygments_lexer": "ipython3",
   "version": "3.8.5"
  }
 },
 "nbformat": 4,
 "nbformat_minor": 4
}
