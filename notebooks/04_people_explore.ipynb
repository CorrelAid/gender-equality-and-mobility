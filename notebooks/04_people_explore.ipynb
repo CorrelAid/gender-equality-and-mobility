{
 "cells": [
  {
   "cell_type": "markdown",
   "metadata": {},
   "source": [
    "# Exporatory analysis: stratifying by sex"
   ]
  },
  {
   "cell_type": "code",
   "execution_count": 1,
   "metadata": {},
   "outputs": [],
   "source": [
    "import pandas as pd\n",
    "import numpy as np\n",
    "import os\n",
    "import seaborn as sns\n",
    "import matplotlib.pyplot as plt\n",
    "%matplotlib inline\n",
    "\n",
    "# Seaborn colors\n",
    "#https://python-graph-gallery.com/100-calling-a-color-with-seaborn/"
   ]
  },
  {
   "cell_type": "markdown",
   "metadata": {},
   "source": [
    "## 1. Load data \n",
    "\n",
    "Load data that has been pre-processed as for 00_SetUp and have a first look at the variables. "
   ]
  },
  {
   "cell_type": "code",
   "execution_count": 2,
   "metadata": {},
   "outputs": [
    {
     "name": "stdout",
     "output_type": "stream",
     "text": [
      "Uploaded data:  85064 observations for 51 variables.\n"
     ]
    }
   ],
   "source": [
    "#os.getcwd()\n",
    "#os.listdir('../data/')\n",
    "\n",
    "#df_legs = pd.read_csv(r'..\\data\\interim\\legs.csv', dtype = {'VORIHORAINI':str, 'VDESHORAFIN':str})\n",
    "#df_trips = pd.read_csv(r'..\\data\\interim\\trips.csv', dtype = {'VORIHORAINI':str, 'VDESHORAFIN':str})\n",
    "df_people = pd.read_csv(r'../data/interim/people.csv', dtype = {'VORIHORAINI':str, 'VDESHORAFIN':str})\n",
    "\n",
    "codes = pd.read_csv(r'../data/processed/codes_translated.csv', dtype = {'CODE': float})\n",
    "\n",
    "print('Uploaded data: ', (df_people.shape)[0], 'observations', 'for', (df_people.shape)[1], 'variables.')\n",
    "# https://stackoverflow.com/questions/42654934/need-of-using-r-before-path-name-while-reading-a-csv-file-with-pandas"
   ]
  },
  {
   "cell_type": "code",
   "execution_count": 3,
   "metadata": {
    "scrolled": true
   },
   "outputs": [
    {
     "data": {
      "text/html": [
       "<div>\n",
       "<style scoped>\n",
       "    .dataframe tbody tr th:only-of-type {\n",
       "        vertical-align: middle;\n",
       "    }\n",
       "\n",
       "    .dataframe tbody tr th {\n",
       "        vertical-align: top;\n",
       "    }\n",
       "\n",
       "    .dataframe thead th {\n",
       "        text-align: right;\n",
       "    }\n",
       "</style>\n",
       "<table border=\"1\" class=\"dataframe\">\n",
       "  <thead>\n",
       "    <tr style=\"text-align: right;\">\n",
       "      <th></th>\n",
       "      <th>ID_HOGAR</th>\n",
       "      <th>ID_IND</th>\n",
       "      <th>CODMUNI</th>\n",
       "      <th>NOMMUNI</th>\n",
       "      <th>CODPROV</th>\n",
       "      <th>NOMPROV</th>\n",
       "      <th>ZT1259</th>\n",
       "      <th>CZ208</th>\n",
       "      <th>ELE_HOGAR_NUEVO</th>\n",
       "      <th>TIPO_ENCUESTA_hog</th>\n",
       "      <th>...</th>\n",
       "      <th>C14ABONO</th>\n",
       "      <th>DDIA</th>\n",
       "      <th>DMES</th>\n",
       "      <th>DANNO</th>\n",
       "      <th>DIASEM</th>\n",
       "      <th>DNOVIAJO</th>\n",
       "      <th>C11ZT1259</th>\n",
       "      <th>C12ZT1259</th>\n",
       "      <th>CPMR</th>\n",
       "      <th>TIPO_ENCUESTA_ind</th>\n",
       "    </tr>\n",
       "  </thead>\n",
       "  <tbody>\n",
       "    <tr>\n",
       "      <th>0</th>\n",
       "      <td>189</td>\n",
       "      <td>1</td>\n",
       "      <td>2</td>\n",
       "      <td>AJALVIR</td>\n",
       "      <td>28</td>\n",
       "      <td>MADRID</td>\n",
       "      <td>002-002</td>\n",
       "      <td>60</td>\n",
       "      <td>69.902334</td>\n",
       "      <td>CAPI</td>\n",
       "      <td>...</td>\n",
       "      <td>NaN</td>\n",
       "      <td>25</td>\n",
       "      <td>4</td>\n",
       "      <td>2018</td>\n",
       "      <td>3</td>\n",
       "      <td>NaN</td>\n",
       "      <td>104-001B</td>\n",
       "      <td>NaN</td>\n",
       "      <td>2</td>\n",
       "      <td>CAPI</td>\n",
       "    </tr>\n",
       "    <tr>\n",
       "      <th>1</th>\n",
       "      <td>189</td>\n",
       "      <td>2</td>\n",
       "      <td>2</td>\n",
       "      <td>AJALVIR</td>\n",
       "      <td>28</td>\n",
       "      <td>MADRID</td>\n",
       "      <td>002-002</td>\n",
       "      <td>60</td>\n",
       "      <td>69.902334</td>\n",
       "      <td>CAPI</td>\n",
       "      <td>...</td>\n",
       "      <td>1.0</td>\n",
       "      <td>25</td>\n",
       "      <td>4</td>\n",
       "      <td>2018</td>\n",
       "      <td>3</td>\n",
       "      <td>2.0</td>\n",
       "      <td>NaN</td>\n",
       "      <td>NaN</td>\n",
       "      <td>2</td>\n",
       "      <td>CAPI</td>\n",
       "    </tr>\n",
       "    <tr>\n",
       "      <th>2</th>\n",
       "      <td>244</td>\n",
       "      <td>1</td>\n",
       "      <td>2</td>\n",
       "      <td>AJALVIR</td>\n",
       "      <td>28</td>\n",
       "      <td>MADRID</td>\n",
       "      <td>002-002</td>\n",
       "      <td>60</td>\n",
       "      <td>67.889119</td>\n",
       "      <td>CAPI</td>\n",
       "      <td>...</td>\n",
       "      <td>NaN</td>\n",
       "      <td>26</td>\n",
       "      <td>4</td>\n",
       "      <td>2018</td>\n",
       "      <td>4</td>\n",
       "      <td>NaN</td>\n",
       "      <td>104-001B</td>\n",
       "      <td>NaN</td>\n",
       "      <td>2</td>\n",
       "      <td>CAPI</td>\n",
       "    </tr>\n",
       "    <tr>\n",
       "      <th>3</th>\n",
       "      <td>244</td>\n",
       "      <td>2</td>\n",
       "      <td>2</td>\n",
       "      <td>AJALVIR</td>\n",
       "      <td>28</td>\n",
       "      <td>MADRID</td>\n",
       "      <td>002-002</td>\n",
       "      <td>60</td>\n",
       "      <td>67.889119</td>\n",
       "      <td>CAPI</td>\n",
       "      <td>...</td>\n",
       "      <td>2.0</td>\n",
       "      <td>26</td>\n",
       "      <td>4</td>\n",
       "      <td>2018</td>\n",
       "      <td>4</td>\n",
       "      <td>NaN</td>\n",
       "      <td>NaN</td>\n",
       "      <td>NaN</td>\n",
       "      <td>2</td>\n",
       "      <td>CAPI</td>\n",
       "    </tr>\n",
       "    <tr>\n",
       "      <th>4</th>\n",
       "      <td>324</td>\n",
       "      <td>1</td>\n",
       "      <td>2</td>\n",
       "      <td>AJALVIR</td>\n",
       "      <td>28</td>\n",
       "      <td>MADRID</td>\n",
       "      <td>002-002</td>\n",
       "      <td>60</td>\n",
       "      <td>79.174900</td>\n",
       "      <td>CAPI</td>\n",
       "      <td>...</td>\n",
       "      <td>NaN</td>\n",
       "      <td>25</td>\n",
       "      <td>4</td>\n",
       "      <td>2018</td>\n",
       "      <td>3</td>\n",
       "      <td>NaN</td>\n",
       "      <td>NaN</td>\n",
       "      <td>NaN</td>\n",
       "      <td>2</td>\n",
       "      <td>CAPI</td>\n",
       "    </tr>\n",
       "  </tbody>\n",
       "</table>\n",
       "<p>5 rows × 51 columns</p>\n",
       "</div>"
      ],
      "text/plain": [
       "   ID_HOGAR  ID_IND  CODMUNI  NOMMUNI  CODPROV NOMPROV   ZT1259  CZ208  \\\n",
       "0       189       1        2  AJALVIR       28  MADRID  002-002     60   \n",
       "1       189       2        2  AJALVIR       28  MADRID  002-002     60   \n",
       "2       244       1        2  AJALVIR       28  MADRID  002-002     60   \n",
       "3       244       2        2  AJALVIR       28  MADRID  002-002     60   \n",
       "4       324       1        2  AJALVIR       28  MADRID  002-002     60   \n",
       "\n",
       "   ELE_HOGAR_NUEVO TIPO_ENCUESTA_hog  ...  C14ABONO  DDIA  DMES  DANNO  \\\n",
       "0        69.902334              CAPI  ...       NaN    25     4   2018   \n",
       "1        69.902334              CAPI  ...       1.0    25     4   2018   \n",
       "2        67.889119              CAPI  ...       NaN    26     4   2018   \n",
       "3        67.889119              CAPI  ...       2.0    26     4   2018   \n",
       "4        79.174900              CAPI  ...       NaN    25     4   2018   \n",
       "\n",
       "   DIASEM  DNOVIAJO  C11ZT1259  C12ZT1259  CPMR  TIPO_ENCUESTA_ind  \n",
       "0       3       NaN   104-001B        NaN     2               CAPI  \n",
       "1       3       2.0        NaN        NaN     2               CAPI  \n",
       "2       4       NaN   104-001B        NaN     2               CAPI  \n",
       "3       4       NaN        NaN        NaN     2               CAPI  \n",
       "4       3       NaN        NaN        NaN     2               CAPI  \n",
       "\n",
       "[5 rows x 51 columns]"
      ]
     },
     "execution_count": 3,
     "metadata": {},
     "output_type": "execute_result"
    }
   ],
   "source": [
    "df_people.head()"
   ]
  },
  {
   "cell_type": "code",
   "execution_count": 4,
   "metadata": {
    "scrolled": true
   },
   "outputs": [
    {
     "name": "stdout",
     "output_type": "stream",
     "text": [
      "Index(['ID_HOGAR', 'ID_IND', 'CODMUNI', 'NOMMUNI', 'CODPROV', 'NOMPROV',\n",
      "       'ZT1259', 'CZ208', 'ELE_HOGAR_NUEVO', 'TIPO_ENCUESTA_hog', 'A1PER',\n",
      "       'A2PER4', 'B1NVE', 'V1B11TIPO', 'V1B12CARB', 'V1B13EST', 'V2B11TIPO1',\n",
      "       'V2B12CARB1', 'V2B13EST1', 'V3B11TIPO1', 'V3B12CARB1', 'V3B13EST1',\n",
      "       'V4B11TIPO1', 'V4B12CARB1', 'V4B13EST1', 'V5B11TIPO1', 'V5B12CARB1',\n",
      "       'V5B13EST1', 'N_MIEMBROS_POR_HOGAR', 'N_VIAJES_POR_HOGAR', 'C2SEXO',\n",
      "       'EDAD_FIN', 'ELE_G_POND', 'C4NAC', 'C5CAM', 'C6CARNE', 'C7ESTUD',\n",
      "       'C8ACTIV', 'C9PROF', 'C10SECTOR', 'C13TARJETA', 'C14ABONO', 'DDIA',\n",
      "       'DMES', 'DANNO', 'DIASEM', 'DNOVIAJO', 'C11ZT1259', 'C12ZT1259', 'CPMR',\n",
      "       'TIPO_ENCUESTA_ind'],\n",
      "      dtype='object')\n"
     ]
    }
   ],
   "source": [
    "print(df_people.columns)"
   ]
  },
  {
   "cell_type": "markdown",
   "metadata": {},
   "source": [
    "## 2. Recode Sex and check distribution"
   ]
  },
  {
   "cell_type": "code",
   "execution_count": 5,
   "metadata": {},
   "outputs": [
    {
     "data": {
      "text/plain": [
       "Female    46055\n",
       "Male      39009\n",
       "Name: Sex, dtype: int64"
      ]
     },
     "execution_count": 5,
     "metadata": {},
     "output_type": "execute_result"
    }
   ],
   "source": [
    "conditions = [\n",
    "    df_people['C2SEXO'] == 1,\n",
    "    df_people['C2SEXO'] == 2\n",
    "]\n",
    "\n",
    "outputs = [\n",
    "    'Male', 'Female'\n",
    "]\n",
    "\n",
    "df_people['Sex'] = np.select(conditions, outputs, 'Other') \n",
    "df_people['Sex'].value_counts()"
   ]
  },
  {
   "cell_type": "code",
   "execution_count": 6,
   "metadata": {},
   "outputs": [
    {
     "data": {
      "text/plain": [
       "<seaborn.axisgrid.FacetGrid at 0x11f042890>"
      ]
     },
     "execution_count": 6,
     "metadata": {},
     "output_type": "execute_result"
    },
    {
     "data": {
      "image/png": "[encoded data removed]",
      "text/plain": [
       "<Figure size 360x360 with 1 Axes>"
      ]
     },
     "metadata": {
      "needs_background": "light"
     },
     "output_type": "display_data"
    }
   ],
   "source": [
    "sns.catplot(x=\"Sex\", hue=\"Sex\", kind=\"count\",\n",
    "            palette=\"pastel\", edgecolor=\".6\",\n",
    "            data=df_people)"
   ]
  },
  {
   "cell_type": "markdown",
   "metadata": {},
   "source": [
    "## 3. Sex and Spanish Nationality"
   ]
  },
  {
   "cell_type": "markdown",
   "metadata": {},
   "source": [
    "### 3.1 Recode and distribution in males/females"
   ]
  },
  {
   "cell_type": "code",
   "execution_count": 7,
   "metadata": {},
   "outputs": [],
   "source": [
    "conditions = [\n",
    "    df_people['C4NAC'] == 1,\n",
    "    df_people['C4NAC'] == 2\n",
    "]\n",
    "\n",
    "outputs = [\n",
    "    'Yes', 'No'\n",
    "]\n",
    "\n",
    "df_people['Spanish'] = np.select(conditions, outputs) "
   ]
  },
  {
   "cell_type": "code",
   "execution_count": 8,
   "metadata": {},
   "outputs": [
    {
     "data": {
      "text/html": [
       "<div>\n",
       "<style scoped>\n",
       "    .dataframe tbody tr th:only-of-type {\n",
       "        vertical-align: middle;\n",
       "    }\n",
       "\n",
       "    .dataframe tbody tr th {\n",
       "        vertical-align: top;\n",
       "    }\n",
       "\n",
       "    .dataframe thead th {\n",
       "        text-align: right;\n",
       "    }\n",
       "</style>\n",
       "<table border=\"1\" class=\"dataframe\">\n",
       "  <thead>\n",
       "    <tr style=\"text-align: right;\">\n",
       "      <th>Spanish</th>\n",
       "      <th>No</th>\n",
       "      <th>Yes</th>\n",
       "    </tr>\n",
       "    <tr>\n",
       "      <th>Sex</th>\n",
       "      <th></th>\n",
       "      <th></th>\n",
       "    </tr>\n",
       "  </thead>\n",
       "  <tbody>\n",
       "    <tr>\n",
       "      <th>Female</th>\n",
       "      <td>0.053458</td>\n",
       "      <td>0.946542</td>\n",
       "    </tr>\n",
       "    <tr>\n",
       "      <th>Male</th>\n",
       "      <td>0.050681</td>\n",
       "      <td>0.949319</td>\n",
       "    </tr>\n",
       "    <tr>\n",
       "      <th>All</th>\n",
       "      <td>0.052184</td>\n",
       "      <td>0.947816</td>\n",
       "    </tr>\n",
       "  </tbody>\n",
       "</table>\n",
       "</div>"
      ],
      "text/plain": [
       "Spanish        No       Yes\n",
       "Sex                        \n",
       "Female   0.053458  0.946542\n",
       "Male     0.050681  0.949319\n",
       "All      0.052184  0.947816"
      ]
     },
     "execution_count": 8,
     "metadata": {},
     "output_type": "execute_result"
    }
   ],
   "source": [
    "pd.crosstab(df_people['Sex'], df_people['Spanish'], margins=True, normalize='index')\n",
    "# alternative: normalize=columns"
   ]
  },
  {
   "cell_type": "markdown",
   "metadata": {},
   "source": [
    "### 3.2 Visualization"
   ]
  },
  {
   "cell_type": "code",
   "execution_count": 9,
   "metadata": {},
   "outputs": [
    {
     "data": {
      "text/plain": [
       "<seaborn.axisgrid.FacetGrid at 0x1a2e38cbd0>"
      ]
     },
     "execution_count": 9,
     "metadata": {},
     "output_type": "execute_result"
    },
    {
     "data": {
      "image/png": "[encoded data removed]",
      "text/plain": [
       "<Figure size 484x432 with 1 Axes>"
      ]
     },
     "metadata": {
      "needs_background": "light"
     },
     "output_type": "display_data"
    }
   ],
   "source": [
    "#https://seaborn.pydata.org/tutorial/categorical.html\n",
    "sns.catplot(x=\"Sex\", hue=\"Spanish\", kind=\"count\",\n",
    "            palette=\"pastel\", edgecolor=\".6\",\n",
    "            data=df_people, height=6)"
   ]
  },
  {
   "cell_type": "markdown",
   "metadata": {},
   "source": [
    "### Technical Note: how to visualize a contingency table?\n",
    "\n",
    "* MosaicPlot: versions found so far are quite ugly and poorly customable. Used as a temporary solution\n",
    "\n",
    "* Treeplot: to try squarified or treemap in plotly; I have to understand how to wrangle data \n",
    "\n",
    "import plotly.express as px\n",
    "fig = px.treemap(df_people, \n",
    "                 path=['C4NAC', 'Sex'],\n",
    "                values='Sex')\n",
    "fig.show()    \n"
   ]
  },
  {
   "cell_type": "code",
   "execution_count": 11,
   "metadata": {},
   "outputs": [
    {
     "data": {
      "text/plain": [
       "<Figure size 432x432 with 0 Axes>"
      ]
     },
     "metadata": {},
     "output_type": "display_data"
    },
    {
     "data": {
      "image/png": "[encoded data removed]",
      "text/plain": [
       "<Figure size 432x288 with 3 Axes>"
      ]
     },
     "metadata": {
      "needs_background": "light"
     },
     "output_type": "display_data"
    }
   ],
   "source": [
    "#mosaic(people, ['C2SEXO', 'C4NAC'],\n",
    "#       labelizer=lambda k: '',\n",
    "#       properties=props)\n",
    "#plt.show()\n",
    "#help(mosaic)\n",
    "from statsmodels.graphics.mosaicplot import mosaic\n",
    "\n",
    "plt.figure(figsize=(6,6))\n",
    "\n",
    "#props = lambda key: {'color': 'orange' if people['Sex']=='Male' else 'gray'}\n",
    "#>>> labelizer = lambda k: {('a',): 'first', ('b',): 'second',\n",
    "#>>> mosaic(data, title='colored dictionary', properties=props,\n",
    "#...        labelizer=labelizer)\n",
    "\n",
    "props = {}\n",
    "props[('1', '1')] = {'color': 'orange'}\n",
    "props[('1', '2')] = {'color': 'red'}\n",
    "props[('2', '1')] = {'color': 'limegreen'}\n",
    "props[('2', '2')] = {'color': 'forestgreen'}\n",
    "\n",
    "\n",
    "#props[('yes','no')] = {'facecolor': 'xkcd:pale blue',\n",
    "#                       'edgecolor':'xkcd:light grey',\n",
    "#                       'hatch':'o'}\n",
    "\n",
    "#mosaic(people, ['C2SEXO', 'C4NAC'], title='Spanish nationality in men and women', properties=props)\n",
    "mosaic(df_people, ['C2SEXO', 'C4NAC'], title='Spanish nationality in men and women', \n",
    "      properties=props)\n",
    "\n",
    "plt.show()"
   ]
  },
  {
   "cell_type": "markdown",
   "metadata": {},
   "source": [
    "#### 2.3 Observations\n",
    "\n",
    " * The % of non-Spanish people is around 5.2%\n",
    " * The % is just slightly higher in females"
   ]
  },
  {
   "cell_type": "markdown",
   "metadata": {},
   "source": [
    "### 3. Age"
   ]
  },
  {
   "cell_type": "markdown",
   "metadata": {},
   "source": [
    "#### 3.1 Overall distribution"
   ]
  },
  {
   "cell_type": "code",
   "execution_count": 12,
   "metadata": {},
   "outputs": [
    {
     "data": {
      "text/plain": [
       "<matplotlib.axes._subplots.AxesSubplot at 0x1a2f694290>"
      ]
     },
     "execution_count": 12,
     "metadata": {},
     "output_type": "execute_result"
    },
    {
     "data": {
      "image/png": "[encoded data removed]",
      "text/plain": [
       "<Figure size 1152x432 with 1 Axes>"
      ]
     },
     "metadata": {
      "needs_background": "light"
     },
     "output_type": "display_data"
    }
   ],
   "source": [
    "plt.figure(figsize=(16,6))\n",
    "\n",
    "sns.kdeplot(df_people['EDAD_FIN'], shade=True, color='cornflowerblue', linewidth=4)"
   ]
  },
  {
   "cell_type": "markdown",
   "metadata": {},
   "source": [
    "#### 3.2 Stratification in males and females"
   ]
  },
  {
   "cell_type": "code",
   "execution_count": 13,
   "metadata": {
    "scrolled": true
   },
   "outputs": [
    {
     "data": {
      "text/html": [
       "<div>\n",
       "<style scoped>\n",
       "    .dataframe tbody tr th:only-of-type {\n",
       "        vertical-align: middle;\n",
       "    }\n",
       "\n",
       "    .dataframe tbody tr th {\n",
       "        vertical-align: top;\n",
       "    }\n",
       "\n",
       "    .dataframe thead tr th {\n",
       "        text-align: left;\n",
       "    }\n",
       "\n",
       "    .dataframe thead tr:last-of-type th {\n",
       "        text-align: right;\n",
       "    }\n",
       "</style>\n",
       "<table border=\"1\" class=\"dataframe\">\n",
       "  <thead>\n",
       "    <tr>\n",
       "      <th></th>\n",
       "      <th colspan=\"8\" halign=\"left\">EDAD_FIN</th>\n",
       "    </tr>\n",
       "    <tr>\n",
       "      <th></th>\n",
       "      <th>count</th>\n",
       "      <th>mean</th>\n",
       "      <th>std</th>\n",
       "      <th>min</th>\n",
       "      <th>25%</th>\n",
       "      <th>50%</th>\n",
       "      <th>75%</th>\n",
       "      <th>max</th>\n",
       "    </tr>\n",
       "    <tr>\n",
       "      <th>Sex</th>\n",
       "      <th></th>\n",
       "      <th></th>\n",
       "      <th></th>\n",
       "      <th></th>\n",
       "      <th></th>\n",
       "      <th></th>\n",
       "      <th></th>\n",
       "      <th></th>\n",
       "    </tr>\n",
       "  </thead>\n",
       "  <tbody>\n",
       "    <tr>\n",
       "      <th>Female</th>\n",
       "      <td>46055.0</td>\n",
       "      <td>46.954598</td>\n",
       "      <td>20.526151</td>\n",
       "      <td>4.0</td>\n",
       "      <td>33.0</td>\n",
       "      <td>49.0</td>\n",
       "      <td>61.0</td>\n",
       "      <td>106.0</td>\n",
       "    </tr>\n",
       "    <tr>\n",
       "      <th>Male</th>\n",
       "      <td>39009.0</td>\n",
       "      <td>43.410110</td>\n",
       "      <td>21.897516</td>\n",
       "      <td>4.0</td>\n",
       "      <td>24.0</td>\n",
       "      <td>46.0</td>\n",
       "      <td>60.0</td>\n",
       "      <td>106.0</td>\n",
       "    </tr>\n",
       "  </tbody>\n",
       "</table>\n",
       "</div>"
      ],
      "text/plain": [
       "       EDAD_FIN                                                    \n",
       "          count       mean        std  min   25%   50%   75%    max\n",
       "Sex                                                                \n",
       "Female  46055.0  46.954598  20.526151  4.0  33.0  49.0  61.0  106.0\n",
       "Male    39009.0  43.410110  21.897516  4.0  24.0  46.0  60.0  106.0"
      ]
     },
     "execution_count": 13,
     "metadata": {},
     "output_type": "execute_result"
    }
   ],
   "source": [
    "df_people[['EDAD_FIN', 'Sex']].groupby(\"Sex\").describe()"
   ]
  },
  {
   "cell_type": "code",
   "execution_count": 14,
   "metadata": {},
   "outputs": [
    {
     "data": {
      "text/plain": [
       "<matplotlib.axes._subplots.AxesSubplot at 0x1a23c93490>"
      ]
     },
     "execution_count": 14,
     "metadata": {},
     "output_type": "execute_result"
    },
    {
     "data": {
      "image/png": "[encoded data removed]",
      "text/plain": [
       "<Figure size 1152x432 with 1 Axes>"
      ]
     },
     "metadata": {
      "needs_background": "light"
     },
     "output_type": "display_data"
    }
   ],
   "source": [
    "plt.figure(figsize=(16,6))\n",
    "\n",
    "sns.kdeplot(df_people[df_people['Sex']=='Male']['EDAD_FIN'], shade=True, color='orange', linewidth=4)\n",
    "sns.kdeplot(df_people[df_people['Sex']=='Female']['EDAD_FIN'], shade=True, color='limegreen', linewidth=4)\n"
   ]
  },
  {
   "cell_type": "markdown",
   "metadata": {},
   "source": [
    "#### 3.3 Observations\n",
    "\n",
    " * There are two emerging age-groups: first peak just before 20; second around 50\n",
    " * Females are more numerous in the second group (less female students??; 'professional' males less likely to use public transportation?)"
   ]
  },
  {
   "cell_type": "markdown",
   "metadata": {},
   "source": [
    "## 4. Family\n",
    "\n",
    "### 4.1 Number of family members"
   ]
  },
  {
   "cell_type": "code",
   "execution_count": 15,
   "metadata": {},
   "outputs": [
    {
     "data": {
      "text/html": [
       "<div>\n",
       "<style scoped>\n",
       "    .dataframe tbody tr th:only-of-type {\n",
       "        vertical-align: middle;\n",
       "    }\n",
       "\n",
       "    .dataframe tbody tr th {\n",
       "        vertical-align: top;\n",
       "    }\n",
       "\n",
       "    .dataframe thead tr th {\n",
       "        text-align: left;\n",
       "    }\n",
       "\n",
       "    .dataframe thead tr:last-of-type th {\n",
       "        text-align: right;\n",
       "    }\n",
       "</style>\n",
       "<table border=\"1\" class=\"dataframe\">\n",
       "  <thead>\n",
       "    <tr>\n",
       "      <th></th>\n",
       "      <th colspan=\"8\" halign=\"left\">A1PER</th>\n",
       "    </tr>\n",
       "    <tr>\n",
       "      <th></th>\n",
       "      <th>count</th>\n",
       "      <th>mean</th>\n",
       "      <th>std</th>\n",
       "      <th>min</th>\n",
       "      <th>25%</th>\n",
       "      <th>50%</th>\n",
       "      <th>75%</th>\n",
       "      <th>max</th>\n",
       "    </tr>\n",
       "    <tr>\n",
       "      <th>Sex</th>\n",
       "      <th></th>\n",
       "      <th></th>\n",
       "      <th></th>\n",
       "      <th></th>\n",
       "      <th></th>\n",
       "      <th></th>\n",
       "      <th></th>\n",
       "      <th></th>\n",
       "    </tr>\n",
       "  </thead>\n",
       "  <tbody>\n",
       "    <tr>\n",
       "      <th>Female</th>\n",
       "      <td>46055.0</td>\n",
       "      <td>3.118923</td>\n",
       "      <td>1.251842</td>\n",
       "      <td>1.0</td>\n",
       "      <td>2.0</td>\n",
       "      <td>3.0</td>\n",
       "      <td>4.0</td>\n",
       "      <td>10.0</td>\n",
       "    </tr>\n",
       "    <tr>\n",
       "      <th>Male</th>\n",
       "      <td>39009.0</td>\n",
       "      <td>3.252813</td>\n",
       "      <td>1.232327</td>\n",
       "      <td>1.0</td>\n",
       "      <td>2.0</td>\n",
       "      <td>3.0</td>\n",
       "      <td>4.0</td>\n",
       "      <td>10.0</td>\n",
       "    </tr>\n",
       "  </tbody>\n",
       "</table>\n",
       "</div>"
      ],
      "text/plain": [
       "          A1PER                                              \n",
       "          count      mean       std  min  25%  50%  75%   max\n",
       "Sex                                                          \n",
       "Female  46055.0  3.118923  1.251842  1.0  2.0  3.0  4.0  10.0\n",
       "Male    39009.0  3.252813  1.232327  1.0  2.0  3.0  4.0  10.0"
      ]
     },
     "execution_count": 15,
     "metadata": {},
     "output_type": "execute_result"
    }
   ],
   "source": [
    "df_people[['A1PER', 'Sex']].groupby(\"Sex\").describe()"
   ]
  },
  {
   "cell_type": "code",
   "execution_count": 17,
   "metadata": {},
   "outputs": [
    {
     "data": {
      "text/plain": [
       "<matplotlib.axes._subplots.AxesSubplot at 0x1a22f3ba10>"
      ]
     },
     "execution_count": 17,
     "metadata": {},
     "output_type": "execute_result"
    },
    {
     "data": {
      "image/png": "[encoded data removed]",
      "text/plain": [
       "<Figure size 1152x432 with 1 Axes>"
      ]
     },
     "metadata": {
      "needs_background": "light"
     },
     "output_type": "display_data"
    }
   ],
   "source": [
    "# IMPROVE VISUALIZATION\n",
    "plt.figure(figsize=(16,6))\n",
    "sns.distplot(df_people[df_people['Sex']=='Male']['A1PER'], rug=True, color='orange')\n",
    "sns.distplot(df_people[df_people['Sex']=='Female']['A1PER'], rug=True, color='limegreen')\n",
    "\n",
    "#sns.kdeplot(people[people['Sex']=='Male']['A1PER'], shade=False, color='orange', linewidth=4)\n",
    "#sns.distplot(df_people[df_people['Sex']=='Male']['A1PER'],  color='orange', linewidth=4)\n",
    "#sns.kdeplot(df_people[df_people['Sex']=='Female']['A1PER'], shade=False, color='limegreen', linewidth=4)\n"
   ]
  },
  {
   "cell_type": "code",
   "execution_count": 19,
   "metadata": {},
   "outputs": [
    {
     "data": {
      "text/html": [
       "<div>\n",
       "<style scoped>\n",
       "    .dataframe tbody tr th:only-of-type {\n",
       "        vertical-align: middle;\n",
       "    }\n",
       "\n",
       "    .dataframe tbody tr th {\n",
       "        vertical-align: top;\n",
       "    }\n",
       "\n",
       "    .dataframe thead th {\n",
       "        text-align: right;\n",
       "    }\n",
       "</style>\n",
       "<table border=\"1\" class=\"dataframe\">\n",
       "  <thead>\n",
       "    <tr style=\"text-align: right;\">\n",
       "      <th>A1PER</th>\n",
       "      <th>1</th>\n",
       "      <th>2</th>\n",
       "      <th>3</th>\n",
       "      <th>4</th>\n",
       "      <th>5</th>\n",
       "      <th>6</th>\n",
       "      <th>7</th>\n",
       "      <th>8</th>\n",
       "      <th>9</th>\n",
       "      <th>10</th>\n",
       "    </tr>\n",
       "    <tr>\n",
       "      <th>Sex</th>\n",
       "      <th></th>\n",
       "      <th></th>\n",
       "      <th></th>\n",
       "      <th></th>\n",
       "      <th></th>\n",
       "      <th></th>\n",
       "      <th></th>\n",
       "      <th></th>\n",
       "      <th></th>\n",
       "      <th></th>\n",
       "    </tr>\n",
       "  </thead>\n",
       "  <tbody>\n",
       "    <tr>\n",
       "      <th>Female</th>\n",
       "      <td>0.088655</td>\n",
       "      <td>0.258778</td>\n",
       "      <td>0.248572</td>\n",
       "      <td>0.292715</td>\n",
       "      <td>0.082792</td>\n",
       "      <td>0.020714</td>\n",
       "      <td>0.005168</td>\n",
       "      <td>0.001802</td>\n",
       "      <td>0.000738</td>\n",
       "      <td>0.000065</td>\n",
       "    </tr>\n",
       "    <tr>\n",
       "      <th>Male</th>\n",
       "      <td>0.062652</td>\n",
       "      <td>0.243662</td>\n",
       "      <td>0.243944</td>\n",
       "      <td>0.322746</td>\n",
       "      <td>0.093953</td>\n",
       "      <td>0.024302</td>\n",
       "      <td>0.006229</td>\n",
       "      <td>0.001923</td>\n",
       "      <td>0.000436</td>\n",
       "      <td>0.000154</td>\n",
       "    </tr>\n",
       "    <tr>\n",
       "      <th>All</th>\n",
       "      <td>0.076730</td>\n",
       "      <td>0.251846</td>\n",
       "      <td>0.246450</td>\n",
       "      <td>0.306487</td>\n",
       "      <td>0.087910</td>\n",
       "      <td>0.022360</td>\n",
       "      <td>0.005655</td>\n",
       "      <td>0.001857</td>\n",
       "      <td>0.000600</td>\n",
       "      <td>0.000106</td>\n",
       "    </tr>\n",
       "  </tbody>\n",
       "</table>\n",
       "</div>"
      ],
      "text/plain": [
       "A1PER         1         2         3         4         5         6         7   \\\n",
       "Sex                                                                            \n",
       "Female  0.088655  0.258778  0.248572  0.292715  0.082792  0.020714  0.005168   \n",
       "Male    0.062652  0.243662  0.243944  0.322746  0.093953  0.024302  0.006229   \n",
       "All     0.076730  0.251846  0.246450  0.306487  0.087910  0.022360  0.005655   \n",
       "\n",
       "A1PER         8         9         10  \n",
       "Sex                                   \n",
       "Female  0.001802  0.000738  0.000065  \n",
       "Male    0.001923  0.000436  0.000154  \n",
       "All     0.001857  0.000600  0.000106  "
      ]
     },
     "execution_count": 19,
     "metadata": {},
     "output_type": "execute_result"
    }
   ],
   "source": [
    "pd.crosstab(df_people['Sex'], df_people['A1PER'], margins=True, normalize='index')"
   ]
  },
  {
   "cell_type": "markdown",
   "metadata": {},
   "source": [
    "### 4.2 Number of children\n",
    "\n",
    "I generate a new boolean variable relative to the presence of at least one child age ...."
   ]
  },
  {
   "cell_type": "code",
   "execution_count": 20,
   "metadata": {},
   "outputs": [
    {
     "data": {
      "text/html": [
       "<div>\n",
       "<style scoped>\n",
       "    .dataframe tbody tr th:only-of-type {\n",
       "        vertical-align: middle;\n",
       "    }\n",
       "\n",
       "    .dataframe tbody tr th {\n",
       "        vertical-align: top;\n",
       "    }\n",
       "\n",
       "    .dataframe thead tr th {\n",
       "        text-align: left;\n",
       "    }\n",
       "\n",
       "    .dataframe thead tr:last-of-type th {\n",
       "        text-align: right;\n",
       "    }\n",
       "</style>\n",
       "<table border=\"1\" class=\"dataframe\">\n",
       "  <thead>\n",
       "    <tr>\n",
       "      <th></th>\n",
       "      <th colspan=\"4\" halign=\"left\">Children</th>\n",
       "    </tr>\n",
       "    <tr>\n",
       "      <th></th>\n",
       "      <th>count</th>\n",
       "      <th>unique</th>\n",
       "      <th>top</th>\n",
       "      <th>freq</th>\n",
       "    </tr>\n",
       "    <tr>\n",
       "      <th>Sex</th>\n",
       "      <th></th>\n",
       "      <th></th>\n",
       "      <th></th>\n",
       "      <th></th>\n",
       "    </tr>\n",
       "  </thead>\n",
       "  <tbody>\n",
       "    <tr>\n",
       "      <th>Female</th>\n",
       "      <td>46055</td>\n",
       "      <td>2</td>\n",
       "      <td>False</td>\n",
       "      <td>42176</td>\n",
       "    </tr>\n",
       "    <tr>\n",
       "      <th>Male</th>\n",
       "      <td>39009</td>\n",
       "      <td>2</td>\n",
       "      <td>False</td>\n",
       "      <td>35641</td>\n",
       "    </tr>\n",
       "  </tbody>\n",
       "</table>\n",
       "</div>"
      ],
      "text/plain": [
       "       Children                     \n",
       "          count unique    top   freq\n",
       "Sex                                 \n",
       "Female    46055      2  False  42176\n",
       "Male      39009      2  False  35641"
      ]
     },
     "execution_count": 20,
     "metadata": {},
     "output_type": "execute_result"
    }
   ],
   "source": [
    "df_people['Children'] = (df_people.A1PER - df_people.A2PER4) > 0\n",
    "df_people[['Children', 'Sex']].groupby(\"Sex\").describe()"
   ]
  },
  {
   "cell_type": "code",
   "execution_count": 21,
   "metadata": {},
   "outputs": [
    {
     "data": {
      "text/html": [
       "<div>\n",
       "<style scoped>\n",
       "    .dataframe tbody tr th:only-of-type {\n",
       "        vertical-align: middle;\n",
       "    }\n",
       "\n",
       "    .dataframe tbody tr th {\n",
       "        vertical-align: top;\n",
       "    }\n",
       "\n",
       "    .dataframe thead th {\n",
       "        text-align: right;\n",
       "    }\n",
       "</style>\n",
       "<table border=\"1\" class=\"dataframe\">\n",
       "  <thead>\n",
       "    <tr style=\"text-align: right;\">\n",
       "      <th>Children</th>\n",
       "      <th>False</th>\n",
       "      <th>True</th>\n",
       "    </tr>\n",
       "    <tr>\n",
       "      <th>Sex</th>\n",
       "      <th></th>\n",
       "      <th></th>\n",
       "    </tr>\n",
       "  </thead>\n",
       "  <tbody>\n",
       "    <tr>\n",
       "      <th>Female</th>\n",
       "      <td>0.915775</td>\n",
       "      <td>0.084225</td>\n",
       "    </tr>\n",
       "    <tr>\n",
       "      <th>Male</th>\n",
       "      <td>0.913661</td>\n",
       "      <td>0.086339</td>\n",
       "    </tr>\n",
       "    <tr>\n",
       "      <th>All</th>\n",
       "      <td>0.914805</td>\n",
       "      <td>0.085195</td>\n",
       "    </tr>\n",
       "  </tbody>\n",
       "</table>\n",
       "</div>"
      ],
      "text/plain": [
       "Children     False     True \n",
       "Sex                         \n",
       "Female    0.915775  0.084225\n",
       "Male      0.913661  0.086339\n",
       "All       0.914805  0.085195"
      ]
     },
     "execution_count": 21,
     "metadata": {},
     "output_type": "execute_result"
    }
   ],
   "source": [
    "pd.crosstab(df_people['Sex'], df_people['Children'], margins=True, normalize='index')"
   ]
  },
  {
   "cell_type": "markdown",
   "metadata": {},
   "source": [
    "### 4.3 Observations\n",
    "\n",
    "* Females reports slightly more frequently small families (1-2)\n",
    "* Around 8% of families report the presence of small children; the % is very similar in males and females. "
   ]
  },
  {
   "cell_type": "markdown",
   "metadata": {},
   "source": [
    "## 5. Education Level"
   ]
  },
  {
   "cell_type": "markdown",
   "metadata": {},
   "source": [
    "### 5.1 Recode"
   ]
  },
  {
   "cell_type": "code",
   "execution_count": 23,
   "metadata": {},
   "outputs": [],
   "source": [
    "conditions = [\n",
    "    df_people['C7ESTUD'] == 1,\n",
    "    df_people['C7ESTUD'] == 2, \n",
    "    df_people['C7ESTUD'] == 3, \n",
    "    df_people['C7ESTUD'] == 4, \n",
    "    df_people['C7ESTUD'] == 5, \n",
    "    df_people['C7ESTUD'] == 6, \n",
    "    df_people['C7ESTUD'] == 7\n",
    "]\n",
    "\n",
    "outputs = [\n",
    "    'NoPrimary', 'Primary', 'Secondary1', 'Secondary2', 'PostSecondary', 'Teaching', 'University'\n",
    "]\n",
    "\n",
    "df_people['Education'] = np.select(conditions, outputs) "
   ]
  },
  {
   "cell_type": "code",
   "execution_count": 24,
   "metadata": {},
   "outputs": [
    {
     "data": {
      "text/html": [
       "<div>\n",
       "<style scoped>\n",
       "    .dataframe tbody tr th:only-of-type {\n",
       "        vertical-align: middle;\n",
       "    }\n",
       "\n",
       "    .dataframe tbody tr th {\n",
       "        vertical-align: top;\n",
       "    }\n",
       "\n",
       "    .dataframe thead th {\n",
       "        text-align: right;\n",
       "    }\n",
       "</style>\n",
       "<table border=\"1\" class=\"dataframe\">\n",
       "  <thead>\n",
       "    <tr style=\"text-align: right;\">\n",
       "      <th>Education</th>\n",
       "      <th>NoPrimary</th>\n",
       "      <th>PostSecondary</th>\n",
       "      <th>Primary</th>\n",
       "      <th>Secondary1</th>\n",
       "      <th>Secondary2</th>\n",
       "      <th>Teaching</th>\n",
       "      <th>University</th>\n",
       "    </tr>\n",
       "    <tr>\n",
       "      <th>Sex</th>\n",
       "      <th></th>\n",
       "      <th></th>\n",
       "      <th></th>\n",
       "      <th></th>\n",
       "      <th></th>\n",
       "      <th></th>\n",
       "      <th></th>\n",
       "    </tr>\n",
       "  </thead>\n",
       "  <tbody>\n",
       "    <tr>\n",
       "      <th>Female</th>\n",
       "      <td>0.092042</td>\n",
       "      <td>0.032961</td>\n",
       "      <td>0.139941</td>\n",
       "      <td>0.140115</td>\n",
       "      <td>0.212941</td>\n",
       "      <td>0.090783</td>\n",
       "      <td>0.291217</td>\n",
       "    </tr>\n",
       "    <tr>\n",
       "      <th>Male</th>\n",
       "      <td>0.114076</td>\n",
       "      <td>0.033326</td>\n",
       "      <td>0.134636</td>\n",
       "      <td>0.139609</td>\n",
       "      <td>0.206850</td>\n",
       "      <td>0.097260</td>\n",
       "      <td>0.274244</td>\n",
       "    </tr>\n",
       "    <tr>\n",
       "      <th>All</th>\n",
       "      <td>0.102147</td>\n",
       "      <td>0.033128</td>\n",
       "      <td>0.137508</td>\n",
       "      <td>0.139883</td>\n",
       "      <td>0.210148</td>\n",
       "      <td>0.093753</td>\n",
       "      <td>0.283434</td>\n",
       "    </tr>\n",
       "  </tbody>\n",
       "</table>\n",
       "</div>"
      ],
      "text/plain": [
       "Education  NoPrimary  PostSecondary   Primary  Secondary1  Secondary2  \\\n",
       "Sex                                                                     \n",
       "Female      0.092042       0.032961  0.139941    0.140115    0.212941   \n",
       "Male        0.114076       0.033326  0.134636    0.139609    0.206850   \n",
       "All         0.102147       0.033128  0.137508    0.139883    0.210148   \n",
       "\n",
       "Education  Teaching  University  \n",
       "Sex                              \n",
       "Female     0.090783    0.291217  \n",
       "Male       0.097260    0.274244  \n",
       "All        0.093753    0.283434  "
      ]
     },
     "execution_count": 24,
     "metadata": {},
     "output_type": "execute_result"
    }
   ],
   "source": [
    "pd.crosstab(df_people['Sex'], df_people['Education'], margins=True, normalize='index')"
   ]
  },
  {
   "cell_type": "code",
   "execution_count": 29,
   "metadata": {},
   "outputs": [
    {
     "data": {
      "text/plain": [
       "<seaborn.axisgrid.FacetGrid at 0x1a23d92e50>"
      ]
     },
     "execution_count": 29,
     "metadata": {},
     "output_type": "execute_result"
    },
    {
     "data": {
      "image/png": "[encoded data removed]",
      "text/plain": [
       "<Figure size 541.5x432 with 1 Axes>"
      ]
     },
     "metadata": {
      "needs_background": "light"
     },
     "output_type": "display_data"
    }
   ],
   "source": [
    "sns.catplot(x=\"Sex\", hue=\"Education\", kind=\"count\",\n",
    "            palette=\"pastel\", edgecolor=\".6\",\n",
    "            data=df_people, height=6)"
   ]
  },
  {
   "cell_type": "code",
   "execution_count": 30,
   "metadata": {
    "scrolled": true
   },
   "outputs": [
    {
     "data": {
      "text/plain": [
       "<Figure size 1008x1008 with 0 Axes>"
      ]
     },
     "metadata": {},
     "output_type": "display_data"
    },
    {
     "data": {
      "image/png": "[encoded data removed]",
      "text/plain": [
       "<Figure size 432x288 with 3 Axes>"
      ]
     },
     "metadata": {
      "needs_background": "light"
     },
     "output_type": "display_data"
    }
   ],
   "source": [
    "props = {}\n",
    "props['1'] = {'color': 'orange'}\n",
    "props['2'] = {'color': 'limegreen'}\n",
    "\n",
    "plt.figure(figsize=(14,14))\n",
    "mosaic(df_people, ['Sex', 'Education'], title='Education in men and women', properties=props)\n",
    "#mosaic(people, ['Sex', 'Education'])\n",
    "plt.show()"
   ]
  },
  {
   "cell_type": "markdown",
   "metadata": {},
   "source": [
    "## 6. Activity"
   ]
  },
  {
   "cell_type": "code",
   "execution_count": 31,
   "metadata": {},
   "outputs": [
    {
     "data": {
      "text/plain": [
       "Work            36214\n",
       "Student         17514\n",
       "Retired         17076\n",
       "Unempl           6452\n",
       "DomesticWork     4352\n",
       "Work_Study       1730\n",
       "Other            1040\n",
       "FamilyCare        390\n",
       "Unempl_1          296\n",
       "Name: Activity, dtype: int64"
      ]
     },
     "execution_count": 31,
     "metadata": {},
     "output_type": "execute_result"
    }
   ],
   "source": [
    "conditions = [\n",
    "    df_people['C8ACTIV'] == 1,\n",
    "    df_people['C8ACTIV'] == 2, \n",
    "    df_people['C8ACTIV'] == 3, \n",
    "    df_people['C8ACTIV'] == 4, \n",
    "    df_people['C8ACTIV'] == 5, \n",
    "    df_people['C8ACTIV'] == 6, \n",
    "    df_people['C8ACTIV'] == 7,\n",
    "    df_people['C8ACTIV'] == 8,\n",
    "    df_people['C8ACTIV'] == 9,\n",
    "]\n",
    "\n",
    "outputs = [\n",
    "    'Work', 'Work_Study', 'Retired', 'Unempl', 'Unempl_1', 'Student', 'FamilyCare', \n",
    "    'DomesticWork', 'Other'\n",
    "]\n",
    "\n",
    "df_people['Activity'] = np.select(conditions, outputs) \n",
    "\n",
    "df_people['Activity'].value_counts()"
   ]
  },
  {
   "cell_type": "code",
   "execution_count": 32,
   "metadata": {},
   "outputs": [
    {
     "data": {
      "text/html": [
       "<div>\n",
       "<style scoped>\n",
       "    .dataframe tbody tr th:only-of-type {\n",
       "        vertical-align: middle;\n",
       "    }\n",
       "\n",
       "    .dataframe tbody tr th {\n",
       "        vertical-align: top;\n",
       "    }\n",
       "\n",
       "    .dataframe thead th {\n",
       "        text-align: right;\n",
       "    }\n",
       "</style>\n",
       "<table border=\"1\" class=\"dataframe\">\n",
       "  <thead>\n",
       "    <tr style=\"text-align: right;\">\n",
       "      <th>Activity</th>\n",
       "      <th>DomesticWork</th>\n",
       "      <th>FamilyCare</th>\n",
       "      <th>Other</th>\n",
       "      <th>Retired</th>\n",
       "      <th>Student</th>\n",
       "      <th>Unempl</th>\n",
       "      <th>Unempl_1</th>\n",
       "      <th>Work</th>\n",
       "      <th>Work_Study</th>\n",
       "    </tr>\n",
       "    <tr>\n",
       "      <th>Sex</th>\n",
       "      <th></th>\n",
       "      <th></th>\n",
       "      <th></th>\n",
       "      <th></th>\n",
       "      <th></th>\n",
       "      <th></th>\n",
       "      <th></th>\n",
       "      <th></th>\n",
       "      <th></th>\n",
       "    </tr>\n",
       "  </thead>\n",
       "  <tbody>\n",
       "    <tr>\n",
       "      <th>Female</th>\n",
       "      <td>0.093627</td>\n",
       "      <td>0.008077</td>\n",
       "      <td>0.015156</td>\n",
       "      <td>0.188622</td>\n",
       "      <td>0.172055</td>\n",
       "      <td>0.089458</td>\n",
       "      <td>0.003561</td>\n",
       "      <td>0.407513</td>\n",
       "      <td>0.021930</td>\n",
       "    </tr>\n",
       "    <tr>\n",
       "      <th>Male</th>\n",
       "      <td>0.001025</td>\n",
       "      <td>0.000461</td>\n",
       "      <td>0.008767</td>\n",
       "      <td>0.215053</td>\n",
       "      <td>0.245841</td>\n",
       "      <td>0.059781</td>\n",
       "      <td>0.003384</td>\n",
       "      <td>0.447230</td>\n",
       "      <td>0.018457</td>\n",
       "    </tr>\n",
       "    <tr>\n",
       "      <th>All</th>\n",
       "      <td>0.051161</td>\n",
       "      <td>0.004585</td>\n",
       "      <td>0.012226</td>\n",
       "      <td>0.200743</td>\n",
       "      <td>0.205892</td>\n",
       "      <td>0.075849</td>\n",
       "      <td>0.003480</td>\n",
       "      <td>0.425727</td>\n",
       "      <td>0.020338</td>\n",
       "    </tr>\n",
       "  </tbody>\n",
       "</table>\n",
       "</div>"
      ],
      "text/plain": [
       "Activity  DomesticWork  FamilyCare     Other   Retired   Student    Unempl  \\\n",
       "Sex                                                                          \n",
       "Female        0.093627    0.008077  0.015156  0.188622  0.172055  0.089458   \n",
       "Male          0.001025    0.000461  0.008767  0.215053  0.245841  0.059781   \n",
       "All           0.051161    0.004585  0.012226  0.200743  0.205892  0.075849   \n",
       "\n",
       "Activity  Unempl_1      Work  Work_Study  \n",
       "Sex                                       \n",
       "Female    0.003561  0.407513    0.021930  \n",
       "Male      0.003384  0.447230    0.018457  \n",
       "All       0.003480  0.425727    0.020338  "
      ]
     },
     "execution_count": 32,
     "metadata": {},
     "output_type": "execute_result"
    }
   ],
   "source": [
    "pd.crosstab(df_people['Sex'], df_people['Activity'], margins=True, normalize='index')"
   ]
  },
  {
   "cell_type": "code",
   "execution_count": 34,
   "metadata": {},
   "outputs": [
    {
     "data": {
      "text/plain": [
       "<seaborn.axisgrid.FacetGrid at 0x1a37df5ed0>"
      ]
     },
     "execution_count": 34,
     "metadata": {},
     "output_type": "execute_result"
    },
    {
     "data": {
      "image/png": "[encoded data removed]",
      "text/plain": [
       "<Figure size 468.125x360 with 1 Axes>"
      ]
     },
     "metadata": {
      "needs_background": "light"
     },
     "output_type": "display_data"
    }
   ],
   "source": [
    "sns.catplot(x=\"Sex\", hue=\"Activity\", kind=\"count\",\n",
    "            palette=\"pastel\", edgecolor=\".6\",\n",
    "            data=df_people)"
   ]
  },
  {
   "cell_type": "markdown",
   "metadata": {},
   "source": [
    "## 7. Professional Activity: Sector"
   ]
  },
  {
   "cell_type": "code",
   "execution_count": null,
   "metadata": {},
   "outputs": [],
   "source": [
    "conditions = [\n",
    "    df_people['C10SECTOR'] == 1,\n",
    "    df_people['C10SECTOR'] == 2, \n",
    "    df_people['C10SECTOR'] == 3, \n",
    "    df_people['C10SECTOR'] == 4, \n",
    "    df_people['C10SECTOR'] == 5, \n",
    "    df_people['C10SECTOR'] == 6, \n",
    "    df_people['C10SECTOR'] == 7\n",
    "]\n",
    "\n",
    "outputs = [\n",
    "    'Education', 'Health_Social', 'PublicAdmin', 'Other', 'Industry', 'Construction', 'Agriculture'\n",
    "]\n",
    "\n",
    "df_people['Sector'] = np.select(conditions, outputs, 'No') \n",
    "\n",
    "df_people['Sector'].value_counts()"
   ]
  },
  {
   "cell_type": "code",
   "execution_count": null,
   "metadata": {},
   "outputs": [],
   "source": [
    "pd.crosstab(df_people['Sex'], df_people['Sector'], margins=True, normalize='index')"
   ]
  },
  {
   "cell_type": "markdown",
   "metadata": {},
   "source": [
    "## 8. Driver licence\n",
    "\n",
    " * 1 No\n",
    " * 2 Ciclomotor\n",
    " * 3 Moto\n",
    " * 4 Car or more\n",
    " * 5 More than one"
   ]
  },
  {
   "cell_type": "code",
   "execution_count": 35,
   "metadata": {},
   "outputs": [
    {
     "data": {
      "text/plain": [
       "Car           48185\n",
       "No            32297\n",
       "More           4379\n",
       "Moto            152\n",
       "Ciclomotor       51\n",
       "Name: Licence, dtype: int64"
      ]
     },
     "execution_count": 35,
     "metadata": {},
     "output_type": "execute_result"
    }
   ],
   "source": [
    "conditions = [\n",
    "    df_people['C6CARNE'] == 1,\n",
    "    df_people['C6CARNE'] == 2, \n",
    "    df_people['C6CARNE'] == 3, \n",
    "    df_people['C6CARNE'] == 4, \n",
    "    df_people['C6CARNE'] == 5 \n",
    "   ]\n",
    "\n",
    "outputs = [\n",
    "    'No', 'Ciclomotor', 'Moto', 'Car', 'More']\n",
    "\n",
    "df_people['Licence'] = np.select(conditions, outputs) \n",
    "\n",
    "df_people['Licence'].value_counts()"
   ]
  },
  {
   "cell_type": "code",
   "execution_count": 38,
   "metadata": {},
   "outputs": [
    {
     "data": {
      "text/html": [
       "<div>\n",
       "<style scoped>\n",
       "    .dataframe tbody tr th:only-of-type {\n",
       "        vertical-align: middle;\n",
       "    }\n",
       "\n",
       "    .dataframe tbody tr th {\n",
       "        vertical-align: top;\n",
       "    }\n",
       "\n",
       "    .dataframe thead th {\n",
       "        text-align: right;\n",
       "    }\n",
       "</style>\n",
       "<table border=\"1\" class=\"dataframe\">\n",
       "  <thead>\n",
       "    <tr style=\"text-align: right;\">\n",
       "      <th>Licence</th>\n",
       "      <th>Car</th>\n",
       "      <th>Ciclomotor</th>\n",
       "      <th>More</th>\n",
       "      <th>Moto</th>\n",
       "      <th>No</th>\n",
       "    </tr>\n",
       "    <tr>\n",
       "      <th>Sex</th>\n",
       "      <th></th>\n",
       "      <th></th>\n",
       "      <th></th>\n",
       "      <th></th>\n",
       "      <th></th>\n",
       "    </tr>\n",
       "  </thead>\n",
       "  <tbody>\n",
       "    <tr>\n",
       "      <th>Female</th>\n",
       "      <td>0.542873</td>\n",
       "      <td>0.000434</td>\n",
       "      <td>0.016328</td>\n",
       "      <td>0.001346</td>\n",
       "      <td>0.439019</td>\n",
       "    </tr>\n",
       "    <tr>\n",
       "      <th>Male</th>\n",
       "      <td>0.594299</td>\n",
       "      <td>0.000795</td>\n",
       "      <td>0.092979</td>\n",
       "      <td>0.002307</td>\n",
       "      <td>0.309621</td>\n",
       "    </tr>\n",
       "    <tr>\n",
       "      <th>All</th>\n",
       "      <td>0.566456</td>\n",
       "      <td>0.000600</td>\n",
       "      <td>0.051479</td>\n",
       "      <td>0.001787</td>\n",
       "      <td>0.379679</td>\n",
       "    </tr>\n",
       "  </tbody>\n",
       "</table>\n",
       "</div>"
      ],
      "text/plain": [
       "Licence       Car  Ciclomotor      More      Moto        No\n",
       "Sex                                                        \n",
       "Female   0.542873    0.000434  0.016328  0.001346  0.439019\n",
       "Male     0.594299    0.000795  0.092979  0.002307  0.309621\n",
       "All      0.566456    0.000600  0.051479  0.001787  0.379679"
      ]
     },
     "execution_count": 38,
     "metadata": {},
     "output_type": "execute_result"
    }
   ],
   "source": [
    "pd.crosstab(df_people['Sex'], df_people['Licence'], margins=True, normalize='index')"
   ]
  },
  {
   "cell_type": "markdown",
   "metadata": {},
   "source": [
    "## 9. Vehicle characteristics"
   ]
  },
  {
   "cell_type": "code",
   "execution_count": 39,
   "metadata": {},
   "outputs": [
    {
     "data": {
      "text/plain": [
       "0               75701\n",
       "Conventional     9199\n",
       "Hybrid            112\n",
       "Electric           52\n",
       "Name: Vehicle, dtype: int64"
      ]
     },
     "execution_count": 39,
     "metadata": {},
     "output_type": "execute_result"
    }
   ],
   "source": [
    "conditions = [\n",
    "    df_people['V3B12CARB1'] == 1,\n",
    "    df_people['V3B12CARB1'] == 2, \n",
    "    df_people['V3B12CARB1'] == 3 \n",
    "   ]\n",
    "\n",
    "outputs = [\n",
    "    'Hybrid', 'Electric', 'Conventional']\n",
    "\n",
    "df_people['Vehicle'] = np.select(conditions, outputs) \n",
    "\n",
    "df_people['Vehicle'].value_counts()"
   ]
  },
  {
   "cell_type": "code",
   "execution_count": 41,
   "metadata": {},
   "outputs": [
    {
     "data": {
      "text/html": [
       "<div>\n",
       "<style scoped>\n",
       "    .dataframe tbody tr th:only-of-type {\n",
       "        vertical-align: middle;\n",
       "    }\n",
       "\n",
       "    .dataframe tbody tr th {\n",
       "        vertical-align: top;\n",
       "    }\n",
       "\n",
       "    .dataframe thead th {\n",
       "        text-align: right;\n",
       "    }\n",
       "</style>\n",
       "<table border=\"1\" class=\"dataframe\">\n",
       "  <thead>\n",
       "    <tr style=\"text-align: right;\">\n",
       "      <th>Vehicle</th>\n",
       "      <th>Conventional</th>\n",
       "      <th>Electric</th>\n",
       "      <th>Hybrid</th>\n",
       "    </tr>\n",
       "    <tr>\n",
       "      <th>Sex</th>\n",
       "      <th></th>\n",
       "      <th></th>\n",
       "      <th></th>\n",
       "    </tr>\n",
       "  </thead>\n",
       "  <tbody>\n",
       "    <tr>\n",
       "      <th>Female</th>\n",
       "      <td>0.982174</td>\n",
       "      <td>0.005369</td>\n",
       "      <td>0.012457</td>\n",
       "    </tr>\n",
       "    <tr>\n",
       "      <th>Male</th>\n",
       "      <td>0.982792</td>\n",
       "      <td>0.005736</td>\n",
       "      <td>0.011472</td>\n",
       "    </tr>\n",
       "    <tr>\n",
       "      <th>All</th>\n",
       "      <td>0.982484</td>\n",
       "      <td>0.005554</td>\n",
       "      <td>0.011962</td>\n",
       "    </tr>\n",
       "  </tbody>\n",
       "</table>\n",
       "</div>"
      ],
      "text/plain": [
       "Vehicle  Conventional  Electric    Hybrid\n",
       "Sex                                      \n",
       "Female       0.982174  0.005369  0.012457\n",
       "Male         0.982792  0.005736  0.011472\n",
       "All          0.982484  0.005554  0.011962"
      ]
     },
     "execution_count": 41,
     "metadata": {},
     "output_type": "execute_result"
    }
   ],
   "source": [
    "# Considering only the ones having a vehicle\n",
    "pd.crosstab(df_people[df_people.Vehicle != '0'].Sex, df_people[df_people.Vehicle != '0'].Vehicle, margins=True, normalize='index')\n",
    "\n",
    "#V3B12CARB1\n",
    "\n",
    "\n"
   ]
  },
  {
   "cell_type": "code",
   "execution_count": null,
   "metadata": {},
   "outputs": [],
   "source": []
  }
 ],
 "metadata": {
  "kernelspec": {
   "display_name": "Python 3",
   "language": "python",
   "name": "python3"
  },
  "language_info": {
   "codemirror_mode": {
    "name": "ipython",
    "version": 3
   },
   "file_extension": ".py",
   "mimetype": "text/x-python",
   "name": "python",
   "nbconvert_exporter": "python",
   "pygments_lexer": "ipython3",
   "version": "3.7.7"
  }
 },
 "nbformat": 4,
 "nbformat_minor": 4
}
