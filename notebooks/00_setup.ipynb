{
 "cells": [
  {
   "cell_type": "code",
   "execution_count": 1,
   "metadata": {},
   "outputs": [],
   "source": [
    "import pandas as pd\n",
    "import numpy as np\n",
    "import geopandas as gpd\n",
    "from datetime import time\n",
    "%matplotlib inline"
   ]
  },
  {
   "cell_type": "markdown",
   "metadata": {},
   "source": [
    "### Join dataset"
   ]
  },
  {
   "cell_type": "markdown",
   "metadata": {},
   "source": [
    "#### Download\n",
    "\n",
    "Download all four datasets from here: https://crtm.maps.arcgis.com/apps/MinimalGallery/index.html?appid=a60bb2f0142b440eadee1a69a11693fc\n",
    "and store in *data\\raw\\*"
   ]
  },
  {
   "cell_type": "markdown",
   "metadata": {},
   "source": [
    "**Data**"
   ]
  },
  {
   "cell_type": "code",
   "execution_count": 2,
   "metadata": {},
   "outputs": [],
   "source": [
    "ind = pd.read_excel (r'..\\data\\raw\\EDM2018INDIVIDUOS.xlsx')\n",
    "hog = pd.read_excel (r'..\\data\\raw\\EDM2018HOGARES.xlsx')\n",
    "via = pd.read_excel (r'..\\data\\raw\\EDM2018VIAJES.xlsx', dtype = {'VORIHORAINI':str, 'VDESHORAFIN':str})\n",
    "etap = pd.read_excel (r'..\\data\\raw\\EDM2018XETAPAS.xlsx')\n",
    "\n",
    "via.set_index([\"ID_HOGAR\", \"ID_IND\", \"ID_VIAJE\"], inplace = True)\n",
    "ind.set_index([\"ID_HOGAR\", \"ID_IND\"], inplace = True)\n",
    "hog.set_index(\"ID_HOGAR\", inplace = True)\n",
    "etap.set_index([\"ID_HOGAR\", \"ID_IND\", \"ID_VIAJE\"], inplace =True)"
   ]
  },
  {
   "cell_type": "code",
   "execution_count": 3,
   "metadata": {},
   "outputs": [],
   "source": [
    "people = hog.join(ind, lsuffix = \"_hog\", rsuffix = \"_ind\")\n",
    "trips = people.join(via, rsuffix = \"_via\")\n",
    "legs = trips.join(etap, rsuffix = \"_etap\")\n",
    "\n",
    "people.to_csv(r'..\\data\\interim\\people.csv',  index = False)\n",
    "trips.to_csv(r'..\\data\\interim\\trips.csv',  index = False)\n",
    "legs.to_csv(r'..\\data\\interim\\legs.csv',  index = False)"
   ]
  },
  {
   "cell_type": "markdown",
   "metadata": {},
   "source": [
    "**Codes**"
   ]
  },
  {
   "cell_type": "code",
   "execution_count": null,
   "metadata": {},
   "outputs": [],
   "source": [
    "codes_hog = pd.read_excel (r'..\\data\\raw\\EDM2018HOGARES.xlsx', sheet_name = 1)\n",
    "codes_ind = pd.read_excel (r'..\\data\\raw\\EDM2018INDIVIDUOS.xlsx', sheet_name = 1)\n",
    "codes_via = pd.read_excel (r'..\\data\\raw\\EDM2018VIAJES.xlsx', sheet_name = 1)\n",
    "codes_eta = pd.read_excel (r'..\\data\\raw\\EDM2018XETAPAS.xlsx', sheet_name = 1)\n",
    "\n",
    "codes = codes_hog.append(codes_ind, ignore_index = True, sort = False\n",
    "                        ).append(codes_via, ignore_index = True, sort = False\n",
    "                                ).append(codes_eta, ignore_index = True, sort = False\n",
    "                                        ).drop(columns = [\"Unnamed: 0\", \"Unnamed: 1\"])\n",
    "\n",
    "codes[\"VARIABLE\"] = codes.VARIABLE.fillna(method = \"ffill\")\n",
    "codes[\"ESPECIFICACIÓN\"] = codes[\"ESPECIFICACIÓN\"].fillna(method = \"ffill\")\n",
    "\n",
    "codes['CODE'], codes['VALUE'] = codes['VALORES'].str.split(\".\", 1).str\n",
    "codes['CODE'], unused = codes.CODE.str.split(\" '\", 1).str\n",
    "\n",
    "codes.drop(index = codes[codes.VARIABLE.isna()].index, inplace = True)\n",
    "\n",
    "codes.to_csv(r'..\\data\\interim\\codes.csv', index = False)"
   ]
  },
  {
   "cell_type": "markdown",
   "metadata": {},
   "source": [
    "translated codes not programmatically, but manually via google Sheets.\n",
    "\n",
    "- Translation is stored in data\\processed\\codes_translated.csv"
   ]
  },
  {
   "cell_type": "markdown",
   "metadata": {},
   "source": [
    "### create new variables"
   ]
  },
  {
   "cell_type": "code",
   "execution_count": null,
   "metadata": {},
   "outputs": [],
   "source": [
    "# trips = pd.read_csv(r'..\\data\\interim\\trips.csv', dtype = {'VORIHORAINI':str, 'VDESHORAFIN':str})"
   ]
  },
  {
   "cell_type": "code",
   "execution_count": 5,
   "metadata": {},
   "outputs": [],
   "source": [
    "codes = pd.read_csv(r'..\\data\\processed\\codes_translated.csv', dtype = {'CODE': float})"
   ]
  },
  {
   "cell_type": "code",
   "execution_count": 6,
   "metadata": {},
   "outputs": [],
   "source": [
    "# set value of sex\n",
    "code_sex = codes[codes.VARIABLE == \"C2SEXO\"][['CODE', 'VALUE_en']].rename({'VALUE_en': 'sex'}, axis = 1)\n",
    "trips = trips.join(code_sex.set_index('CODE'), on = \"C2SEXO\")"
   ]
  },
  {
   "cell_type": "code",
   "execution_count": 7,
   "metadata": {},
   "outputs": [],
   "source": [
    "# duration\n",
    "mins = pd.to_numeric(trips.VDESHORAFIN.str.slice(2)) - pd.to_numeric(trips.VORIHORAINI.str.slice(2))\n",
    "hours = (pd.to_numeric(trips.VDESHORAFIN.str.slice(0, 2)) - pd.to_numeric(trips.VORIHORAINI.str.slice(0, 2))) * 60\n",
    "trips[\"duration\"] = mins + hours"
   ]
  },
  {
   "cell_type": "code",
   "execution_count": 8,
   "metadata": {},
   "outputs": [],
   "source": [
    "# start- and endtime, duration and speed.dt.time\n",
    "trips['start_time'] = pd.to_datetime(trips.VORIHORAINI, format = '%H%M').dt.time\n",
    "\n",
    "# TODO: programmatic solution for all times > 24h\n",
    "trips.loc[trips.VDESHORAFIN == '2500', 'VDESHORAFIN'] = '0100'\n",
    "trips.loc[trips.VDESHORAFIN == '2505', 'VDESHORAFIN'] = '0105'\n",
    "trips.loc[trips.VDESHORAFIN == '2515', 'VDESHORAFIN'] = '0115'\n",
    "trips.loc[trips.VDESHORAFIN == '2530', 'VDESHORAFIN'] = '0130'\n",
    "trips.loc[trips.VDESHORAFIN == '2600', 'VDESHORAFIN'] = '0200'\n",
    "trips.loc[trips.VDESHORAFIN == '2800', 'VDESHORAFIN'] = '0400'\n",
    "\n",
    "trips['end_time'] = pd.to_datetime(trips.VDESHORAFIN, format = '%H%M', errors = 'coerce').dt.time"
   ]
  },
  {
   "cell_type": "code",
   "execution_count": 9,
   "metadata": {},
   "outputs": [],
   "source": [
    "# speed\n",
    "trips[\"speed\"] = np.where(trips.duration != 0, # skip if start and Endtime is the same\n",
    "                       trips.DISTANCIA_VIAJE / (trips.duration / 60), np.NaN)"
   ]
  },
  {
   "cell_type": "code",
   "execution_count": 10,
   "metadata": {},
   "outputs": [],
   "source": [
    "# trip mode\n",
    "code_mode = codes[codes['VARIABLE'] == 'MODO_PRIORITARIO'][['CODE', 'VALUE_en']].drop_duplicates()\n",
    "trips = trips.join(code_mode.set_index('CODE'),  on = 'MODO_PRIORITARIO', how = \"left\").reset_index()\n",
    "trips.rename({\"VALUE_en\": \"mode\"}, axis = \"columns\", inplace = True)\n",
    "\n",
    "# simplify mode\n",
    "trips[\"mode_simple\"] = trips.MODO_PRIORITARIO\n",
    "trips.loc[trips.MODO_PRIORITARIO < 10, \"mode_simple\"] = \"public transport\"\n",
    "trips.loc[(trips.MODO_PRIORITARIO > 9) & (trips.MODO_PRIORITARIO < 17), \"mode_simple\"] = \"car\"\n",
    "trips.loc[(trips.MODO_PRIORITARIO > 16) & (trips.MODO_PRIORITARIO < 24), \"mode_simple\"] = \"other\"\n",
    "trips.loc[trips.MODO_PRIORITARIO == 24, \"mode_simple\"] = \"walk\""
   ]
  },
  {
   "cell_type": "code",
   "execution_count": 11,
   "metadata": {},
   "outputs": [],
   "source": [
    "# trip motive\n",
    "code_motive = codes[codes['VARIABLE'] == 'MOTIVO_PRIORITARIO'][['CODE', 'VALUE_en']]\n",
    "trips = trips.join(code_motive.set_index('CODE'),  on = 'MOTIVO_PRIORITARIO').reset_index()\n",
    "trips.rename({\"VALUE_en\": \"motive\"}, axis = \"columns\", inplace = True)\n",
    "\n",
    "# simplify motive\n",
    "trips.loc[:,\"motive_simple\"] = trips.motive\n",
    "trips.loc[(trips.MOTIVO_PRIORITARIO == 2) | (trips.MOTIVO_PRIORITARIO == 3), \"motive_simple\"] = \"work\"\n",
    "trips.loc[(trips.MOTIVO_PRIORITARIO >= 5) & (trips.MOTIVO_PRIORITARIO <= 7), \"motive_simple\"] = \"care\"\n",
    "trips.loc[(trips.MOTIVO_PRIORITARIO >= 8) & (trips.MOTIVO_PRIORITARIO <= 10), \"motive_simple\"] = \"leisure / sports\"\n",
    "trips.loc[(trips.MOTIVO_PRIORITARIO == 1) | (trips.MOTIVO_PRIORITARIO == 11) | (trips.MOTIVO_PRIORITARIO == 12), \"motive_simple\"] = \"other\""
   ]
  },
  {
   "cell_type": "code",
   "execution_count": 12,
   "metadata": {},
   "outputs": [],
   "source": [
    "# daytime: rush hour, off-peak, low traffic\n",
    "conditions = [\n",
    "    ((trips.start_time >= time(7)) & (trips.start_time < time(9))) | ((trips.start_time >= time(17)) & (trips.start_time < time(20))),\n",
    "     (trips.start_time >= time(9)) & (trips.start_time < time(17)),\n",
    "     (trips.start_time >= time(20)) | (trips.start_time < time(7))\n",
    "]\n",
    "choices = ['rush hour (HVZ)', 'off-peak hour (NVZ)', 'low traffic time (SVZ)']\n",
    "trips['daytime'] = np.select(conditions, choices, default= None)"
   ]
  },
  {
   "cell_type": "code",
   "execution_count": 13,
   "metadata": {},
   "outputs": [],
   "source": [
    "# main activity\n",
    "code_activity = codes[codes['VARIABLE'] == 'C8ACTIV'][['CODE', 'VALUE_en']]\n",
    "\n",
    "trips = trips.join(code_activity.set_index('CODE'), on = 'C8ACTIV')\n",
    "\n",
    "trips.rename({\"VALUE_en\": \"activity\"}, axis = \"columns\", inplace = True)\n",
    "\n",
    "# simplify activity split\n",
    "trips[\"activity_simple\"] = trips.activity\n",
    "trips.loc[trips.C8ACTIV <= 2, \"activity_simple\"] = \"working\"\n",
    "trips.loc[(trips.C8ACTIV >= 3) & (trips.C8ACTIV <= 5), \"activity_simple\"] = \"not working\"\n",
    "trips.loc[trips.C8ACTIV >= 7, \"activity_simple\"] = \"domestic and care work\""
   ]
  },
  {
   "cell_type": "code",
   "execution_count": 14,
   "metadata": {},
   "outputs": [],
   "source": [
    "# remove implausible data\n",
    "trips.loc[trips.speed > 150, \"speed\"] = None"
   ]
  },
  {
   "cell_type": "code",
   "execution_count": 15,
   "metadata": {},
   "outputs": [],
   "source": [
    "# create variable for rounded age\n",
    "trips[\"rounded_age\"] = 5 * (trips.EDAD_FIN / 5).round()"
   ]
  },
  {
   "cell_type": "code",
   "execution_count": 16,
   "metadata": {},
   "outputs": [],
   "source": [
    "# age group\n",
    "conditions = [\n",
    "    trips.EDAD_FIN <= 18,\n",
    "    (trips.EDAD_FIN > 18) & (trips.EDAD_FIN <= 25),\n",
    "    (trips.EDAD_FIN > 25) & (trips.EDAD_FIN <= 55),\n",
    "    trips.EDAD_FIN > 55]\n",
    "choices = ['kids', 'young adults', 'adults', 'seniors']\n",
    "trips['age_group'] = np.select(conditions, choices, default= None)"
   ]
  },
  {
   "cell_type": "code",
   "execution_count": 18,
   "metadata": {},
   "outputs": [],
   "source": [
    "trips.drop([\"index\"], axis = 1, inplace = True)"
   ]
  },
  {
   "cell_type": "code",
   "execution_count": 19,
   "metadata": {},
   "outputs": [],
   "source": [
    "trips.to_csv(r'..\\data\\processed\\trips_custom_variables.csv', index = False)"
   ]
  },
  {
   "cell_type": "code",
   "execution_count": 20,
   "metadata": {},
   "outputs": [
    {
     "data": {
      "text/plain": [
       "(232600, 82)"
      ]
     },
     "execution_count": 20,
     "metadata": {},
     "output_type": "execute_result"
    }
   ],
   "source": [
    "trips.shape"
   ]
  },
  {
   "cell_type": "code",
   "execution_count": null,
   "metadata": {},
   "outputs": [],
   "source": []
  }
 ],
 "metadata": {
  "kernelspec": {
   "display_name": "genmob_kernel",
   "language": "python",
   "name": "genmob_kernel"
  },
  "language_info": {
   "codemirror_mode": {
    "name": "ipython",
    "version": 3
   },
   "file_extension": ".py",
   "mimetype": "text/x-python",
   "name": "python",
   "nbconvert_exporter": "python",
   "pygments_lexer": "ipython3",
   "version": "3.8.5"
  }
 },
 "nbformat": 4,
 "nbformat_minor": 4
}
