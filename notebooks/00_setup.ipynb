{
 "cells": [
  {
   "cell_type": "code",
   "execution_count": 1,
   "metadata": {},
   "outputs": [],
   "source": [
    "import pandas as pd\n",
    "import numpy as np\n",
    "import geopandas as gpd\n",
    "%matplotlib inline"
   ]
  },
  {
   "cell_type": "markdown",
   "metadata": {},
   "source": [
    "### Join dataset"
   ]
  },
  {
   "cell_type": "markdown",
   "metadata": {},
   "source": [
    "#### Download\n",
    "\n",
    "Download all four datasets from here: https://crtm.maps.arcgis.com/apps/MinimalGallery/index.html?appid=a60bb2f0142b440eadee1a69a11693fc\n",
    "and store in *data\\raw\\*"
   ]
  },
  {
   "cell_type": "markdown",
   "metadata": {},
   "source": [
    "**Data**"
   ]
  },
  {
   "cell_type": "code",
   "execution_count": 4,
   "metadata": {},
   "outputs": [],
   "source": [
    "ind = pd.read_excel (r'..\\data\\raw\\EDM2018INDIVIDUOS.xlsx')\n",
    "hog = pd.read_excel (r'..\\data\\raw\\EDM2018HOGARES.xlsx')\n",
    "via = pd.read_excel (r'..\\data\\raw\\EDM2018VIAJES.xlsx', dtype = {'VORIHORAINI':str, 'VDESHORAFIN':str})\n",
    "etap = pd.read_excel (r'..\\data\\raw\\EDM2018XETAPAS.xlsx')\n",
    "\n",
    "via.set_index([\"ID_HOGAR\", \"ID_IND\", \"ID_VIAJE\"], inplace = True)\n",
    "ind.set_index([\"ID_HOGAR\", \"ID_IND\"], inplace = True)\n",
    "hog.set_index(\"ID_HOGAR\", inplace = True)\n",
    "etap.set_index([\"ID_HOGAR\", \"ID_IND\", \"ID_VIAJE\"], inplace =True)"
   ]
  },
  {
   "cell_type": "code",
   "execution_count": 5,
   "metadata": {},
   "outputs": [],
   "source": [
    "people = hog.join(ind, lsuffix = \"_hog\", rsuffix = \"_ind\")\n",
    "trips = people.join(via, rsuffix = \"_via\")\n",
    "legs = trips.join(etap, rsuffix = \"_etap\")\n",
    "\n",
    "people.to_csv(r'..\\data\\interim\\people.csv')\n",
    "trips.to_csv(r'..\\data\\interim\\trips.csv')\n",
    "legs.to_csv(r'..\\data\\interim\\legs.csv')"
   ]
  },
  {
   "cell_type": "markdown",
   "metadata": {},
   "source": [
    "**Codes**"
   ]
  },
  {
   "cell_type": "code",
   "execution_count": 7,
   "metadata": {},
   "outputs": [
    {
     "name": "stderr",
     "output_type": "stream",
     "text": [
      "<ipython-input-7-d8297db5a64f>:14: FutureWarning: Columnar iteration over characters will be deprecated in future releases.\n",
      "  codes['CODE'], codes['VALUE'] = codes['VALORES'].str.split(\".\", 1).str\n",
      "<ipython-input-7-d8297db5a64f>:15: FutureWarning: Columnar iteration over characters will be deprecated in future releases.\n",
      "  codes['CODE'], unused = codes.CODE.str.split(\" '\", 1).str\n"
     ]
    }
   ],
   "source": [
    "codes_hog = pd.read_excel (r'..\\data\\raw\\EDM2018HOGARES.xlsx', sheet_name = 1)\n",
    "codes_ind = pd.read_excel (r'..\\data\\raw\\EDM2018INDIVIDUOS.xlsx', sheet_name = 1)\n",
    "codes_via = pd.read_excel (r'..\\data\\raw\\EDM2018VIAJES.xlsx', sheet_name = 1)\n",
    "codes_eta = pd.read_excel (r'..\\data\\raw\\EDM2018XETAPAS.xlsx', sheet_name = 1)\n",
    "\n",
    "codes = codes_hog.append(codes_ind, ignore_index = True, sort = False\n",
    "                        ).append(codes_via, ignore_index = True, sort = False\n",
    "                                ).append(codes_eta, ignore_index = True, sort = False\n",
    "                                        ).drop(columns = [\"Unnamed: 0\", \"Unnamed: 1\"])\n",
    "\n",
    "codes[\"VARIABLE\"] = codes.VARIABLE.fillna(method = \"ffill\")\n",
    "codes[\"ESPECIFICACIÓN\"] = codes[\"ESPECIFICACIÓN\"].fillna(method = \"ffill\")\n",
    "\n",
    "codes['CODE'], codes['VALUE'] = codes['VALORES'].str.split(\".\", 1).str\n",
    "codes['CODE'], unused = codes.CODE.str.split(\" '\", 1).str\n",
    "\n",
    "codes.drop(index = codes[codes.VARIABLE.isna()].index, inplace = True)\n",
    "\n",
    "codes.to_csv(r'..\\data\\interim\\codes.csv', index = False)"
   ]
  },
  {
   "cell_type": "markdown",
   "metadata": {},
   "source": [
    "translated codes not programmatically, but manually via google Sheets.\n",
    "\n",
    "- Translation is stored in data\\processed\\codes_translated.csv"
   ]
  },
  {
   "cell_type": "code",
   "execution_count": null,
   "metadata": {},
   "outputs": [],
   "source": []
  }
 ],
 "metadata": {
  "kernelspec": {
   "display_name": "genmob_kernel",
   "language": "python",
   "name": "genmob_kernel"
  },
  "language_info": {
   "codemirror_mode": {
    "name": "ipython",
    "version": 3
   },
   "file_extension": ".py",
   "mimetype": "text/x-python",
   "name": "python",
   "nbconvert_exporter": "python",
   "pygments_lexer": "ipython3",
   "version": "3.8.3"
  }
 },
 "nbformat": 4,
 "nbformat_minor": 4
}
