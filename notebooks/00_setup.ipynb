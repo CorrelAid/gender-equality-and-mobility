{
 "cells": [
  {
   "cell_type": "code",
   "execution_count": 1,
   "metadata": {},
   "outputs": [],
   "source": [
    "import os\n",
    "import requests\n",
    "import pandas as pd\n",
    "import numpy as np\n",
    "import geopandas as gpd\n",
    "%matplotlib inline"
   ]
  },
  {
   "cell_type": "markdown",
   "metadata": {},
   "source": [
    "#### Download\n",
    "\n",
    "Download all four datasets from here: https://crtm.maps.arcgis.com/apps/MinimalGallery/index.html?appid=a60bb2f0142b440eadee1a69a11693fc\n",
    "and store in *data\\raw\\*"
   ]
  },
  {
   "cell_type": "code",
   "execution_count": 2,
   "metadata": {},
   "outputs": [
    {
     "name": "stdout",
     "output_type": "stream",
     "text": [
      "Current working directory: /Users/cassini/Documents/GitHub/gender-equality-and-mobility/notebooks\n",
      "Folder ../data/raw already exists.\n",
      "Folder ../data/interim already exists.\n",
      "Folder ../data/processed already exists.\n",
      "\"../data/raw\" folder contains:\n"
     ]
    },
    {
     "data": {
      "text/plain": [
       "['EDM2018VIAJES.xlsx',\n",
       " 'EDM2018XETAPAS.xlsx',\n",
       " 'EDM2018HOGARES.xlsx',\n",
       " 'EDM2018INDIVIDUOS.xlsx']"
      ]
     },
     "execution_count": 2,
     "metadata": {},
     "output_type": "execute_result"
    }
   ],
   "source": [
    "# working directory\n",
    "path = os.getcwd()\n",
    "print(\"Current working directory:\", path)\n",
    "\n",
    "# create sub-folders in 'data' folder\n",
    "for x in ['raw', 'interim', 'processed']:\n",
    "    temp = os.path.join('../data/', x)\n",
    "    try:\n",
    "        os.mkdir(temp)\n",
    "    except:\n",
    "        print('Folder', temp, 'already exists.')\n",
    "    \n",
    "# download and save raw datasets\n",
    "    # HOGARES\n",
    "url = 'https://crtm.maps.arcgis.com/sharing/rest/content/items/d9e8c48ae6a1474faa34083239007307/data'\n",
    "r = requests.get(url, allow_redirects=True)\n",
    "output = open('../data/raw/EDM2018HOGARES.xlsx', 'wb')\n",
    "output.write(r.content)\n",
    "output.close()\n",
    "\n",
    "    # INDIVIDUOS\n",
    "url = 'https://crtm.maps.arcgis.com/sharing/rest/content/items/07dad41b543641d3964a68851fc9ad11/data'\n",
    "r = requests.get(url, allow_redirects=True)\n",
    "output = open('../data/raw/EDM2018INDIVIDUOS.xlsx', 'wb')\n",
    "output.write(r.content)\n",
    "output.close()\n",
    "\n",
    "    # VIAJES\n",
    "url = 'https://crtm.maps.arcgis.com/sharing/rest/content/items/6afd4db8175d4902ada0803f08ccf50e/data'\n",
    "r = requests.get(url, allow_redirects=True)\n",
    "output = open('../data/raw/EDM2018VIAJES.xlsx', 'wb')\n",
    "output.write(r.content)\n",
    "output.close()\n",
    "\n",
    "    # XETAPAS\n",
    "url = 'https://crtm.maps.arcgis.com/sharing/rest/content/items/81919e30e674422d93203a3190eafcdc/data'\n",
    "r = requests.get(url, allow_redirects=True)\n",
    "output = open('../data/raw/EDM2018XETAPAS.xlsx', 'wb')\n",
    "output.write(r.content)\n",
    "output.close()\n",
    "\n",
    "# display content of 'raw' folder\n",
    "print('\\n\"../data/raw\" folder contains:')\n",
    "print(os.listdir('../data/raw'))\n"
   ]
  },
  {
   "cell_type": "markdown",
   "metadata": {},
   "source": [
    "**Data**"
   ]
  },
  {
   "cell_type": "markdown",
   "metadata": {},
   "source": [
    "### Join dataset"
   ]
  },
  {
   "cell_type": "code",
   "execution_count": 3,
   "metadata": {},
   "outputs": [],
   "source": [
    "ind = pd.read_excel('../data/raw/EDM2018INDIVIDUOS.xlsx')\n",
    "hog = pd.read_excel('../data/raw/EDM2018HOGARES.xlsx')\n",
    "via = pd.read_excel('../data/raw/EDM2018VIAJES.xlsx', dtype = {'VORIHORAINI':str, 'VDESHORAFIN':str})\n",
    "etap = pd.read_excel('../data/raw/EDM2018XETAPAS.xlsx')\n",
    "\n",
    "via.set_index([\"ID_HOGAR\", \"ID_IND\", \"ID_VIAJE\"], inplace = True)\n",
    "ind.set_index([\"ID_HOGAR\", \"ID_IND\"], inplace = True)\n",
    "hog.set_index(\"ID_HOGAR\", inplace = True)\n",
    "etap.set_index([\"ID_HOGAR\", \"ID_IND\", \"ID_VIAJE\"], inplace =True)"
   ]
  },
  {
   "cell_type": "code",
   "execution_count": 4,
   "metadata": {},
   "outputs": [],
   "source": [
    "people = hog.join(ind, lsuffix = \"_hog\", rsuffix = \"_ind\")\n",
    "trips = people.join(via, rsuffix = \"_via\")\n",
    "legs = trips.join(etap, rsuffix = \"_etap\")\n",
    "\n",
    "people.to_csv('../data/interim/people.csv')\n",
    "trips.to_csv('../data/interim/trips.csv')\n",
    "legs.to_csv('../data/interim/legs.csv')"
   ]
  },
  {
   "cell_type": "markdown",
   "metadata": {},
   "source": [
    "**Codes**"
   ]
  },
  {
   "cell_type": "code",
   "execution_count": 5,
   "metadata": {},
   "outputs": [
    {
     "name": "stderr",
     "output_type": "stream",
     "text": [
      "<ipython-input-5-4305d4f7a61f>:14: FutureWarning: Columnar iteration over characters will be deprecated in future releases.\n",
      "  codes['CODE'], codes['VALUE'] = codes['VALORES'].str.split(\".\", 1).str\n",
      "<ipython-input-5-4305d4f7a61f>:15: FutureWarning: Columnar iteration over characters will be deprecated in future releases.\n",
      "  codes['CODE'], unused = codes.CODE.str.split(\" '\", 1).str\n"
     ]
    }
   ],
   "source": [
    "codes_hog = pd.read_excel ('../data/raw/EDM2018HOGARES.xlsx', sheet_name = 1)\n",
    "codes_ind = pd.read_excel ('../data/raw/EDM2018INDIVIDUOS.xlsx', sheet_name = 1)\n",
    "codes_via = pd.read_excel ('../data/raw/EDM2018VIAJES.xlsx', sheet_name = 1)\n",
    "codes_eta = pd.read_excel ('../data/raw/EDM2018XETAPAS.xlsx', sheet_name = 1)\n",
    "\n",
    "codes = codes_hog.append(codes_ind, ignore_index = True, sort = False\n",
    "                        ).append(codes_via, ignore_index = True, sort = False\n",
    "                                ).append(codes_eta, ignore_index = True, sort = False\n",
    "                                        ).drop(columns = [\"Unnamed: 0\", \"Unnamed: 1\"])\n",
    "\n",
    "codes[\"VARIABLE\"] = codes.VARIABLE.fillna(method = \"ffill\")\n",
    "codes[\"ESPECIFICACIÓN\"] = codes[\"ESPECIFICACIÓN\"].fillna(method = \"ffill\")\n",
    "\n",
    "codes['CODE'], codes['VALUE'] = codes['VALORES'].str.split(\".\", 1).str\n",
    "codes['CODE'], unused = codes.CODE.str.split(\" '\", 1).str\n",
    "\n",
    "codes.drop(index = codes[codes.VARIABLE.isna()].index, inplace = True)\n",
    "\n",
    "codes.to_csv('../data/interim/codes.csv', index = False)"
   ]
  },
  {
   "cell_type": "markdown",
   "metadata": {},
   "source": [
    "translated codes not programmatically, but manually via google Sheets.\n",
    "\n",
    "- Translation is stored in data\\processed\\codes_translated.csv"
   ]
  },
  {
   "cell_type": "code",
   "execution_count": null,
   "metadata": {},
   "outputs": [],
   "source": []
  }
 ],
 "metadata": {
  "kernelspec": {
   "display_name": "Python 3",
   "language": "python",
   "name": "python3"
  },
  "language_info": {
   "codemirror_mode": {
    "name": "ipython",
    "version": 3
   },
   "file_extension": ".py",
   "mimetype": "text/x-python",
   "name": "python",
   "nbconvert_exporter": "python",
   "pygments_lexer": "ipython3",
   "version": "3.8.3"
  }
 },
 "nbformat": 4,
 "nbformat_minor": 4
}
