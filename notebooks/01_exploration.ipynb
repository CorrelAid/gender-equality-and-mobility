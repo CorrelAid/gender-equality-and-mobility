{
 "cells": [
  {
   "cell_type": "code",
   "execution_count": 36,
   "metadata": {},
   "outputs": [],
   "source": [
    "import pandas as pd\n",
    "import numpy as np\n",
    "%matplotlib inline"
   ]
  },
  {
   "cell_type": "code",
   "execution_count": 37,
   "metadata": {},
   "outputs": [],
   "source": [
    " pd.set_option('display.max_rows', 20)"
   ]
  },
  {
   "cell_type": "markdown",
   "metadata": {},
   "source": [
    "## Analysis\n"
   ]
  },
  {
   "cell_type": "code",
   "execution_count": 38,
   "metadata": {},
   "outputs": [],
   "source": [
    "df_all = pd.read_csv(r'..\\data\\interim\\legs.csv', dtype = {'VORIHORAINI':str, 'VDESHORAFIN':str})\n",
    "codes = pd.read_csv(r'..\\data\\processed\\codes_translated.csv', dtype = {'CODE': float})"
   ]
  },
  {
   "cell_type": "markdown",
   "metadata": {},
   "source": [
    "### create new variables"
   ]
  },
  {
   "cell_type": "code",
   "execution_count": 39,
   "metadata": {},
   "outputs": [],
   "source": [
    "# set value of sex\n",
    "code_sex = codes[codes.VARIABLE == \"C2SEXO\"][['CODE', 'VALUE_en']].rename({'VALUE_en': 'sex'}, axis = 1)"
   ]
  },
  {
   "cell_type": "code",
   "execution_count": 40,
   "metadata": {},
   "outputs": [],
   "source": [
    "df_all = df_all.set_index('C2SEXO').join(code_sex.set_index('CODE')).reset_index()"
   ]
  },
  {
   "cell_type": "code",
   "execution_count": 41,
   "metadata": {},
   "outputs": [],
   "source": [
    "# start- and endtime, duration and speed\n",
    "df_all['start_time'] = pd.to_datetime(df_all.VORIHORAINI, format = '%H%M')"
   ]
  },
  {
   "cell_type": "code",
   "execution_count": 42,
   "metadata": {},
   "outputs": [],
   "source": [
    "# TODO\n",
    "# clean data with wrong times (TODO: how to handle 25 h properly? -> set to next weekday and start at 0h)\n",
    "# wrong quick fix: set all > 24h to 24 h\n",
    "df_all.loc[df_all.VDESHORAFIN == '2500', 'VDESHORAFIN'] = '2400'\n",
    "df_all.loc[df_all.VDESHORAFIN == '2505', 'VDESHORAFIN'] = '2405'\n",
    "df_all.loc[df_all.VDESHORAFIN == '2515', 'VDESHORAFIN'] = '2415'\n",
    "df_all.loc[df_all.VDESHORAFIN == '2530', 'VDESHORAFIN'] = '2430'\n",
    "df_all.loc[df_all.VDESHORAFIN == '2600', 'VDESHORAFIN'] = '2400'\n",
    "df_all.loc[df_all.VDESHORAFIN == '2800', 'VDESHORAFIN'] = '2400'"
   ]
  },
  {
   "cell_type": "code",
   "execution_count": 43,
   "metadata": {},
   "outputs": [],
   "source": [
    "df_all['end_time'] = pd.to_datetime(df_all.VDESHORAFIN, format = '%H%M', errors = 'coerce')\n",
    "df_all['duration'] = df_all.end_time - df_all.start_time"
   ]
  },
  {
   "cell_type": "code",
   "execution_count": 44,
   "metadata": {},
   "outputs": [],
   "source": [
    "df_all[\"speed\"] = np.where(df_all.duration.dt.total_seconds() != 0, # skip if start and Endtime is the same\n",
    "                       df_all.DISTANCIA_VIAJE / (df_all.duration.dt.seconds / 3600), np.NaN)"
   ]
  },
  {
   "cell_type": "code",
   "execution_count": 45,
   "metadata": {},
   "outputs": [],
   "source": [
    "# simplify modal split\n",
    "\n",
    "df_all[\"mode_simple\"] = df_all.MODO_PRIORITARIO\n",
    "df_all.loc[df_all.MODO_PRIORITARIO < 10, \"mode_simple\"] = \"public transport\"\n",
    "df_all.loc[(df_all.MODO_PRIORITARIO > 9) & (df_all.MODO_PRIORITARIO < 17), \"mode_simple\"] = \"car\"\n",
    "df_all.loc[(df_all.MODO_PRIORITARIO > 16) & (df_all.MODO_PRIORITARIO < 24), \"mode_simple\"] = \"other\"\n",
    "df_all.loc[df_all.MODO_PRIORITARIO == 24, \"mode_simple\"] = \"walk\""
   ]
  },
  {
   "cell_type": "code",
   "execution_count": 46,
   "metadata": {},
   "outputs": [],
   "source": [
    "# dataset for single trips without legs\n",
    "df = df_all.groupby([\"ID_HOGAR\", \"ID_IND\", \"ID_VIAJE\"]).first()"
   ]
  },
  {
   "cell_type": "markdown",
   "metadata": {},
   "source": [
    "#### Average distance traveled by Sex"
   ]
  },
  {
   "cell_type": "code",
   "execution_count": 47,
   "metadata": {},
   "outputs": [
    {
     "data": {
      "text/html": [
       "<div>\n",
       "<style scoped>\n",
       "    .dataframe tbody tr th:only-of-type {\n",
       "        vertical-align: middle;\n",
       "    }\n",
       "\n",
       "    .dataframe tbody tr th {\n",
       "        vertical-align: top;\n",
       "    }\n",
       "\n",
       "    .dataframe thead th {\n",
       "        text-align: right;\n",
       "    }\n",
       "</style>\n",
       "<table border=\"1\" class=\"dataframe\">\n",
       "  <thead>\n",
       "    <tr style=\"text-align: right;\">\n",
       "      <th></th>\n",
       "      <th>count</th>\n",
       "      <th>mean</th>\n",
       "      <th>std</th>\n",
       "      <th>min</th>\n",
       "      <th>25%</th>\n",
       "      <th>50%</th>\n",
       "      <th>75%</th>\n",
       "      <th>max</th>\n",
       "    </tr>\n",
       "    <tr>\n",
       "      <th>sex</th>\n",
       "      <th></th>\n",
       "      <th></th>\n",
       "      <th></th>\n",
       "      <th></th>\n",
       "      <th></th>\n",
       "      <th></th>\n",
       "      <th></th>\n",
       "      <th></th>\n",
       "    </tr>\n",
       "  </thead>\n",
       "  <tbody>\n",
       "    <tr>\n",
       "      <th>Man</th>\n",
       "      <td>101580.0</td>\n",
       "      <td>7.912443</td>\n",
       "      <td>48.427322</td>\n",
       "      <td>0.0</td>\n",
       "      <td>0.720371</td>\n",
       "      <td>2.439516</td>\n",
       "      <td>8.663173</td>\n",
       "      <td>4517.331249</td>\n",
       "    </tr>\n",
       "    <tr>\n",
       "      <th>Woman</th>\n",
       "      <td>121164.0</td>\n",
       "      <td>6.866701</td>\n",
       "      <td>64.050900</td>\n",
       "      <td>0.0</td>\n",
       "      <td>0.602751</td>\n",
       "      <td>1.900106</td>\n",
       "      <td>6.813408</td>\n",
       "      <td>4521.973558</td>\n",
       "    </tr>\n",
       "  </tbody>\n",
       "</table>\n",
       "</div>"
      ],
      "text/plain": [
       "          count      mean        std  min       25%       50%       75%  \\\n",
       "sex                                                                       \n",
       "Man    101580.0  7.912443  48.427322  0.0  0.720371  2.439516  8.663173   \n",
       "Woman  121164.0  6.866701  64.050900  0.0  0.602751  1.900106  6.813408   \n",
       "\n",
       "               max  \n",
       "sex                 \n",
       "Man    4517.331249  \n",
       "Woman  4521.973558  "
      ]
     },
     "execution_count": 47,
     "metadata": {},
     "output_type": "execute_result"
    }
   ],
   "source": [
    "df.groupby(\"sex\").DISTANCIA_VIAJE.describe()"
   ]
  },
  {
   "cell_type": "markdown",
   "metadata": {},
   "source": [
    "**weight by ELE_G_POND_ESC2**"
   ]
  },
  {
   "cell_type": "code",
   "execution_count": 48,
   "metadata": {},
   "outputs": [],
   "source": [
    "df[\"weighted_dist\"] = df.DISTANCIA_VIAJE * df.ELE_G_POND_ESC2"
   ]
  },
  {
   "cell_type": "code",
   "execution_count": 49,
   "metadata": {},
   "outputs": [
    {
     "data": {
      "text/plain": [
       "sex\n",
       "Man      7.887399\n",
       "Woman    6.419492\n",
       "dtype: float64"
      ]
     },
     "execution_count": 49,
     "metadata": {},
     "output_type": "execute_result"
    }
   ],
   "source": [
    "# get the weighted mean distance\n",
    "df_sex_sum = df.groupby(\"sex\").sum()\n",
    "df_sex_sum.weighted_dist / df_sex_sum.ELE_G_POND_ESC2 "
   ]
  },
  {
   "cell_type": "markdown",
   "metadata": {},
   "source": [
    "#### Average amount of trips by Sex"
   ]
  },
  {
   "cell_type": "code",
   "execution_count": 50,
   "metadata": {},
   "outputs": [
    {
     "data": {
      "text/plain": [
       "sex\n",
       "Man      2.883338\n",
       "Woman    3.030767\n",
       "Name: ID_VIAJE, dtype: float64"
      ]
     },
     "execution_count": 50,
     "metadata": {},
     "output_type": "execute_result"
    }
   ],
   "source": [
    "df.reset_index().groupby([\"ID_HOGAR\", \"ID_IND\", \"sex\"]\n",
    "          ).count().reset_index().groupby(\"sex\"\n",
    "                                         ).mean().ID_VIAJE"
   ]
  },
  {
   "cell_type": "markdown",
   "metadata": {},
   "source": [
    "**weight by ELE_G_POND_ESC2**"
   ]
  },
  {
   "cell_type": "code",
   "execution_count": 51,
   "metadata": {},
   "outputs": [
    {
     "data": {
      "text/plain": [
       "sex\n",
       "Man      2.816817\n",
       "Woman    2.941150\n",
       "dtype: float64"
      ]
     },
     "execution_count": 51,
     "metadata": {},
     "output_type": "execute_result"
    }
   ],
   "source": [
    "df_ind = df.groupby([\"ID_HOGAR\", \"ID_IND\", \"sex\"]).ELE_G_POND_ESC2.agg(['mean', 'sum'])\n",
    "df_ind_sex_sum = df_ind.groupby(\"sex\").sum()\n",
    "df_ind_sex_sum['sum'] / df_ind_sex_sum['mean']"
   ]
  },
  {
   "cell_type": "markdown",
   "metadata": {},
   "source": [
    "#### Modal split by sex"
   ]
  },
  {
   "cell_type": "markdown",
   "metadata": {},
   "source": [
    "**full modes**"
   ]
  },
  {
   "cell_type": "code",
   "execution_count": 52,
   "metadata": {},
   "outputs": [],
   "source": [
    "mode = df[[\"sex\", \"MODO_PRIORITARIO\"]]"
   ]
  },
  {
   "cell_type": "code",
   "execution_count": 53,
   "metadata": {},
   "outputs": [],
   "source": [
    "code_modes = codes[codes['VARIABLE'] == 'MODO_PRIORITARIO'][['CODE', 'VALUE_en']]"
   ]
  },
  {
   "cell_type": "code",
   "execution_count": 54,
   "metadata": {},
   "outputs": [],
   "source": [
    "mode = df.set_index('MODO_PRIORITARIO').join(code_modes.set_index('CODE'))"
   ]
  },
  {
   "cell_type": "code",
   "execution_count": 55,
   "metadata": {},
   "outputs": [
    {
     "data": {
      "text/html": [
       "<div>\n",
       "<style scoped>\n",
       "    .dataframe tbody tr th:only-of-type {\n",
       "        vertical-align: middle;\n",
       "    }\n",
       "\n",
       "    .dataframe tbody tr th {\n",
       "        vertical-align: top;\n",
       "    }\n",
       "\n",
       "    .dataframe thead th {\n",
       "        text-align: right;\n",
       "    }\n",
       "</style>\n",
       "<table border=\"1\" class=\"dataframe\">\n",
       "  <thead>\n",
       "    <tr style=\"text-align: right;\">\n",
       "      <th>sex</th>\n",
       "      <th>VALUE_en</th>\n",
       "      <th>Man</th>\n",
       "      <th>Woman</th>\n",
       "    </tr>\n",
       "  </thead>\n",
       "  <tbody>\n",
       "    <tr>\n",
       "      <th>17</th>\n",
       "      <td>Walking / standing '</td>\n",
       "      <td>0.144412</td>\n",
       "      <td>0.191588</td>\n",
       "    </tr>\n",
       "    <tr>\n",
       "      <th>21</th>\n",
       "      <td>particularly car driver '</td>\n",
       "      <td>0.151452</td>\n",
       "      <td>0.145014</td>\n",
       "    </tr>\n",
       "    <tr>\n",
       "      <th>22</th>\n",
       "      <td>particularly passenger car '</td>\n",
       "      <td>0.037918</td>\n",
       "      <td>0.054435</td>\n",
       "    </tr>\n",
       "    <tr>\n",
       "      <th>7</th>\n",
       "      <td>Meter '</td>\n",
       "      <td>0.035781</td>\n",
       "      <td>0.049775</td>\n",
       "    </tr>\n",
       "    <tr>\n",
       "      <th>15</th>\n",
       "      <td>Urban bus EMT Madrid '</td>\n",
       "      <td>0.022959</td>\n",
       "      <td>0.038874</td>\n",
       "    </tr>\n",
       "    <tr>\n",
       "      <th>...</th>\n",
       "      <td>...</td>\n",
       "      <td>...</td>\n",
       "      <td>...</td>\n",
       "    </tr>\n",
       "    <tr>\n",
       "      <th>1</th>\n",
       "      <td>Bicycle publishes'</td>\n",
       "      <td>0.000220</td>\n",
       "      <td>0.000112</td>\n",
       "    </tr>\n",
       "    <tr>\n",
       "      <th>2</th>\n",
       "      <td>Bus long haul '</td>\n",
       "      <td>0.000099</td>\n",
       "      <td>0.000072</td>\n",
       "    </tr>\n",
       "    <tr>\n",
       "      <th>13</th>\n",
       "      <td>Scooter / moped company '</td>\n",
       "      <td>0.000049</td>\n",
       "      <td>0.000009</td>\n",
       "    </tr>\n",
       "    <tr>\n",
       "      <th>0</th>\n",
       "      <td>Bicycle company '</td>\n",
       "      <td>0.000004</td>\n",
       "      <td>0.000004</td>\n",
       "    </tr>\n",
       "    <tr>\n",
       "      <th>14</th>\n",
       "      <td>Scooter / moped publishes'</td>\n",
       "      <td>0.000022</td>\n",
       "      <td>0.000000</td>\n",
       "    </tr>\n",
       "  </tbody>\n",
       "</table>\n",
       "<p>24 rows × 3 columns</p>\n",
       "</div>"
      ],
      "text/plain": [
       "sex                      VALUE_en       Man     Woman\n",
       "17           Walking / standing '  0.144412  0.191588\n",
       "21      particularly car driver '  0.151452  0.145014\n",
       "22   particularly passenger car '  0.037918  0.054435\n",
       "7                         Meter '  0.035781  0.049775\n",
       "15         Urban bus EMT Madrid '  0.022959  0.038874\n",
       "..                            ...       ...       ...\n",
       "1              Bicycle publishes'  0.000220  0.000112\n",
       "2                 Bus long haul '  0.000099  0.000072\n",
       "13      Scooter / moped company '  0.000049  0.000009\n",
       "0               Bicycle company '  0.000004  0.000004\n",
       "14     Scooter / moped publishes'  0.000022  0.000000\n",
       "\n",
       "[24 rows x 3 columns]"
      ]
     },
     "execution_count": 55,
     "metadata": {},
     "output_type": "execute_result"
    }
   ],
   "source": [
    "pd.crosstab(mode.sex, mode.VALUE_en, normalize = True).T.reset_index().sort_values(by = 'Woman', ascending = False)"
   ]
  },
  {
   "cell_type": "code",
   "execution_count": 56,
   "metadata": {},
   "outputs": [],
   "source": [
    "# weighted\n",
    "# TODO"
   ]
  },
  {
   "cell_type": "markdown",
   "metadata": {},
   "source": [
    "#### Average speed by mode and sex"
   ]
  },
  {
   "cell_type": "code",
   "execution_count": 57,
   "metadata": {},
   "outputs": [],
   "source": [
    "mode = df[[\"sex\", \"MODO_PRIORITARIO\", \"speed\"]]\n",
    "mode = mode.set_index('MODO_PRIORITARIO').join(code_modes.set_index('CODE'))"
   ]
  },
  {
   "cell_type": "code",
   "execution_count": 58,
   "metadata": {},
   "outputs": [
    {
     "data": {
      "text/html": [
       "<div>\n",
       "<style scoped>\n",
       "    .dataframe tbody tr th:only-of-type {\n",
       "        vertical-align: middle;\n",
       "    }\n",
       "\n",
       "    .dataframe tbody tr th {\n",
       "        vertical-align: top;\n",
       "    }\n",
       "\n",
       "    .dataframe thead tr th {\n",
       "        text-align: left;\n",
       "    }\n",
       "\n",
       "    .dataframe thead tr:last-of-type th {\n",
       "        text-align: right;\n",
       "    }\n",
       "</style>\n",
       "<table border=\"1\" class=\"dataframe\">\n",
       "  <thead>\n",
       "    <tr>\n",
       "      <th></th>\n",
       "      <th></th>\n",
       "      <th>mean</th>\n",
       "      <th>count</th>\n",
       "    </tr>\n",
       "    <tr>\n",
       "      <th></th>\n",
       "      <th></th>\n",
       "      <th>speed</th>\n",
       "      <th>speed</th>\n",
       "    </tr>\n",
       "    <tr>\n",
       "      <th>VALUE_en</th>\n",
       "      <th>sex</th>\n",
       "      <th></th>\n",
       "      <th></th>\n",
       "    </tr>\n",
       "  </thead>\n",
       "  <tbody>\n",
       "    <tr>\n",
       "      <th rowspan=\"2\" valign=\"top\">Bicycle company '</th>\n",
       "      <th>Man</th>\n",
       "      <td>9.397481</td>\n",
       "      <td>2</td>\n",
       "    </tr>\n",
       "    <tr>\n",
       "      <th>Woman</th>\n",
       "      <td>0.629729</td>\n",
       "      <td>2</td>\n",
       "    </tr>\n",
       "    <tr>\n",
       "      <th rowspan=\"2\" valign=\"top\">Bicycle publishes'</th>\n",
       "      <th>Man</th>\n",
       "      <td>6.960630</td>\n",
       "      <td>98</td>\n",
       "    </tr>\n",
       "    <tr>\n",
       "      <th>Woman</th>\n",
       "      <td>8.269321</td>\n",
       "      <td>50</td>\n",
       "    </tr>\n",
       "    <tr>\n",
       "      <th>Bus long haul '</th>\n",
       "      <th>Man</th>\n",
       "      <td>24.819488</td>\n",
       "      <td>44</td>\n",
       "    </tr>\n",
       "    <tr>\n",
       "      <th>...</th>\n",
       "      <th>...</th>\n",
       "      <td>...</td>\n",
       "      <td>...</td>\n",
       "    </tr>\n",
       "    <tr>\n",
       "      <th>particularly car driver '</th>\n",
       "      <th>Woman</th>\n",
       "      <td>22.152835</td>\n",
       "      <td>64514</td>\n",
       "    </tr>\n",
       "    <tr>\n",
       "      <th rowspan=\"2\" valign=\"top\">particularly passenger car '</th>\n",
       "      <th>Man</th>\n",
       "      <td>18.382696</td>\n",
       "      <td>16870</td>\n",
       "    </tr>\n",
       "    <tr>\n",
       "      <th>Woman</th>\n",
       "      <td>21.389065</td>\n",
       "      <td>24190</td>\n",
       "    </tr>\n",
       "    <tr>\n",
       "      <th rowspan=\"2\" valign=\"top\">passenger car business'</th>\n",
       "      <th>Man</th>\n",
       "      <td>20.187785</td>\n",
       "      <td>300</td>\n",
       "    </tr>\n",
       "    <tr>\n",
       "      <th>Woman</th>\n",
       "      <td>20.234563</td>\n",
       "      <td>302</td>\n",
       "    </tr>\n",
       "  </tbody>\n",
       "</table>\n",
       "<p>47 rows × 2 columns</p>\n",
       "</div>"
      ],
      "text/plain": [
       "                                         mean  count\n",
       "                                        speed  speed\n",
       "VALUE_en                     sex                    \n",
       "Bicycle company '            Man     9.397481      2\n",
       "                             Woman   0.629729      2\n",
       "Bicycle publishes'           Man     6.960630     98\n",
       "                             Woman   8.269321     50\n",
       "Bus long haul '              Man    24.819488     44\n",
       "...                                       ...    ...\n",
       "particularly car driver '    Woman  22.152835  64514\n",
       "particularly passenger car ' Man    18.382696  16870\n",
       "                             Woman  21.389065  24190\n",
       "passenger car business'      Man    20.187785    300\n",
       "                             Woman  20.234563    302\n",
       "\n",
       "[47 rows x 2 columns]"
      ]
     },
     "execution_count": 58,
     "metadata": {},
     "output_type": "execute_result"
    }
   ],
   "source": [
    "pd.pivot_table(mode, values = 'speed', index = ['VALUE_en', 'sex'], aggfunc = ['mean', 'count']) # .sort_values(['VALUE',('count', 'speed')], ascending = False)"
   ]
  },
  {
   "cell_type": "markdown",
   "metadata": {},
   "source": [
    "**aggregated modes**"
   ]
  },
  {
   "cell_type": "code",
   "execution_count": 59,
   "metadata": {},
   "outputs": [
    {
     "data": {
      "text/html": [
       "<div>\n",
       "<style scoped>\n",
       "    .dataframe tbody tr th:only-of-type {\n",
       "        vertical-align: middle;\n",
       "    }\n",
       "\n",
       "    .dataframe tbody tr th {\n",
       "        vertical-align: top;\n",
       "    }\n",
       "\n",
       "    .dataframe thead th {\n",
       "        text-align: right;\n",
       "    }\n",
       "</style>\n",
       "<table border=\"1\" class=\"dataframe\">\n",
       "  <thead>\n",
       "    <tr style=\"text-align: right;\">\n",
       "      <th>sex</th>\n",
       "      <th>Man</th>\n",
       "      <th>Woman</th>\n",
       "    </tr>\n",
       "    <tr>\n",
       "      <th>mode_simple</th>\n",
       "      <th></th>\n",
       "      <th></th>\n",
       "    </tr>\n",
       "  </thead>\n",
       "  <tbody>\n",
       "    <tr>\n",
       "      <th>car</th>\n",
       "      <td>44352</td>\n",
       "      <td>45582</td>\n",
       "    </tr>\n",
       "    <tr>\n",
       "      <th>walk</th>\n",
       "      <td>32167</td>\n",
       "      <td>42675</td>\n",
       "    </tr>\n",
       "    <tr>\n",
       "      <th>public transport</th>\n",
       "      <td>22344</td>\n",
       "      <td>32125</td>\n",
       "    </tr>\n",
       "    <tr>\n",
       "      <th>other</th>\n",
       "      <td>2717</td>\n",
       "      <td>782</td>\n",
       "    </tr>\n",
       "  </tbody>\n",
       "</table>\n",
       "</div>"
      ],
      "text/plain": [
       "sex                 Man  Woman\n",
       "mode_simple                   \n",
       "car               44352  45582\n",
       "walk              32167  42675\n",
       "public transport  22344  32125\n",
       "other              2717    782"
      ]
     },
     "execution_count": 59,
     "metadata": {},
     "output_type": "execute_result"
    }
   ],
   "source": [
    "pd.crosstab(df.sex, df.mode_simple, normalize = False).T.sort_values(by = 'Woman', ascending = False)"
   ]
  },
  {
   "cell_type": "code",
   "execution_count": 60,
   "metadata": {},
   "outputs": [
    {
     "data": {
      "text/plain": [
       "car                 0.436621\n",
       "walk                0.316667\n",
       "public transport    0.219965\n",
       "other               0.026747\n",
       "Name: mode_simple, dtype: float64"
      ]
     },
     "execution_count": 60,
     "metadata": {},
     "output_type": "execute_result"
    }
   ],
   "source": [
    "df[df.sex == 'Man'].mode_simple.value_counts(normalize = True)"
   ]
  },
  {
   "cell_type": "code",
   "execution_count": 61,
   "metadata": {},
   "outputs": [
    {
     "data": {
      "text/plain": [
       "car                 0.376201\n",
       "walk                0.352209\n",
       "public transport    0.265137\n",
       "other               0.006454\n",
       "Name: mode_simple, dtype: float64"
      ]
     },
     "execution_count": 61,
     "metadata": {},
     "output_type": "execute_result"
    }
   ],
   "source": [
    "df[df.sex == 'Woman'].mode_simple.value_counts(normalize = True)"
   ]
  },
  {
   "cell_type": "code",
   "execution_count": 62,
   "metadata": {},
   "outputs": [
    {
     "data": {
      "text/html": [
       "<div>\n",
       "<style scoped>\n",
       "    .dataframe tbody tr th:only-of-type {\n",
       "        vertical-align: middle;\n",
       "    }\n",
       "\n",
       "    .dataframe tbody tr th {\n",
       "        vertical-align: top;\n",
       "    }\n",
       "\n",
       "    .dataframe thead th {\n",
       "        text-align: right;\n",
       "    }\n",
       "</style>\n",
       "<table border=\"1\" class=\"dataframe\">\n",
       "  <thead>\n",
       "    <tr style=\"text-align: right;\">\n",
       "      <th>sex</th>\n",
       "      <th>mode_simple</th>\n",
       "      <th>Man</th>\n",
       "      <th>Woman</th>\n",
       "    </tr>\n",
       "  </thead>\n",
       "  <tbody>\n",
       "    <tr>\n",
       "      <th>0</th>\n",
       "      <td>car</td>\n",
       "      <td>0.199116</td>\n",
       "      <td>0.204639</td>\n",
       "    </tr>\n",
       "    <tr>\n",
       "      <th>3</th>\n",
       "      <td>walk</td>\n",
       "      <td>0.144412</td>\n",
       "      <td>0.191588</td>\n",
       "    </tr>\n",
       "    <tr>\n",
       "      <th>2</th>\n",
       "      <td>public transport</td>\n",
       "      <td>0.100312</td>\n",
       "      <td>0.144224</td>\n",
       "    </tr>\n",
       "    <tr>\n",
       "      <th>1</th>\n",
       "      <td>other</td>\n",
       "      <td>0.012198</td>\n",
       "      <td>0.003511</td>\n",
       "    </tr>\n",
       "  </tbody>\n",
       "</table>\n",
       "</div>"
      ],
      "text/plain": [
       "sex       mode_simple       Man     Woman\n",
       "0                 car  0.199116  0.204639\n",
       "3                walk  0.144412  0.191588\n",
       "2    public transport  0.100312  0.144224\n",
       "1               other  0.012198  0.003511"
      ]
     },
     "execution_count": 62,
     "metadata": {},
     "output_type": "execute_result"
    }
   ],
   "source": [
    "pd.crosstab(df.sex, df.mode_simple, normalize = True).T.reset_index().sort_values(by = 'Woman', ascending = False)"
   ]
  },
  {
   "cell_type": "markdown",
   "metadata": {},
   "source": [
    "### Etapas"
   ]
  },
  {
   "cell_type": "code",
   "execution_count": 63,
   "metadata": {},
   "outputs": [
    {
     "data": {
      "text/plain": [
       "mode_simple\n",
       "car                 1.001279\n",
       "other               1.000000\n",
       "public transport    1.629330\n",
       "walk                1.000000\n",
       "Name: N_ETAPAS_POR_VIAJE, dtype: float64"
      ]
     },
     "execution_count": 63,
     "metadata": {},
     "output_type": "execute_result"
    }
   ],
   "source": [
    "# check: multiple legs only with public transport\n",
    "df.groupby([\"mode_simple\"]).mean().N_ETAPAS_POR_VIAJE"
   ]
  },
  {
   "cell_type": "code",
   "execution_count": 64,
   "metadata": {},
   "outputs": [
    {
     "data": {
      "text/plain": [
       "<matplotlib.axes._subplots.AxesSubplot at 0x1ac311bbd88>"
      ]
     },
     "execution_count": 64,
     "metadata": {},
     "output_type": "execute_result"
    },
    {
     "data": {
      "image/png": "[encoded data removed]",
      "text/plain": [
       "<Figure size 432x288 with 1 Axes>"
      ]
     },
     "metadata": {
      "needs_background": "light"
     },
     "output_type": "display_data"
    }
   ],
   "source": [
    "# how many legs (Umstiege) per trip?\n",
    "df.groupby([\"ID_HOGAR\", \"ID_IND\", \"ID_VIAJE\"]).first().N_ETAPAS_POR_VIAJE.hist()"
   ]
  },
  {
   "cell_type": "code",
   "execution_count": 65,
   "metadata": {},
   "outputs": [
    {
     "data": {
      "text/plain": [
       "1.0    0.886120\n",
       "2.0    0.078579\n",
       "3.0    0.030492\n",
       "4.0    0.004404\n",
       "5.0    0.000386\n",
       "6.0    0.000018\n",
       "Name: N_ETAPAS_POR_VIAJE, dtype: float64"
      ]
     },
     "execution_count": 65,
     "metadata": {},
     "output_type": "execute_result"
    }
   ],
   "source": [
    "df.N_ETAPAS_POR_VIAJE.value_counts(normalize = True)"
   ]
  },
  {
   "cell_type": "code",
   "execution_count": 66,
   "metadata": {},
   "outputs": [
    {
     "data": {
      "text/plain": [
       "sex\n",
       "Man      1.136011\n",
       "Woman    1.169836\n",
       "Name: N_ETAPAS_POR_VIAJE, dtype: float64"
      ]
     },
     "execution_count": 66,
     "metadata": {},
     "output_type": "execute_result"
    }
   ],
   "source": [
    "# average legs by gender\n",
    "df.groupby(\"sex\").mean().N_ETAPAS_POR_VIAJE"
   ]
  },
  {
   "cell_type": "code",
   "execution_count": 69,
   "metadata": {},
   "outputs": [
    {
     "data": {
      "text/plain": [
       "sex\n",
       "Man      1.616004\n",
       "Woman    1.638599\n",
       "Name: N_ETAPAS_POR_VIAJE, dtype: float64"
      ]
     },
     "execution_count": 69,
     "metadata": {},
     "output_type": "execute_result"
    }
   ],
   "source": [
    "# average legs by gender only for public transport trips\n",
    "df[df.mode_simple == \"public transport\"].groupby(\"sex\").mean().N_ETAPAS_POR_VIAJE"
   ]
  }
 ],
 "metadata": {
  "kernelspec": {
   "display_name": "Python 3",
   "language": "python",
   "name": "python3"
  },
  "language_info": {
   "codemirror_mode": {
    "name": "ipython",
    "version": 3
   },
   "file_extension": ".py",
   "mimetype": "text/x-python",
   "name": "python",
   "nbconvert_exporter": "python",
   "pygments_lexer": "ipython3",
   "version": "3.7.4"
  }
 },
 "nbformat": 4,
 "nbformat_minor": 4
}
